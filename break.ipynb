{
 "cells": [
  {
   "cell_type": "markdown",
   "metadata": {},
   "source": [
    "# break"
   ]
  },
  {
   "cell_type": "code",
   "execution_count": 9,
   "metadata": {},
   "outputs": [
    {
     "name": "stdout",
     "output_type": "stream",
     "text": [
      "9\n",
      "8\n",
      "7\n",
      "6\n",
      "5\n",
      "4\n",
      "3\n"
     ]
    }
   ],
   "source": [
    "value=9\n",
    "while value>0:\n",
    "    print(value)\n",
    "    value=value-1\n",
    "    if value ==2:\n",
    "        break\n",
    "\n"
   ]
  },
  {
   "cell_type": "code",
   "execution_count": 1,
   "metadata": {},
   "outputs": [
    {
     "name": "stdout",
     "output_type": "stream",
     "text": [
      "6\n"
     ]
    }
   ],
   "source": [
    "#   break  infinite loop \n",
    "value=6\n",
    "while value==6:\n",
    "    print(value)\n",
    "    break "
   ]
  },
  {
   "cell_type": "code",
   "execution_count": 11,
   "metadata": {},
   "outputs": [
    {
     "name": "stdout",
     "output_type": "stream",
     "text": [
      "['a', 'b', 'c', 'd']\n",
      "end\n"
     ]
    }
   ],
   "source": [
    "list1=[\"a\",\"b\",\"c\",\"d\",\"e\",\"f\"]\n",
    "list2=[]\n",
    "for char in list1:\n",
    "    if char==\"e\":\n",
    "        break\n",
    "    list2.append(char)\n",
    "print(list2)\n",
    "print(\"end\")"
   ]
  },
  {
   "cell_type": "code",
   "execution_count": 4,
   "metadata": {},
   "outputs": [
    {
     "name": "stdout",
     "output_type": "stream",
     "text": [
      "2 is prime\n",
      "3 is prime\n",
      "4 is 2 x*x 2.0\n",
      "5 is prime\n",
      "6 is 2 x*x 3.0\n",
      "7 is prime\n",
      "8 is 2 x*x 4.0\n",
      "9 is 3 x*x 3.0\n",
      "10 is 2 x*x 5.0\n"
     ]
    }
   ],
   "source": [
    "for number in range(2,11):\n",
    "    for  x in range (2,number):\n",
    "        if number %x == 0:\n",
    "            print(number,\"is\",x,\"x*x\",number/x)\n",
    "            break\n",
    "    else:\n",
    "        print(number, \"is prime\")\n"
   ]
  },
  {
   "cell_type": "markdown",
   "metadata": {},
   "source": [
    "# difference between continue and break"
   ]
  },
  {
   "cell_type": "code",
   "execution_count": 12,
   "metadata": {},
   "outputs": [
    {
     "name": "stdout",
     "output_type": "stream",
     "text": [
      "8\n",
      "7\n"
     ]
    }
   ],
   "source": [
    "value=9\n",
    "while value>0:\n",
    "    value=value-1\n",
    "    if value==6:\n",
    "        break\n",
    "    print(value)"
   ]
  },
  {
   "cell_type": "code",
   "execution_count": 11,
   "metadata": {},
   "outputs": [
    {
     "name": "stdout",
     "output_type": "stream",
     "text": [
      "8\n",
      "7\n",
      "5\n",
      "4\n",
      "3\n",
      "2\n",
      "1\n",
      "0\n"
     ]
    }
   ],
   "source": [
    "value=9\n",
    "while value>0:\n",
    "    value=value-1\n",
    "    if value==6:\n",
    "        continue\n",
    "    print(value)"
   ]
  },
  {
   "cell_type": "code",
   "execution_count": 18,
   "metadata": {},
   "outputs": [
    {
     "name": "stdout",
     "output_type": "stream",
     "text": [
      "a\n",
      "b\n",
      "c\n",
      "d\n",
      "f\n",
      "g\n",
      "h\n"
     ]
    }
   ],
   "source": [
    "alphabet=[\"a\",\"b\",\"c\",\"d\",\"e\",\"f\",\"g\",\"h\"]\n",
    "for char in alphabet:\n",
    "    if char==\"e\":\n",
    "        continue\n",
    "    print(char)"
   ]
  },
  {
   "cell_type": "code",
   "execution_count": 28,
   "metadata": {},
   "outputs": [
    {
     "name": "stdout",
     "output_type": "stream",
     "text": [
      "['a', 'b', 'c', 'd', 'e', 'g', 'h']\n"
     ]
    }
   ],
   "source": [
    "alphabet=[\"a\",\"b\",\"c\",\"d\",\"e\",\"f\",\"g\",\"h\"]\n",
    "a=[]\n",
    "for char in alphabet:\n",
    "    a.append(char)\n",
    "    if char==\"f\":\n",
    "        a.remove(\"f\")\n",
    "        continue\n",
    "print(a)"
   ]
  },
  {
   "cell_type": "code",
   "execution_count": 29,
   "metadata": {},
   "outputs": [
    {
     "name": "stdout",
     "output_type": "stream",
     "text": [
      "['a', 'b', 'c', 'd', 'e']\n"
     ]
    }
   ],
   "source": [
    "alphabet=[\"a\",\"b\",\"c\",\"d\",\"e\",\"f\",\"g\",\"h\"]\n",
    "a=[]\n",
    "for char in alphabet:\n",
    "    a.append(char)\n",
    "    if char==\"f\":\n",
    "        a.remove(\"f\")\n",
    "        break\n",
    "print(a)"
   ]
  },
  {
   "cell_type": "code",
   "execution_count": 60,
   "metadata": {},
   "outputs": [
    {
     "name": "stdout",
     "output_type": "stream",
     "text": [
      "saturday\n",
      "sunday\n",
      "monday\n",
      "tuesday\n",
      "tursday\n",
      "friday\n"
     ]
    }
   ],
   "source": [
    "a=(\"saturday\",\"sunday\",\"monday\",\"tuesday\",\"wendesday\",\"tursday\",\"friday\")\n",
    "for Day in a :\n",
    "    if Day[0]==\"w\":\n",
    "        continue\n",
    "    index=index+1\n",
    "    print(Day)\n",
    "\n"
   ]
  },
  {
   "cell_type": "code",
   "execution_count": 51,
   "metadata": {},
   "outputs": [
    {
     "name": "stdout",
     "output_type": "stream",
     "text": [
      "saturday\n",
      "sunday\n",
      "tuesday\n",
      "wendesday\n",
      "tursday\n",
      "friday\n"
     ]
    }
   ],
   "source": [
    "a=(\"saturday\",\"sunday\",\"monday\",\"tuesday\",\"wendesday\",\"tursday\",\"friday\")\n",
    "for Day in a :\n",
    "    if Day[0:1] == \"m\":\n",
    "        continue\n",
    "    print(Day)\n",
    "\n"
   ]
  },
  {
   "cell_type": "code",
   "execution_count": 61,
   "metadata": {},
   "outputs": [
    {
     "name": "stdout",
     "output_type": "stream",
     "text": [
      "saturday\n",
      "tuesday\n",
      "wendesday\n",
      "tursday\n"
     ]
    }
   ],
   "source": [
    "a=(\"saturday\",\"sunday\",\"monday\",\"tuesday\",\"wendesday\",\"tursday\",\"friday\")\n",
    "for Day in a :\n",
    "    if Day[3:7] == \"day\":\n",
    "        continue\n",
    "    print(Day)"
   ]
  },
  {
   "cell_type": "code",
   "execution_count": 68,
   "metadata": {},
   "outputs": [
    {
     "name": "stdout",
     "output_type": "stream",
     "text": [
      "[3, 5, 7, 9, 11]\n"
     ]
    }
   ],
   "source": [
    "a=[2,3,4,5,6,7,8,9,10,11]\n",
    "number_odd=[]\n",
    "for number in a:\n",
    "    if number %2 !=0:\n",
    "        number_odd.append(number)\n",
    "print(number_odd)\n",
    "\n",
    "\n"
   ]
  }
 ],
 "metadata": {
  "kernelspec": {
   "display_name": "python_beginner",
   "language": "python",
   "name": "python3"
  },
  "language_info": {
   "codemirror_mode": {
    "name": "ipython",
    "version": 3
   },
   "file_extension": ".py",
   "mimetype": "text/x-python",
   "name": "python",
   "nbconvert_exporter": "python",
   "pygments_lexer": "ipython3",
   "version": "3.8.2"
  }
 },
 "nbformat": 4,
 "nbformat_minor": 2
}
