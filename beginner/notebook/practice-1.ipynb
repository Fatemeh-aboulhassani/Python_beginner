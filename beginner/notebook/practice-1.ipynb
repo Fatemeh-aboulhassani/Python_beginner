{
 "cells": [
  {
   "cell_type": "markdown",
   "metadata": {},
   "source": [
    "# Date based on Day number"
   ]
  },
  {
   "cell_type": "code",
   "execution_count": null,
   "metadata": {},
   "outputs": [],
   "source": [
    "Daynum=int(input(\"enter the number: \"))\n",
    "month=0\n",
    "day=0\n",
    "if 0<Daynum<= 186:\n",
    "    month=(Daynum//31)+1\n",
    "    day=Daynum %31\n",
    "print(\"today is: \",month,day)\n",
    "if 187<Daynum<=336:\n",
    "    month=Daynum//30+1\n",
    "    Day=(Daynum-186)%30\n",
    "    print(\"today is : \",month,day)"
   ]
  },
  {
   "cell_type": "code",
   "execution_count": null,
   "metadata": {},
   "outputs": [],
   "source": [
    "Daynum=int(input(\"enter the number: \"))\n",
    "month=0\n",
    "day=0\n",
    "if 0<Daynum<= 186:\n",
    "    month=(Daynum//31)+1\n",
    "    day=Daynum %31\n",
    "    print(\"today is: \",month,day)\n",
    "if 186<Daynum<=365:\n",
    "    Daynum -=186\n",
    "    month=(Daynum//30)+1+6\n",
    "    Day=(Daynum%30)\n",
    "    print(\"today is : \",month,Day)"
   ]
  }
 ],
 "metadata": {
  "language_info": {
   "name": "python"
  }
 },
 "nbformat": 4,
 "nbformat_minor": 2
}
