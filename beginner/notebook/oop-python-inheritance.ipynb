{
 "cells": [
  {
   "cell_type": "code",
   "execution_count": 7,
   "metadata": {},
   "outputs": [
    {
     "name": "stdout",
     "output_type": "stream",
     "text": [
      "6\n"
     ]
    }
   ],
   "source": [
    "\n",
    "\n",
    "class Rect:\n",
    "    def __init__(self,x,y):\n",
    "        self.x=x\n",
    "        self.y=y\n",
    "\n",
    "    def area(self):\n",
    "            return self.x*self.y\n",
    "\n",
    "\n",
    "r=Rect(2,3)\n",
    "print(r.area())\n",
    "\n",
    "    "
   ]
  },
  {
   "cell_type": "code",
   "execution_count": 8,
   "metadata": {},
   "outputs": [
    {
     "name": "stdout",
     "output_type": "stream",
     "text": [
      "6\n"
     ]
    }
   ],
   "source": [
    "# @property\n",
    "\n",
    "\n",
    "\n",
    "class Rect:\n",
    "    def __init__(self,x,y):\n",
    "        self.x=x\n",
    "        self.y=y\n",
    "\n",
    "    @property    # with @propery i can write r.area without ()\n",
    "    def area(self):\n",
    "            return self.x*self.y\n",
    "\n",
    "\n",
    "r=Rect(2,3)\n",
    "print(r.area)\n",
    "\n",
    "    \n",
    "\n"
   ]
  },
  {
   "cell_type": "code",
   "execution_count": 9,
   "metadata": {},
   "outputs": [
    {
     "name": "stdout",
     "output_type": "stream",
     "text": [
      "6\n",
      "25\n"
     ]
    }
   ],
   "source": [
    "\n",
    "\n",
    "class Rect:\n",
    "    def __init__(self,x,y):\n",
    "        self.x=x\n",
    "        self.y=y\n",
    "\n",
    "    @property\n",
    "    def area(self):\n",
    "            return self.x*self.y\n",
    "    \n",
    "\n",
    "class Square(Rect):\n",
    "     def __init__(self,z):\n",
    "          super().__init__(x=z,y=z)  \n",
    "          \n",
    "r=Rect(2,3)\n",
    "print(r.area)\n",
    "s=Square(5)\n",
    "print(s.area)\n",
    "\n",
    "    "
   ]
  },
  {
   "cell_type": "code",
   "execution_count": 15,
   "metadata": {},
   "outputs": [
    {
     "name": "stdout",
     "output_type": "stream",
     "text": [
      "12\n",
      "20\n",
      "16\n",
      "36\n"
     ]
    }
   ],
   "source": [
    "class Rect:\n",
    "    def __init__(self,x,y):\n",
    "        self.x=x\n",
    "        self.y=y\n",
    "\n",
    "    @property\n",
    "\n",
    "    def area(self):\n",
    "        return self.x*self.y\n",
    "    \n",
    "\n",
    "class Square(Rect):\n",
    "    def __init__(self,z):\n",
    "        super().__init__(x=z,y=z)\n",
    "\n",
    "\n",
    "\n",
    "c=Rect(3,4)\n",
    "print(c.area)\n",
    "\n",
    "c1=Rect(4,5)\n",
    "print(c1.area)\n",
    "\n",
    "c2=Square(4)\n",
    "print(c2.area)\n",
    "    \n",
    "\n",
    "c3=Square(6)\n",
    "print(c3.area)"
   ]
  },
  {
   "cell_type": "code",
   "execution_count": 8,
   "metadata": {},
   "outputs": [
    {
     "name": "stdout",
     "output_type": "stream",
     "text": [
      "24\n",
      "30\n"
     ]
    }
   ],
   "source": [
    "class A:\n",
    "    def __init__(self,x,y):\n",
    "        self.__x=3    # __x is protected and i want to avoid name conflict\n",
    "        self.y=y\n",
    "\n",
    "\n",
    "    @property\n",
    "    def area(self):\n",
    "        return self.__x*self.y\n",
    "    \n",
    "\n",
    "c=A(2,8)\n",
    "\n",
    "print(c.area)\n",
    "\n",
    "c1=A(5,10)\n",
    "print(c1.area)\n",
    "\n",
    "\n",
    "# self._x means that the variable _x is private or protected."
   ]
  },
  {
   "cell_type": "code",
   "execution_count": 11,
   "metadata": {},
   "outputs": [
    {
     "name": "stdout",
     "output_type": "stream",
     "text": [
      "24\n"
     ]
    }
   ],
   "source": [
    "class A:\n",
    "    def __init__(self,x,y):\n",
    "        self.__x=3    # __x is protected and i want to avoid name conflict\n",
    "        self.y=y\n",
    "\n",
    "\n",
    "    @property\n",
    "    def area(self):\n",
    "        return self.__x*self.y\n",
    "    \n",
    "\n",
    "class B(A):\n",
    "    def __init__(self,z):\n",
    "        super().__init__(x=z,y=z)\n",
    "\n",
    "\n",
    "\n",
    "\n",
    "c=B(8)\n",
    "\n",
    "print(c.area)     # 8*8=64 (false)      ## 3*8=23  x=protected"
   ]
  },
  {
   "cell_type": "code",
   "execution_count": 37,
   "metadata": {},
   "outputs": [
    {
     "name": "stdout",
     "output_type": "stream",
     "text": [
      "10 9\n",
      "10\n",
      "5\n",
      "9\n",
      "12\n"
     ]
    }
   ],
   "source": [
    "class A:\n",
    "    def __init__(self):\n",
    "        self.__x=10\n",
    "        self.y=12\n",
    "\n",
    "\n",
    "    def p(self):\n",
    "        print(self.__x, self.y)\n",
    "\n",
    "class B(A):\n",
    "    def __init__(self):\n",
    "        super().__init__()\n",
    "        self.__x=5\n",
    "        self.y=9\n",
    "\n",
    "b=B()\n",
    "b.p()\n",
    "print(b._A__x)\n",
    "\n",
    "print(b._B__x)\n",
    "\n",
    "c=A()\n",
    "print(b.y)\n",
    "print(c.y)\n"
   ]
  },
  {
   "cell_type": "code",
   "execution_count": 9,
   "metadata": {},
   "outputs": [
    {
     "name": "stdout",
     "output_type": "stream",
     "text": [
      "A\n",
      "4\n"
     ]
    }
   ],
   "source": [
    "class A:\n",
    "    def __init__(self):\n",
    "        print(\"A\")\n",
    "        self.x=3\n",
    "\n",
    "    def func(self):\n",
    "        self.x=10\n",
    "\n",
    "class B(A):\n",
    "    def func(self):\n",
    "        self.x +=1\n",
    "        return self.x\n",
    "\n",
    "c=B()\n",
    "print(c.func())"
   ]
  },
  {
   "cell_type": "code",
   "execution_count": 18,
   "metadata": {},
   "outputs": [
    {
     "name": "stdout",
     "output_type": "stream",
     "text": [
      "MM\n",
      "hello\n"
     ]
    }
   ],
   "source": [
    "class A:\n",
    "    def __init__(self):\n",
    "        print(\"MM\")\n",
    "\n",
    "    def __str__(self):\n",
    "        return \"hello\"\n",
    "    \n",
    "    \n",
    "\n",
    "c=A()\n",
    "print(c)"
   ]
  },
  {
   "cell_type": "code",
   "execution_count": 24,
   "metadata": {},
   "outputs": [
    {
     "name": "stdout",
     "output_type": "stream",
     "text": [
      "Fatemeh\n"
     ]
    },
    {
     "data": {
      "text/plain": [
       "' Hello'"
      ]
     },
     "execution_count": 24,
     "metadata": {},
     "output_type": "execute_result"
    }
   ],
   "source": [
    "class A:\n",
    "    def __init__(self):\n",
    "        print(\"Fatemeh\")\n",
    "    def show(self):\n",
    "        return \" Hello\"\n",
    "\n",
    "\n",
    "\n",
    "c=A()\n",
    "# print(c)   # <__main__.A object at 0x05EDA8E0>\n",
    "c.show()"
   ]
  },
  {
   "cell_type": "code",
   "execution_count": 28,
   "metadata": {},
   "outputs": [
    {
     "name": "stdout",
     "output_type": "stream",
     "text": [
      "Fatemeh\n",
      " Hello\n"
     ]
    }
   ],
   "source": [
    "class A:\n",
    "    def __init__(self):\n",
    "        print(\"Fatemeh\")\n",
    "    def show(self):\n",
    "        return \" Hello\"\n",
    "    \n",
    "    def __str__(self):\n",
    "        return self.show()\n",
    "\n",
    "\n",
    "\n",
    "c=A()\n",
    "print(c)"
   ]
  },
  {
   "cell_type": "code",
   "execution_count": 48,
   "metadata": {},
   "outputs": [
    {
     "name": "stdout",
     "output_type": "stream",
     "text": [
      "A\n",
      "hello\n",
      "-------\n",
      "B\n",
      "A\n",
      "hello\n",
      "-------\n",
      "C\n",
      "B\n",
      "A\n",
      "-------\n"
     ]
    }
   ],
   "source": [
    "class A:\n",
    "    def __init__(self):\n",
    "        print(\"A\")\n",
    "        super().__init__()\n",
    "\n",
    "    def __str__(self):\n",
    "        return \"hello\"\n",
    "    \n",
    "class B(A):\n",
    "    def __init__(self):\n",
    "        print(\"B\")\n",
    "        super().__init__()\n",
    "\n",
    "class C(B):\n",
    "    def __init__(Self):\n",
    "        print(\"C\")\n",
    "        super().__init__()\n",
    "\n",
    "a=A()\n",
    "print(a)\n",
    "print(\"-------\")\n",
    "b=B()\n",
    "print(b)\n",
    "print(\"-------\")\n",
    "c=C()\n",
    "print(\"-------\")\n",
    "\n"
   ]
  },
  {
   "cell_type": "code",
   "execution_count": 58,
   "metadata": {},
   "outputs": [
    {
     "name": "stdout",
     "output_type": "stream",
     "text": [
      "PP\n",
      "hello\n",
      "-----\n",
      "QQ\n",
      "PP\n",
      "hello\n"
     ]
    }
   ],
   "source": [
    "class P:\n",
    "    def __init__(self):\n",
    "        print(\"PP\")\n",
    "\n",
    "    def __str__(self):\n",
    "        return \"hello\"\n",
    "    \n",
    "class Q(P):\n",
    "    def __init__(self):\n",
    "        print(\"QQ\")\n",
    "        super().__init__()\n",
    "\n",
    "\n",
    "p=P()\n",
    "print(p)\n",
    "print(\"-----\")\n",
    "q=Q()\n",
    "print(q)"
   ]
  },
  {
   "cell_type": "code",
   "execution_count": 73,
   "metadata": {},
   "outputs": [
    {
     "name": "stdout",
     "output_type": "stream",
     "text": [
      "A\n",
      "B\n"
     ]
    }
   ],
   "source": [
    "class A:\n",
    "    def h(self):\n",
    "        return \"A\"\n",
    "    def f(self):\n",
    "        print(self.h())\n",
    "\n",
    "        \n",
    "class B(A):\n",
    "    def h(self):\n",
    "        return \"B\"\n",
    "\n",
    "A().f()\n",
    "B().f()\n"
   ]
  }
 ],
 "metadata": {
  "kernelspec": {
   "display_name": "python_beginner",
   "language": "python",
   "name": "python3"
  },
  "language_info": {
   "codemirror_mode": {
    "name": "ipython",
    "version": 3
   },
   "file_extension": ".py",
   "mimetype": "text/x-python",
   "name": "python",
   "nbconvert_exporter": "python",
   "pygments_lexer": "ipython3",
   "version": "3.8.2"
  }
 },
 "nbformat": 4,
 "nbformat_minor": 2
}
