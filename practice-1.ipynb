{
 "cells": [
  {
   "cell_type": "markdown",
   "metadata": {},
   "source": [
    "# Date based on Day number"
   ]
  },
  {
   "cell_type": "code",
   "execution_count": null,
   "metadata": {},
   "outputs": [],
   "source": [
    "Daynum=int(input(\"enter the number: \"))\n",
    "month=0\n",
    "day=0\n",
    "if 0<Daynum<= 186:\n",
    "    month=(Daynum//31)+1\n",
    "    day=Daynum %31\n",
    "print(\"today is: \",month,day)"
   ]
  }
 ],
 "metadata": {
  "language_info": {
   "name": "python"
  }
 },
 "nbformat": 4,
 "nbformat_minor": 2
}
