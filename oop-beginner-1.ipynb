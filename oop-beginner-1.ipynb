{
 "cells": [
  {
   "cell_type": "code",
   "execution_count": 2,
   "metadata": {},
   "outputs": [
    {
     "name": "stdout",
     "output_type": "stream",
     "text": [
      "<class 'set'>\n",
      "4\n",
      "False\n",
      "True\n"
     ]
    }
   ],
   "source": [
    "# Set\n",
    "S={\"a\",\"e\",\"o\",\"i\"}\n",
    "print(type(S))\n",
    "print(len(S))\n",
    "print(\"U\" in S)\n",
    "if \"a\" in S:\n",
    "    print(\"True\")\n",
    "else:\n",
    "    print(\"False\")"
   ]
  },
  {
   "cell_type": "code",
   "execution_count": 5,
   "metadata": {},
   "outputs": [
    {
     "name": "stdout",
     "output_type": "stream",
     "text": [
      "{'o', 'u', 'a', 'i', 'e'}\n"
     ]
    }
   ],
   "source": [
    "S={\"a\",\"e\",\"o\",\"i\"}\n",
    "\n",
    "S.add(\"u\")\n",
    "print(S)\n",
    "\n"
   ]
  },
  {
   "cell_type": "code",
   "execution_count": 11,
   "metadata": {},
   "outputs": [
    {
     "name": "stdout",
     "output_type": "stream",
     "text": [
      "{'d', 'c', 'f'}\n",
      "{'d', 'c', 'f'}\n"
     ]
    }
   ],
   "source": [
    "S1={\"b\",\"c\",\"d\",\"f\"}\n",
    "S={\"a\",\"e\",\"o\",\"i\"}\n",
    "\n",
    "S1.remove(\"b\")\n",
    "print(S1)\n",
    "c=S1.copy()\n",
    "print(c)"
   ]
  },
  {
   "cell_type": "code",
   "execution_count": 12,
   "metadata": {},
   "outputs": [
    {
     "data": {
      "text/plain": [
       "False"
      ]
     },
     "execution_count": 12,
     "metadata": {},
     "output_type": "execute_result"
    }
   ],
   "source": [
    "a=[1,4]\n",
    "b=[4,1]\n",
    "a==b"
   ]
  },
  {
   "cell_type": "code",
   "execution_count": 14,
   "metadata": {},
   "outputs": [
    {
     "data": {
      "text/plain": [
       "True"
      ]
     },
     "execution_count": 14,
     "metadata": {},
     "output_type": "execute_result"
    }
   ],
   "source": [
    "a1={1,2,3,4}\n",
    "b1={4,3,1,2}\n",
    "a1==b1"
   ]
  },
  {
   "cell_type": "code",
   "execution_count": 23,
   "metadata": {},
   "outputs": [
    {
     "name": "stdout",
     "output_type": "stream",
     "text": [
      "{2}\n",
      "{1, 2, 3, 4, 5, 8}\n",
      "{1, 2, 3, 4, 5, 8}\n",
      "{1, 3, 4, 5}\n",
      "{1, 3, 4, 5}\n"
     ]
    }
   ],
   "source": [
    "x={1,2,3,4,5}\n",
    "y={8,2}\n",
    "print(x.intersection(y))  # eshterak\n",
    "\n",
    "print(x.union(y))\n",
    "print(x|y)   # X|y == x.union(y)\n",
    "\n",
    "print(x.difference(y))\n",
    "print(x-y)   # x-y==x.difference(y)\n"
   ]
  },
  {
   "cell_type": "code",
   "execution_count": 31,
   "metadata": {},
   "outputs": [
    {
     "name": "stdout",
     "output_type": "stream",
     "text": [
      "{1, 2, 3, 7, 8, 9}\n",
      "{1, 2, 3, 4, 5, 6, 7, 8, 9}\n",
      "{4, 5, 6}\n",
      "{1, 2, 3, 7, 8, 9}\n"
     ]
    }
   ],
   "source": [
    "aa={1,2,3,4,5,6}\n",
    "bb={4,5,6,7,8,9}\n",
    "\n",
    "print(aa.symmetric_difference(bb))\n",
    "\n",
    "# ==\n",
    "\n",
    "union_ab=aa.union(bb)\n",
    "print(union_ab)\n",
    "intersection_ab=aa.intersection(bb)\n",
    "print(intersection_ab)\n",
    "symetric_difference_ab=union_ab.difference(intersection_ab)\n",
    "print(symetric_difference_ab)\n",
    "\n"
   ]
  },
  {
   "cell_type": "code",
   "execution_count": 32,
   "metadata": {},
   "outputs": [
    {
     "name": "stdout",
     "output_type": "stream",
     "text": [
      "fatemeh\n"
     ]
    }
   ],
   "source": [
    "# function\n",
    "\n",
    "def f():\n",
    "    print(\"fatemeh\")\n",
    "\n",
    "f()"
   ]
  },
  {
   "cell_type": "code",
   "execution_count": 33,
   "metadata": {},
   "outputs": [
    {
     "name": "stdout",
     "output_type": "stream",
     "text": [
      "fatemeh\n"
     ]
    }
   ],
   "source": [
    "def h():\n",
    "    return \"fatemeh\"\n",
    "\n",
    "print(h())"
   ]
  },
  {
   "cell_type": "code",
   "execution_count": 38,
   "metadata": {},
   "outputs": [
    {
     "name": "stdout",
     "output_type": "stream",
     "text": [
      "12\n"
     ]
    }
   ],
   "source": [
    "def f(x,y):\n",
    "    if x>y:\n",
    "        return x\n",
    "    return y\n",
    "\n",
    "def g(x,y,z):\n",
    "    return f(x,f(y,z))\n",
    "\n",
    "print(g(4,12,9))"
   ]
  },
  {
   "cell_type": "code",
   "execution_count": 40,
   "metadata": {},
   "outputs": [
    {
     "name": "stdout",
     "output_type": "stream",
     "text": [
      "8\n",
      "9\n"
     ]
    }
   ],
   "source": [
    "def f(a,b):\n",
    "    a *=2\n",
    "    b +=3\n",
    "    return a, b\n",
    "\n",
    "x=4\n",
    "y=6\n",
    "m,n=f(x,y)\n",
    "\n",
    "print(m)\n",
    "print(n)\n"
   ]
  },
  {
   "cell_type": "code",
   "execution_count": 46,
   "metadata": {},
   "outputs": [
    {
     "name": "stdout",
     "output_type": "stream",
     "text": [
      "8\n",
      "3.0\n"
     ]
    }
   ],
   "source": [
    "def f(lst):\n",
    "    lst[0] *=2\n",
    "    lst[1] /=3\n",
    "\n",
    "a=[4,9]\n",
    "f(a)\n",
    "print(a[0])\n",
    "print(a[1])"
   ]
  },
  {
   "cell_type": "code",
   "execution_count": 55,
   "metadata": {},
   "outputs": [
    {
     "name": "stdout",
     "output_type": "stream",
     "text": [
      "112\n",
      "4.0\n",
      "{'x': 112, 'y': 4.0}\n",
      "<class 'dict'>\n"
     ]
    }
   ],
   "source": [
    "def h(my_dict):\n",
    "    my_dict[\"x\"] *=2\n",
    "    my_dict[\"y\"] /=3\n",
    "\n",
    "\n",
    "d={\"x\":56,\"y\":12}\n",
    "h(d)\n",
    "print(d[\"x\"])\n",
    "print(d[\"y\"])\n",
    "\n",
    "print(d)\n",
    "print(type(d))"
   ]
  },
  {
   "cell_type": "code",
   "execution_count": 60,
   "metadata": {},
   "outputs": [
    {
     "name": "stdout",
     "output_type": "stream",
     "text": [
      "8\n",
      "3\n"
     ]
    }
   ],
   "source": [
    "def f(*, x=8):  \n",
    "    print(x)\n",
    "\n",
    "f()\n",
    "f(x=3)\n",
    "\n",
    "# f(3)    output=error\n"
   ]
  },
  {
   "cell_type": "code",
   "execution_count": 63,
   "metadata": {},
   "outputs": [
    {
     "name": "stdout",
     "output_type": "stream",
     "text": [
      "ali.reza\n"
     ]
    }
   ],
   "source": [
    "def f(*x, y=\".\"):\n",
    "    return y.join(x)\n",
    "\n",
    "\n",
    "\n",
    "print(f(\"ali\", \"reza\"))\n",
    "\n"
   ]
  },
  {
   "cell_type": "code",
   "execution_count": 69,
   "metadata": {},
   "outputs": [
    {
     "name": "stdout",
     "output_type": "stream",
     "text": [
      "sara/ali\n",
      "sara-ali\n"
     ]
    }
   ],
   "source": [
    "def f(*x, y=\"/\"):\n",
    "    return y.join(x)\n",
    "\n",
    "print(f(\"sara\",\"ali\"))\n",
    "print(f(\"sara\",\"ali\",y=\"-\"))"
   ]
  },
  {
   "cell_type": "code",
   "execution_count": 74,
   "metadata": {},
   "outputs": [
    {
     "name": "stdout",
     "output_type": "stream",
     "text": [
      "5 7 9\n",
      "1 76 9\n"
     ]
    }
   ],
   "source": [
    "def test(a, *, b=7, c=9):\n",
    "    print(a,b,c)\n",
    "\n",
    "\n",
    "test(5)\n",
    "test(1,b=76)"
   ]
  },
  {
   "cell_type": "code",
   "execution_count": 75,
   "metadata": {},
   "outputs": [
    {
     "name": "stdout",
     "output_type": "stream",
     "text": [
      "3\n",
      "4\n",
      "(7, 4, 1)\n",
      "{'x': 6, 'y': 8, 'p': 12}\n"
     ]
    }
   ],
   "source": [
    "def j(a,b,*c,**d):\n",
    "    print(a)\n",
    "    print(b)\n",
    "    print(c)\n",
    "    print(d)\n",
    "\n",
    "\n",
    "j(3,4,7,4,1,x=6,y=8,p=12)"
   ]
  },
  {
   "cell_type": "code",
   "execution_count": null,
   "metadata": {},
   "outputs": [],
   "source": []
  }
 ],
 "metadata": {
  "kernelspec": {
   "display_name": "python_beginner",
   "language": "python",
   "name": "python3"
  },
  "language_info": {
   "codemirror_mode": {
    "name": "ipython",
    "version": 3
   },
   "file_extension": ".py",
   "mimetype": "text/x-python",
   "name": "python",
   "nbconvert_exporter": "python",
   "pygments_lexer": "ipython3",
   "version": "3.8.2"
  }
 },
 "nbformat": 4,
 "nbformat_minor": 2
}
