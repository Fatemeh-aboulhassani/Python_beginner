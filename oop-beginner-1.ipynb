{
 "cells": [
  {
   "cell_type": "code",
   "execution_count": 2,
   "metadata": {},
   "outputs": [
    {
     "name": "stdout",
     "output_type": "stream",
     "text": [
      "<class 'set'>\n",
      "4\n",
      "False\n",
      "True\n"
     ]
    }
   ],
   "source": [
    "# Set\n",
    "S={\"a\",\"e\",\"o\",\"i\"}\n",
    "print(type(S))\n",
    "print(len(S))\n",
    "print(\"U\" in S)\n",
    "if \"a\" in S:\n",
    "    print(\"True\")\n",
    "else:\n",
    "    print(\"False\")"
   ]
  },
  {
   "cell_type": "code",
   "execution_count": 5,
   "metadata": {},
   "outputs": [
    {
     "name": "stdout",
     "output_type": "stream",
     "text": [
      "{'o', 'u', 'a', 'i', 'e'}\n"
     ]
    }
   ],
   "source": [
    "S={\"a\",\"e\",\"o\",\"i\"}\n",
    "\n",
    "S.add(\"u\")\n",
    "print(S)\n",
    "\n"
   ]
  },
  {
   "cell_type": "code",
   "execution_count": 11,
   "metadata": {},
   "outputs": [
    {
     "name": "stdout",
     "output_type": "stream",
     "text": [
      "{'d', 'c', 'f'}\n",
      "{'d', 'c', 'f'}\n"
     ]
    }
   ],
   "source": [
    "S1={\"b\",\"c\",\"d\",\"f\"}\n",
    "S={\"a\",\"e\",\"o\",\"i\"}\n",
    "\n",
    "S1.remove(\"b\")\n",
    "print(S1)\n",
    "c=S1.copy()\n",
    "print(c)"
   ]
  },
  {
   "cell_type": "code",
   "execution_count": 12,
   "metadata": {},
   "outputs": [
    {
     "data": {
      "text/plain": [
       "False"
      ]
     },
     "execution_count": 12,
     "metadata": {},
     "output_type": "execute_result"
    }
   ],
   "source": [
    "a=[1,4]\n",
    "b=[4,1]\n",
    "a==b"
   ]
  },
  {
   "cell_type": "code",
   "execution_count": 14,
   "metadata": {},
   "outputs": [
    {
     "data": {
      "text/plain": [
       "True"
      ]
     },
     "execution_count": 14,
     "metadata": {},
     "output_type": "execute_result"
    }
   ],
   "source": [
    "a1={1,2,3,4}\n",
    "b1={4,3,1,2}\n",
    "a1==b1"
   ]
  },
  {
   "cell_type": "code",
   "execution_count": 23,
   "metadata": {},
   "outputs": [
    {
     "name": "stdout",
     "output_type": "stream",
     "text": [
      "{2}\n",
      "{1, 2, 3, 4, 5, 8}\n",
      "{1, 2, 3, 4, 5, 8}\n",
      "{1, 3, 4, 5}\n",
      "{1, 3, 4, 5}\n"
     ]
    }
   ],
   "source": [
    "x={1,2,3,4,5}\n",
    "y={8,2}\n",
    "print(x.intersection(y))  # eshterak\n",
    "\n",
    "print(x.union(y))\n",
    "print(x|y)   # X|y == x.union(y)\n",
    "\n",
    "print(x.difference(y))\n",
    "print(x-y)   # x-y==x.difference(y)\n"
   ]
  },
  {
   "cell_type": "code",
   "execution_count": 31,
   "metadata": {},
   "outputs": [
    {
     "name": "stdout",
     "output_type": "stream",
     "text": [
      "{1, 2, 3, 7, 8, 9}\n",
      "{1, 2, 3, 4, 5, 6, 7, 8, 9}\n",
      "{4, 5, 6}\n",
      "{1, 2, 3, 7, 8, 9}\n"
     ]
    }
   ],
   "source": [
    "aa={1,2,3,4,5,6}\n",
    "bb={4,5,6,7,8,9}\n",
    "\n",
    "print(aa.symmetric_difference(bb))\n",
    "\n",
    "# ==\n",
    "\n",
    "union_ab=aa.union(bb)\n",
    "print(union_ab)\n",
    "intersection_ab=aa.intersection(bb)\n",
    "print(intersection_ab)\n",
    "symetric_difference_ab=union_ab.difference(intersection_ab)\n",
    "print(symetric_difference_ab)\n",
    "\n"
   ]
  },
  {
   "cell_type": "code",
   "execution_count": null,
   "metadata": {},
   "outputs": [],
   "source": []
  }
 ],
 "metadata": {
  "kernelspec": {
   "display_name": "python_beginner",
   "language": "python",
   "name": "python3"
  },
  "language_info": {
   "codemirror_mode": {
    "name": "ipython",
    "version": 3
   },
   "file_extension": ".py",
   "mimetype": "text/x-python",
   "name": "python",
   "nbconvert_exporter": "python",
   "pygments_lexer": "ipython3",
   "version": "3.8.2"
  }
 },
 "nbformat": 4,
 "nbformat_minor": 2
}
