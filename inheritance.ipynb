{
 "cells": [
  {
   "cell_type": "markdown",
   "metadata": {},
   "source": [
    "\n",
    "# data descriptor"
   ]
  },
  {
   "cell_type": "code",
   "execution_count": 3,
   "metadata": {},
   "outputs": [
    {
     "name": "stdout",
     "output_type": "stream",
     "text": [
      "welcome sara\n",
      "name is  sara\n"
     ]
    }
   ],
   "source": [
    "# inheritance\n",
    "\n",
    "class Person:\n",
    "    def __init__(self,name):\n",
    "        self.name=name\n",
    "\n",
    "    def show(self):\n",
    "        print(\"name is \", self.name)\n",
    "\n",
    "\n",
    "class Student(Person):\n",
    "    def __init__(self,name,score):\n",
    "        Person.__init__(self,name)\n",
    "        self.score=score\n",
    "\n",
    "    def welcome(self):\n",
    "        print(\"welcome\", self.name)\n",
    "\n",
    "\n",
    "stu=Student(\"sara\",20)\n",
    "stu.welcome()\n",
    "stu.show()\n",
    "\n"
   ]
  },
  {
   "cell_type": "code",
   "execution_count": 4,
   "metadata": {},
   "outputs": [
    {
     "name": "stdout",
     "output_type": "stream",
     "text": [
      "welcome sara\n",
      "name is  sara\n"
     ]
    }
   ],
   "source": [
    "# inhertiance\n",
    "\n",
    "class Person:\n",
    "    def __init__(self,name):\n",
    "        self.name=name\n",
    "\n",
    "    def show(self):\n",
    "        print(\"name is \", self.name)\n",
    "\n",
    "\n",
    "class Student(Person):\n",
    "    def __init__(self,name,score):\n",
    "        super().__init__(name)\n",
    "        self.score=score\n",
    "\n",
    "    def welcome(self):\n",
    "        print(\"welcome\", self.name)\n",
    "\n",
    "\n",
    "stu=Student(\"sara\",20)\n",
    "stu.welcome()\n",
    "stu.show()\n",
    "\n"
   ]
  },
  {
   "cell_type": "code",
   "execution_count": 3,
   "metadata": {},
   "outputs": [
    {
     "name": "stdout",
     "output_type": "stream",
     "text": [
      "name is Sara\n"
     ]
    }
   ],
   "source": [
    "class Person:\n",
    "    def __init__(self,name):\n",
    "        self.name=name\n",
    "   \n",
    "    def show(self):\n",
    "        print(\"name is\",self.name)\n",
    "\n",
    "\n",
    "class Students(Person):\n",
    "    def __init__(self,name,score):\n",
    "        Person.__init__(self,name)\n",
    "        self.score=score\n",
    "\n",
    "\n",
    "stu=Students(\"Sara\",14)\n",
    "stu.show()"
   ]
  },
  {
   "cell_type": "code",
   "execution_count": 5,
   "metadata": {},
   "outputs": [
    {
     "name": "stdout",
     "output_type": "stream",
     "text": [
      "Sara\n",
      "Omid\n"
     ]
    }
   ],
   "source": [
    "# parent class\n",
    "class Person:\n",
    "    def __init__(self,name,id):\n",
    "        self.name=name\n",
    "        self.id=id\n",
    "\n",
    "    def display(self):\n",
    "        print(self.name)\n",
    "\n",
    "\n",
    "\n",
    "# child class\n",
    "\n",
    "class Emplyee(Person):\n",
    "    def __init__(self,name,id,salary,post):\n",
    "        Person.__init__(self,name,id)\n",
    "        self.salary=salary\n",
    "        self.post=post\n",
    "        \n",
    "\n",
    "emp1=Emplyee(\"Sara\",1234,5000000,\"chef\")\n",
    "emp2=Emplyee(\"Omid\",1286,2000000,\"secreter\")\n",
    "\n",
    "emp1.display()\n",
    "emp2.display()"
   ]
  },
  {
   "cell_type": "code",
   "execution_count": 9,
   "metadata": {},
   "outputs": [
    {
     "name": "stdout",
     "output_type": "stream",
     "text": [
      "6\n",
      "25\n"
     ]
    }
   ],
   "source": [
    "#(square (moraba)) az (rect(mostatil))\n",
    "\n",
    "class Rect:\n",
    "    def __init__(self,x,y):\n",
    "        self.x=x\n",
    "        self.y=y\n",
    "\n",
    "    def area(self):\n",
    "        return self.x*self.y\n",
    "    \n",
    "\n",
    "class Square(Rect):\n",
    "    def __init__(self,z):\n",
    "        Rect.__init__(self,x=z,y=z)\n",
    "\n",
    "\n",
    "\n",
    "r=Rect(2,3)\n",
    "print(r.area())\n",
    "\n",
    "s=Square(5)\n",
    "print(s.area())\n"
   ]
  },
  {
   "cell_type": "code",
   "execution_count": 12,
   "metadata": {},
   "outputs": [
    {
     "name": "stdout",
     "output_type": "stream",
     "text": [
      "6\n",
      "25\n",
      "(<class '__main__.Square'>, <class '__main__.Rect'>, <class 'object'>)\n",
      "(<class '__main__.Rect'>, <class 'object'>)\n"
     ]
    }
   ],
   "source": [
    "#(square (moraba)) az (rect(mostatil))\n",
    "\n",
    "class Rect:\n",
    "    def __init__(self,x,y):\n",
    "        self.x=x\n",
    "        self.y=y\n",
    "\n",
    "    def area(self):\n",
    "        return self.x*self.y\n",
    "    \n",
    "\n",
    "class Square(Rect):\n",
    "    def __init__(self,z):\n",
    "        super().__init__(x=z,y=z)\n",
    "\n",
    "\n",
    "\n",
    "r=Rect(2,3)\n",
    "print(r.area())\n",
    "\n",
    "s=Square(5)\n",
    "print(s.area())\n",
    "\n",
    "\n",
    "# __mro__ method resolution order\n",
    "print(Square.__mro__)\n",
    "print(Rect.__mro__)"
   ]
  },
  {
   "cell_type": "code",
   "execution_count": null,
   "metadata": {},
   "outputs": [],
   "source": [
    "# multiple inheritance\n"
   ]
  }
 ],
 "metadata": {
  "kernelspec": {
   "display_name": "python_beginner",
   "language": "python",
   "name": "python3"
  },
  "language_info": {
   "codemirror_mode": {
    "name": "ipython",
    "version": 3
   },
   "file_extension": ".py",
   "mimetype": "text/x-python",
   "name": "python",
   "nbconvert_exporter": "python",
   "pygments_lexer": "ipython3",
   "version": "3.8.2"
  }
 },
 "nbformat": 4,
 "nbformat_minor": 2
}
