{
 "cells": [
  {
   "cell_type": "markdown",
   "metadata": {},
   "source": [
    "# object oriented programming(OOP)"
   ]
  },
  {
   "cell_type": "code",
   "execution_count": 8,
   "metadata": {},
   "outputs": [
    {
     "name": "stdout",
     "output_type": "stream",
     "text": [
      "2\n",
      "3\n",
      "5\n",
      "6\n",
      "{'a': 2, 'b': 3}\n",
      "class for add and mul\n",
      "5\n",
      "9\n",
      "14\n",
      "45\n",
      "{'a': 5}\n"
     ]
    }
   ],
   "source": [
    "class Test:\n",
    "     #name of class\n",
    "    \"\"\"class for add and mul\"\"\"\n",
    "    def set_var(self,a,b):\n",
    "          self.a=a\n",
    "          self.b=b\n",
    "    def add(self):   # addition +\n",
    "         return self.a+self.b\n",
    "    def mul(self):     #Multiplication *\n",
    "        return self.a*self.b\n",
    "\n",
    "ob1=Test()\n",
    "ob1.set_var(2,3)\n",
    "print(ob1.a)\n",
    "print(ob1.b)\n",
    "print(ob1.add())    # 2+3=5\n",
    "print(ob1.mul())  # 2*3=6\n",
    "\n",
    "print(ob1.__dict__)\n",
    "print(ob1.__doc__)\n",
    "\n",
    "ob2=Test()\n",
    "ob2.set_var(5,9)\n",
    "print(ob2.a)\n",
    "print(ob2.b)\n",
    "print(ob2.add())\n",
    "print(ob2.mul())\n",
    "\n",
    "\n",
    "del ob1\n",
    "# print(ob1.a)     # name \"ob1\" is not defined\n",
    "\n",
    "\n",
    "del ob2.b\n",
    "print(ob2.__dict__)   # {'a': 5}"
   ]
  },
  {
   "cell_type": "code",
   "execution_count": 10,
   "metadata": {},
   "outputs": [
    {
     "name": "stdout",
     "output_type": "stream",
     "text": [
      "2\n",
      "3\n",
      "5\n",
      "6\n"
     ]
    }
   ],
   "source": [
    "# __init__\n",
    "\n",
    "class Test:\n",
    "    def __init__(self,a,b):\n",
    "          self.a=a\n",
    "          self.b=b\n",
    "    def add(self):   # addition +\n",
    "         return self.a+self.b\n",
    "    def mul(self):     #Multiplication *\n",
    "        return self.a*self.b\n",
    "\n",
    "ob1=Test(2,3)\n",
    "print(ob1.a)\n",
    "print(ob1.b)\n",
    "print(ob1.add())\n",
    "print(ob1.mul())"
   ]
  },
  {
   "cell_type": "code",
   "execution_count": 8,
   "metadata": {},
   "outputs": [
    {
     "name": "stdout",
     "output_type": "stream",
     "text": [
      "Saadi : Golestan\n",
      "None\n",
      "{'author': 'Saadi', 'title': 'Golestan'}\n"
     ]
    }
   ],
   "source": [
    "class Book:\n",
    "    def __init__(self,author,title):\n",
    "        self.author=author\n",
    "        self.title=title\n",
    "    def info(self):\n",
    "        print(self.author+\" : \"+self.title)\n",
    "\n",
    "x= Book(\"Saadi\",\"Golestan\")\n",
    "print(x.info())\n",
    "print(x.__dict__)"
   ]
  },
  {
   "cell_type": "code",
   "execution_count": 6,
   "metadata": {},
   "outputs": [
    {
     "name": "stdout",
     "output_type": "stream",
     "text": [
      "Sara :  20\n",
      "None\n",
      "{'name': 'Sara', 'score': 20}\n"
     ]
    }
   ],
   "source": [
    "class Students:\n",
    "    def __init__(self,name,score=None):\n",
    "        self.name=name\n",
    "        self.score=score\n",
    "    def info(self):\n",
    "        print(self.name+\" : \",self.score)\n",
    "\n",
    "\n",
    "S=Students(\"Sara\",20)\n",
    "print(S.info())\n",
    "print(S.__dict__)\n"
   ]
  },
  {
   "cell_type": "code",
   "execution_count": 13,
   "metadata": {},
   "outputs": [
    {
     "name": "stdout",
     "output_type": "stream",
     "text": [
      "[{'name': 'mahsa', 'score': 20}, {'name': 'ali', 'score': 17}]\n",
      "{'name': 'mahsa', 'score': 20}\n"
     ]
    }
   ],
   "source": [
    "class Students:\n",
    "    def __init__(self,name,score=None):\n",
    "        self.d={}\n",
    "        self.d[\"name\"]=name\n",
    "        self.d[\"score\"]=score\n",
    "    def get_stu(self):\n",
    "        return self.d\n",
    "    \n",
    "\n",
    "lst=[]\n",
    "ob1=Students(\"mahsa\",20)\n",
    "ob2=Students(\"ali\",17)\n",
    "lst.append(ob1.get_stu())\n",
    "lst.append(ob2.get_stu())\n",
    "\n",
    "print(lst)\n",
    "print(lst[0])"
   ]
  },
  {
   "cell_type": "markdown",
   "metadata": {},
   "source": [
    "# Area"
   ]
  },
  {
   "cell_type": "code",
   "execution_count": 29,
   "metadata": {},
   "outputs": [
    {
     "name": "stdout",
     "output_type": "stream",
     "text": [
      "314.1592653589793\n"
     ]
    }
   ],
   "source": [
    "import math\n",
    "class Circle:\n",
    "     def __init__(self,r):\n",
    "          self.r=r\n",
    "     def area(self):\n",
    "          return (math.pi)*(self.r)**2\n",
    "x=Circle(10)\n",
    "print(x.area())"
   ]
  },
  {
   "cell_type": "markdown",
   "metadata": {},
   "source": [
    "# Perimeter "
   ]
  },
  {
   "cell_type": "code",
   "execution_count": 30,
   "metadata": {},
   "outputs": [
    {
     "name": "stdout",
     "output_type": "stream",
     "text": [
      "62.83185307179586\n",
      "True\n"
     ]
    }
   ],
   "source": [
    "import math\n",
    "class Circle:\n",
    "    def __init__(self,r):\n",
    "        self.r=r\n",
    "    def Perimeter(self):\n",
    "        return 2*(math.pi)*(self.r)\n",
    "    \n",
    "x=Circle(10)\n",
    "print(x.Perimeter())\n",
    "\n",
    "print(isinstance(x,Circle))\n",
    "## isinstance object is in class or not\n",
    "\n"
   ]
  },
  {
   "cell_type": "code",
   "execution_count": 32,
   "metadata": {},
   "outputs": [
    {
     "name": "stdout",
     "output_type": "stream",
     "text": [
      "<class 'dict'>\n"
     ]
    }
   ],
   "source": [
    "d=dict()\n",
    "print(type(d))"
   ]
  },
  {
   "cell_type": "markdown",
   "metadata": {},
   "source": [
    "## The perimeter of the rectangle"
   ]
  },
  {
   "cell_type": "code",
   "execution_count": 35,
   "metadata": {},
   "outputs": [
    {
     "name": "stdout",
     "output_type": "stream",
     "text": [
      "12\n"
     ]
    }
   ],
   "source": [
    "# P = (L + W) × 2\n",
    "\n",
    "class rectangle:\n",
    "    def __init__(self,L,W):\n",
    "        self.L=L\n",
    "        self.W=W\n",
    "    def perimeter(self):\n",
    "        return ((self.L)+(self.W))*2\n",
    "    \n",
    "x=rectangle(2,4)\n",
    "print(x.perimeter())\n"
   ]
  },
  {
   "cell_type": "markdown",
   "metadata": {},
   "source": [
    "## area of rectangle = length × width"
   ]
  },
  {
   "cell_type": "code",
   "execution_count": 36,
   "metadata": {},
   "outputs": [
    {
     "name": "stdout",
     "output_type": "stream",
     "text": [
      "6\n"
     ]
    }
   ],
   "source": [
    "# Area of rectangle=L*W\n",
    "\n",
    "class rectangle:\n",
    "    def __init__(self,L,W):\n",
    "        self.L=L\n",
    "        self.W=W\n",
    "    def Area(self):\n",
    "        return (self.L)*(self.W)\n",
    "\n",
    "\n",
    "x= rectangle(2,3)\n",
    "print(x.Area())  \n"
   ]
  },
  {
   "cell_type": "code",
   "execution_count": 44,
   "metadata": {},
   "outputs": [
    {
     "name": "stdout",
     "output_type": "stream",
     "text": [
      "4\n",
      "6\n",
      "5\n"
     ]
    }
   ],
   "source": [
    "class Counter:\n",
    "    def __init__(self,x):\n",
    "        self.x=x\n",
    "    def up(self):\n",
    "        self.x += 1\n",
    "    def down(self):\n",
    "        self.x -= 1\n",
    "\n",
    "ob=Counter(4) \n",
    "print(ob.x) \n",
    "ob.up()\n",
    "ob.up()\n",
    "print(ob.x) \n",
    "ob.down()\n",
    "print(ob.x)"
   ]
  }
 ],
 "metadata": {
  "kernelspec": {
   "display_name": "python_beginner",
   "language": "python",
   "name": "python3"
  },
  "language_info": {
   "codemirror_mode": {
    "name": "ipython",
    "version": 3
   },
   "file_extension": ".py",
   "mimetype": "text/x-python",
   "name": "python",
   "nbconvert_exporter": "python",
   "pygments_lexer": "ipython3",
   "version": "3.8.2"
  }
 },
 "nbformat": 4,
 "nbformat_minor": 2
}
