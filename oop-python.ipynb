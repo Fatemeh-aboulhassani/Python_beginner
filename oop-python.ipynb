{
 "cells": [
  {
   "cell_type": "markdown",
   "metadata": {},
   "source": [
    "# object oriented programming(OOP)"
   ]
  },
  {
   "cell_type": "code",
   "execution_count": 8,
   "metadata": {},
   "outputs": [
    {
     "name": "stdout",
     "output_type": "stream",
     "text": [
      "2\n",
      "3\n",
      "5\n",
      "6\n",
      "{'a': 2, 'b': 3}\n",
      "class for add and mul\n",
      "5\n",
      "9\n",
      "14\n",
      "45\n",
      "{'a': 5}\n"
     ]
    }
   ],
   "source": [
    "class Test:\n",
    "     #name of class\n",
    "    \"\"\"class for add and mul\"\"\"\n",
    "    def set_var(self,a,b):\n",
    "          self.a=a\n",
    "          self.b=b\n",
    "    def add(self):   # addition +\n",
    "         return self.a+self.b\n",
    "    def mul(self):     #Multiplication *\n",
    "        return self.a*self.b\n",
    "\n",
    "ob1=Test()\n",
    "ob1.set_var(2,3)\n",
    "print(ob1.a)\n",
    "print(ob1.b)\n",
    "print(ob1.add())    # 2+3=5\n",
    "print(ob1.mul())  # 2*3=6\n",
    "\n",
    "print(ob1.__dict__)\n",
    "print(ob1.__doc__)\n",
    "\n",
    "ob2=Test()\n",
    "ob2.set_var(5,9)\n",
    "print(ob2.a)\n",
    "print(ob2.b)\n",
    "print(ob2.add())\n",
    "print(ob2.mul())\n",
    "\n",
    "\n",
    "del ob1\n",
    "# print(ob1.a)     # name \"ob1\" is not defined\n",
    "\n",
    "\n",
    "del ob2.b\n",
    "print(ob2.__dict__)   # {'a': 5}"
   ]
  },
  {
   "cell_type": "code",
   "execution_count": 10,
   "metadata": {},
   "outputs": [
    {
     "name": "stdout",
     "output_type": "stream",
     "text": [
      "2\n",
      "3\n",
      "5\n",
      "6\n"
     ]
    }
   ],
   "source": [
    "# __init__\n",
    "\n",
    "class Test:\n",
    "    def __init__(self,a,b):\n",
    "          self.a=a\n",
    "          self.b=b\n",
    "    def add(self):   # addition +\n",
    "         return self.a+self.b\n",
    "    def mul(self):     #Multiplication *\n",
    "        return self.a*self.b\n",
    "\n",
    "ob1=Test(2,3)\n",
    "print(ob1.a)\n",
    "print(ob1.b)\n",
    "print(ob1.add())\n",
    "print(ob1.mul())"
   ]
  },
  {
   "cell_type": "code",
   "execution_count": 8,
   "metadata": {},
   "outputs": [
    {
     "name": "stdout",
     "output_type": "stream",
     "text": [
      "Saadi : Golestan\n",
      "None\n",
      "{'author': 'Saadi', 'title': 'Golestan'}\n"
     ]
    }
   ],
   "source": [
    "class Book:\n",
    "    def __init__(self,author,title):\n",
    "        self.author=author\n",
    "        self.title=title\n",
    "    def info(self):\n",
    "        print(self.author+\" : \"+self.title)\n",
    "\n",
    "x= Book(\"Saadi\",\"Golestan\")\n",
    "print(x.info())\n",
    "print(x.__dict__)"
   ]
  },
  {
   "cell_type": "code",
   "execution_count": 6,
   "metadata": {},
   "outputs": [
    {
     "name": "stdout",
     "output_type": "stream",
     "text": [
      "Sara :  20\n",
      "None\n",
      "{'name': 'Sara', 'score': 20}\n"
     ]
    }
   ],
   "source": [
    "class Students:\n",
    "    def __init__(self,name,score=None):\n",
    "        self.name=name\n",
    "        self.score=score\n",
    "    def info(self):\n",
    "        print(self.name+\" : \",self.score)\n",
    "\n",
    "\n",
    "S=Students(\"Sara\",20)\n",
    "print(S.info())\n",
    "print(S.__dict__)\n"
   ]
  },
  {
   "cell_type": "code",
   "execution_count": 13,
   "metadata": {},
   "outputs": [
    {
     "name": "stdout",
     "output_type": "stream",
     "text": [
      "[{'name': 'mahsa', 'score': 20}, {'name': 'ali', 'score': 17}]\n",
      "{'name': 'mahsa', 'score': 20}\n"
     ]
    }
   ],
   "source": [
    "class Students:\n",
    "    def __init__(self,name,score=None):\n",
    "        self.d={}\n",
    "        self.d[\"name\"]=name\n",
    "        self.d[\"score\"]=score\n",
    "    def get_stu(self):\n",
    "        return self.d\n",
    "    \n",
    "\n",
    "lst=[]\n",
    "ob1=Students(\"mahsa\",20)\n",
    "ob2=Students(\"ali\",17)\n",
    "lst.append(ob1.get_stu())\n",
    "lst.append(ob2.get_stu())\n",
    "\n",
    "print(lst)\n",
    "print(lst[0])"
   ]
  },
  {
   "cell_type": "markdown",
   "metadata": {},
   "source": [
    "# Area"
   ]
  },
  {
   "cell_type": "code",
   "execution_count": 29,
   "metadata": {},
   "outputs": [
    {
     "name": "stdout",
     "output_type": "stream",
     "text": [
      "314.1592653589793\n"
     ]
    }
   ],
   "source": [
    "import math\n",
    "class Circle:\n",
    "     def __init__(self,r):\n",
    "          self.r=r\n",
    "     def area(self):\n",
    "          return (math.pi)*(self.r)**2\n",
    "x=Circle(10)\n",
    "print(x.area())"
   ]
  },
  {
   "cell_type": "markdown",
   "metadata": {},
   "source": [
    "# Perimeter "
   ]
  },
  {
   "cell_type": "code",
   "execution_count": 30,
   "metadata": {},
   "outputs": [
    {
     "name": "stdout",
     "output_type": "stream",
     "text": [
      "62.83185307179586\n",
      "True\n"
     ]
    }
   ],
   "source": [
    "import math\n",
    "class Circle:\n",
    "    def __init__(self,r):\n",
    "        self.r=r\n",
    "    def Perimeter(self):\n",
    "        return 2*(math.pi)*(self.r)\n",
    "    \n",
    "x=Circle(10)\n",
    "print(x.Perimeter())\n",
    "\n",
    "print(isinstance(x,Circle))\n",
    "## isinstance object is in class or not\n",
    "\n"
   ]
  },
  {
   "cell_type": "code",
   "execution_count": 32,
   "metadata": {},
   "outputs": [
    {
     "name": "stdout",
     "output_type": "stream",
     "text": [
      "<class 'dict'>\n"
     ]
    }
   ],
   "source": [
    "d=dict()\n",
    "print(type(d))"
   ]
  },
  {
   "cell_type": "markdown",
   "metadata": {},
   "source": [
    "## The perimeter of the rectangle"
   ]
  },
  {
   "cell_type": "code",
   "execution_count": 35,
   "metadata": {},
   "outputs": [
    {
     "name": "stdout",
     "output_type": "stream",
     "text": [
      "12\n"
     ]
    }
   ],
   "source": [
    "# P = (L + W) × 2\n",
    "\n",
    "class rectangle:\n",
    "    def __init__(self,L,W):\n",
    "        self.L=L\n",
    "        self.W=W\n",
    "    def perimeter(self):\n",
    "        return ((self.L)+(self.W))*2\n",
    "    \n",
    "x=rectangle(2,4)\n",
    "print(x.perimeter())\n"
   ]
  },
  {
   "cell_type": "markdown",
   "metadata": {},
   "source": [
    "## area of rectangle = length × width"
   ]
  },
  {
   "cell_type": "code",
   "execution_count": 36,
   "metadata": {},
   "outputs": [
    {
     "name": "stdout",
     "output_type": "stream",
     "text": [
      "6\n"
     ]
    }
   ],
   "source": [
    "# Area of rectangle=L*W\n",
    "\n",
    "class rectangle:\n",
    "    def __init__(self,L,W):\n",
    "        self.L=L\n",
    "        self.W=W\n",
    "    def Area(self):\n",
    "        return (self.L)*(self.W)\n",
    "\n",
    "\n",
    "x= rectangle(2,3)\n",
    "print(x.Area())  \n"
   ]
  },
  {
   "cell_type": "code",
   "execution_count": 44,
   "metadata": {},
   "outputs": [
    {
     "name": "stdout",
     "output_type": "stream",
     "text": [
      "4\n",
      "6\n",
      "5\n"
     ]
    }
   ],
   "source": [
    "class Counter:\n",
    "    def __init__(self,x):\n",
    "        self.x=x\n",
    "    def up(self):\n",
    "        self.x += 1\n",
    "    def down(self):\n",
    "        self.x -= 1\n",
    "\n",
    "ob=Counter(4) \n",
    "print(ob.x) \n",
    "ob.up()\n",
    "ob.up()\n",
    "print(ob.x) \n",
    "ob.down()\n",
    "print(ob.x)"
   ]
  },
  {
   "cell_type": "code",
   "execution_count": null,
   "metadata": {},
   "outputs": [],
   "source": [
    "class C():\n",
    "    def __init__(self):\n",
    "        self.s=\"\"\n",
    "    def get_string(self):\n",
    "        self.s=input(\"input: \")\n",
    "\n",
    "    def show(self):\n",
    "        print(self.s.upper())\n",
    "\n",
    "\n",
    "ob=C()\n",
    "ob.get_string()\n",
    "ob.show()     \n",
    "\n",
    "# input: ali\n",
    "# output :ALI\n"
   ]
  },
  {
   "cell_type": "code",
   "execution_count": null,
   "metadata": {},
   "outputs": [],
   "source": [
    "class name:\n",
    "    def __init__(self):\n",
    "        self.s=\"\"\n",
    "    def get_input(self):\n",
    "        self.s=input(\"enter the name: \")\n",
    "\n",
    "    def show(self):\n",
    "        print(self.s.upper())\n",
    "\n",
    "x=name()\n",
    "x.get_input()\n",
    "x.show()\n",
    "# input:fatemeh\n",
    "#output: FATEMEH"
   ]
  },
  {
   "cell_type": "code",
   "execution_count": null,
   "metadata": {},
   "outputs": [],
   "source": [
    "class id_name:\n",
    "    def __init__(self,id,name):\n",
    "        self.id=0\n",
    "        self.name=\"\"\n",
    "    def get_name(self):\n",
    "        self.name=input(\"enter the name: \")\n",
    "    def get_id(self):\n",
    "        self.id=input(\"enter the ID\")\n",
    "    def show(self):\n",
    "        print(\"name:\"+self.name+\":\"+\"ID:\"+self.id)\n",
    "\n",
    "\n",
    "x=id_name()\n",
    "x.get_name()\n",
    "x.get_id()\n"
   ]
  },
  {
   "cell_type": "code",
   "execution_count": null,
   "metadata": {},
   "outputs": [],
   "source": [
    "\n",
    "class idname:\n",
    "    def __init__(self):\n",
    "        self.id=0\n",
    "        self.name=\"\"\n",
    "    def get_name(self):\n",
    "        self.name=input(\"enter the name: \")\n",
    "    def get_id(self):\n",
    "        self.id=input(\"enter the ID: \")\n",
    "    def show(self):\n",
    "        print(\"name:\"+self.name.upper()+\",\"+\"ID:\"+self.id)\n",
    "\n",
    "x=idname()\n",
    "x.get_name()\n",
    "x.get_id()\n",
    "x.show()\n",
    "print(x.__dict__)"
   ]
  },
  {
   "cell_type": "code",
   "execution_count": null,
   "metadata": {},
   "outputs": [],
   "source": [
    "class Complex:\n",
    "    def __init__(self,r,i):\n",
    "        self.r=r\n",
    "        self.i=i\n",
    "\n",
    "\n",
    "x=Complex(2,4)\n",
    "print(x.r)\n",
    "print(x.i)\n"
   ]
  },
  {
   "cell_type": "code",
   "execution_count": 2,
   "metadata": {},
   "outputs": [
    {
     "name": "stdout",
     "output_type": "stream",
     "text": [
      "False\n",
      "True\n"
     ]
    }
   ],
   "source": [
    "class Email:\n",
    "    def f(self):\n",
    "        self.sent=False\n",
    "\n",
    "    def g(self):\n",
    "        self.sent=True\n",
    "\n",
    "\n",
    "ob=Email()\n",
    "ob.f()\n",
    "print(ob.sent)\n",
    "ob.g()\n",
    "print(ob.sent)"
   ]
  },
  {
   "cell_type": "code",
   "execution_count": null,
   "metadata": {},
   "outputs": [],
   "source": [
    "class machine:\n",
    "    def __init__(self):\n",
    "        self.tip=0\n",
    "        self.model=\"\"\n",
    "    def get_tip(self):\n",
    "        self.tip=input(\"enter tip: \")\n",
    "    def get_model(self):\n",
    "        self.model=input(\"enter model: \")\n",
    "    def show(self):\n",
    "        print(\"model:\"+self.model+\",\"+\"ID:\"+self.tip)\n",
    "\n",
    "x=machine()\n",
    "x.get_model()\n",
    "x.get_tip()\n",
    "x.show()\n",
    "print(x.__dict__)\n"
   ]
  },
  {
   "cell_type": "code",
   "execution_count": 1,
   "metadata": {},
   "outputs": [
    {
     "name": "stdout",
     "output_type": "stream",
     "text": [
      "peugeot\n",
      "peugeot\n",
      "206\n",
      "207\n"
     ]
    }
   ],
   "source": [
    "class machine:\n",
    "    model=\"peugeot\"\n",
    "    def __init__(self,tip):\n",
    "        self.tip=tip\n",
    "\n",
    "\n",
    "m1=machine(\"206\")\n",
    "m2=machine(\"207\")\n",
    "\n",
    "print(m1.model) #peugeot\n",
    "print(m2.model) #peogeot\n",
    "print(m1.tip) #206\n",
    "print(m2.tip) #207"
   ]
  },
  {
   "cell_type": "code",
   "execution_count": null,
   "metadata": {},
   "outputs": [],
   "source": []
  },
  {
   "cell_type": "code",
   "execution_count": 7,
   "metadata": {},
   "outputs": [
    {
     "name": "stdout",
     "output_type": "stream",
     "text": [
      "[1, 2, 3]\n",
      "[1, 2, 3]\n"
     ]
    }
   ],
   "source": [
    "class C:\n",
    "    lst=[]\n",
    "    def __init__(self,name):\n",
    "        self.name=name\n",
    "    def f(self,x):\n",
    "        self.lst.append(x)\n",
    "\n",
    "ob1=C(\"A\")\n",
    "ob2=C(\"B\")\n",
    "\n",
    "ob1.f(1)\n",
    "ob1.f(2)\n",
    "ob1.f(3)\n",
    "print(ob1.lst)\n",
    "print(ob2.lst)"
   ]
  },
  {
   "cell_type": "code",
   "execution_count": 18,
   "metadata": {},
   "outputs": [
    {
     "name": "stdout",
     "output_type": "stream",
     "text": [
      "ali\n",
      "sara\n",
      "cse\n",
      "cse\n",
      "cse\n"
     ]
    }
   ],
   "source": [
    "class Students:\n",
    "    stream=\"cse\" # class variable\n",
    "\n",
    "    def __init__(self,name,score):\n",
    "        self.name=name  # instance variable\n",
    "        self.score=score #instance variable\n",
    "\n",
    "s1=Students(\"ali\",19)\n",
    "s2=Students(\"sara\",18)\n",
    "print(s1.name)\n",
    "print(s2.name)\n",
    "\n",
    "print(s1.stream)\n",
    "print(s2.stream)\n",
    "\n",
    "print(Students.stream)\n",
    "## print(Students.name) #attribute errot"
   ]
  },
  {
   "cell_type": "code",
   "execution_count": 5,
   "metadata": {},
   "outputs": [
    {
     "name": "stdout",
     "output_type": "stream",
     "text": [
      "dog\n",
      "dog\n",
      "brown\n",
      "balck\n",
      "pug\n",
      "bulldog\n"
     ]
    }
   ],
   "source": [
    "class Dog:\n",
    "    animal='dog'\n",
    "    def __init__(self,b, c):\n",
    "        self.b=b\n",
    "        self.c=c\n",
    "\n",
    "d1=Dog(\"pug\", \"brown\")\n",
    "d2=Dog(\"bulldog\",\"balck\")\n",
    "\n",
    "\n",
    "print(d1.animal)\n",
    "print(d2.animal)\n",
    "\n",
    "print(d1.c)\n",
    "print(d2.c)\n",
    "print(d1.b)\n",
    "print(d2.b)"
   ]
  },
  {
   "cell_type": "markdown",
   "metadata": {},
   "source": [
    "# private"
   ]
  },
  {
   "cell_type": "code",
   "execution_count": 12,
   "metadata": {},
   "outputs": [
    {
     "name": "stdout",
     "output_type": "stream",
     "text": [
      "1\n",
      "{'a': 1, '_Test__b': 2}\n",
      "2\n"
     ]
    }
   ],
   "source": [
    "# private \n",
    "class Test:\n",
    "    def __init__(self,a,b):\n",
    "        self.a=a #public\n",
    "        self.__b=b #private\n",
    "\n",
    "        def f(self):\n",
    "            self.__b +=1\n",
    "            print(self.__b)\n",
    "\n",
    "\n",
    "ob=Test(1,2)\n",
    "print(ob.a)\n",
    "# print(ob.b)   # Attributeerror\n",
    "\n",
    "\n",
    "print(ob.__dict__)\n",
    "\n",
    "print(ob._Test__b)"
   ]
  },
  {
   "cell_type": "code",
   "execution_count": 19,
   "metadata": {},
   "outputs": [
    {
     "name": "stdout",
     "output_type": "stream",
     "text": [
      "ali\n",
      "sara\n",
      "physics\n",
      "english\n",
      "farsi\n"
     ]
    }
   ],
   "source": [
    "class Students:\n",
    "    def __init__(self,name,kurs):\n",
    "        self.name=name\n",
    "        self.__kurs=kurs # private\n",
    "\n",
    "\n",
    "\n",
    "    def n(self):\n",
    "        self.__name +=1\n",
    "        print(self.__name)\n",
    "\n",
    "\n",
    "\n",
    "\n",
    "S1=Students(\"ali\",\"physics\")\n",
    "S2=Students(\"sara\",\"english\")\n",
    "print(S1.name)\n",
    "print(S2.name)\n",
    "\n",
    "print(S1._Students__kurs)\n",
    "print(S2._Students__kurs)\n",
    "\n",
    "\n",
    "S2._Students__kurs=\"farsi\"\n",
    "print(S2._Students__kurs)"
   ]
  },
  {
   "cell_type": "code",
   "execution_count": 23,
   "metadata": {},
   "outputs": [
    {
     "name": "stdout",
     "output_type": "stream",
     "text": [
      "{'_Model__m': 'peugeot'}\n",
      "peugeot\n"
     ]
    }
   ],
   "source": [
    "class  Model:\n",
    "    def __init__(self,m):\n",
    "        self.__m=m\n",
    "\n",
    "    def mo(self):\n",
    "        self.__m +=1\n",
    "        print(self.__m)\n",
    "\n",
    "\n",
    "M1=Model(\"peugeot\")\n",
    "\n",
    "print(M1.__dict__)\n",
    "print(M1._Model__m)"
   ]
  },
  {
   "cell_type": "code",
   "execution_count": 24,
   "metadata": {},
   "outputs": [
    {
     "name": "stdout",
     "output_type": "stream",
     "text": [
      "3\n"
     ]
    }
   ],
   "source": [
    "class AB:\n",
    "    __x=3\n",
    "    \n",
    "    def show(self):\n",
    "        print(self.__x)\n",
    "\n",
    "\n",
    "ob=AB()\n",
    "ob.show()\n"
   ]
  },
  {
   "cell_type": "code",
   "execution_count": null,
   "metadata": {},
   "outputs": [],
   "source": [
    "\n"
   ]
  }
 ],
 "metadata": {
  "kernelspec": {
   "display_name": "python_beginner",
   "language": "python",
   "name": "python3"
  },
  "language_info": {
   "codemirror_mode": {
    "name": "ipython",
    "version": 3
   },
   "file_extension": ".py",
   "mimetype": "text/x-python",
   "name": "python",
   "nbconvert_exporter": "python",
   "pygments_lexer": "ipython3",
   "version": "3.8.2"
  }
 },
 "nbformat": 4,
 "nbformat_minor": 2
}
