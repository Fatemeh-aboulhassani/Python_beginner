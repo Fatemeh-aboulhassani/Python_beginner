{
 "cells": [
  {
   "cell_type": "markdown",
   "metadata": {},
   "source": [
    "\n",
    "# data descriptor"
   ]
  },
  {
   "cell_type": "code",
   "execution_count": 3,
   "metadata": {},
   "outputs": [
    {
     "name": "stdout",
     "output_type": "stream",
     "text": [
      "welcome sara\n",
      "name is  sara\n"
     ]
    }
   ],
   "source": [
    "# inhertiance\n",
    "\n",
    "class Person:\n",
    "    def __init__(self,name):\n",
    "        self.name=name\n",
    "\n",
    "    def show(self):\n",
    "        print(\"name is \", self.name)\n",
    "\n",
    "\n",
    "class Student(Person):\n",
    "    def __init__(self,name,score):\n",
    "        Person.__init__(self,name)\n",
    "        self.score=score\n",
    "\n",
    "    def welcome(self):\n",
    "        print(\"welcome\", self.name)\n",
    "\n",
    "\n",
    "stu=Student(\"sara\",20)\n",
    "stu.welcome()\n",
    "stu.show()\n",
    "\n"
   ]
  }
 ],
 "metadata": {
  "kernelspec": {
   "display_name": "python_beginner",
   "language": "python",
   "name": "python3"
  },
  "language_info": {
   "codemirror_mode": {
    "name": "ipython",
    "version": 3
   },
   "file_extension": ".py",
   "mimetype": "text/x-python",
   "name": "python",
   "nbconvert_exporter": "python",
   "pygments_lexer": "ipython3",
   "version": "3.8.2"
  }
 },
 "nbformat": 4,
 "nbformat_minor": 2
}
