{
 "cells": [
  {
   "cell_type": "markdown",
   "metadata": {},
   "source": [
    "# for"
   ]
  },
  {
   "cell_type": "code",
   "execution_count": 1,
   "metadata": {},
   "outputs": [
    {
     "name": "stdout",
     "output_type": "stream",
     "text": [
      "current date and time is 2024-07-08 01:33:58\n"
     ]
    }
   ],
   "source": [
    "import datetime\n",
    "now=datetime.datetime.now()\n",
    "print(\"current date and time is\",now.strftime(\"%Y-%m-%d %H:%M:%S\"))\n"
   ]
  },
  {
   "cell_type": "code",
   "execution_count": 2,
   "metadata": {},
   "outputs": [
    {
     "name": "stdout",
     "output_type": "stream",
     "text": [
      "p\n",
      "y\n",
      "t\n",
      "h\n",
      "o\n",
      "n\n"
     ]
    }
   ],
   "source": [
    "st=\"python\"\n",
    "index=0\n",
    "while index<6:\n",
    "    letter=st[index]\n",
    "    print(letter)\n",
    "    index=index+1"
   ]
  },
  {
   "cell_type": "code",
   "execution_count": 10,
   "metadata": {},
   "outputs": [
    {
     "name": "stdout",
     "output_type": "stream",
     "text": [
      "p\n",
      "y\n",
      "t\n",
      "h\n",
      "o\n",
      "n\n"
     ]
    }
   ],
   "source": [
    "st=\"python\"\n",
    "for char in st:\n",
    "    print(char)\n",
    "\n"
   ]
  },
  {
   "cell_type": "code",
   "execution_count": 12,
   "metadata": {},
   "outputs": [
    {
     "name": "stdout",
     "output_type": "stream",
     "text": [
      "plernen\n",
      "ylernen\n",
      "tlernen\n",
      "hlernen\n",
      "olernen\n",
      "nlernen\n"
     ]
    }
   ],
   "source": [
    "st1=\"python\"\n",
    "st2=\"lernen\"\n",
    "for char in st1:\n",
    "    print(char+st2)"
   ]
  },
  {
   "cell_type": "code",
   "execution_count": 14,
   "metadata": {},
   "outputs": [
    {
     "name": "stdout",
     "output_type": "stream",
     "text": [
      "p\n",
      "y\n",
      "t\n",
      "h\n",
      "o\n",
      "n\n",
      " \n",
      "l\n",
      "e\n",
      "r\n",
      "n\n",
      "e\n",
      "n\n",
      "done!\n"
     ]
    }
   ],
   "source": [
    "st1=\"python \"\n",
    "st2=\"lernen\"\n",
    "ST=st1+st2\n",
    "for char in ST:\n",
    "    print(char)\n",
    "\n",
    "print(\"done!\")\n"
   ]
  },
  {
   "cell_type": "code",
   "execution_count": 19,
   "metadata": {},
   "outputs": [
    {
     "name": "stdout",
     "output_type": "stream",
     "text": [
      "python\n",
      "java\n",
      "C++\n"
     ]
    }
   ],
   "source": [
    "Tuple=\"python\",\"java\",\"C++\" ## with () and without is tuple correct\n",
    "for char in Tuple:\n",
    "    print(char)\n"
   ]
  },
  {
   "cell_type": "code",
   "execution_count": null,
   "metadata": {},
   "outputs": [],
   "source": [
    "Tuple=\"python\",\"java\",\"C++\" ## with () and without is tuple correct\n",
    "for char in Tuple:\n",
    "    print(char)\n"
   ]
  },
  {
   "cell_type": "code",
   "execution_count": 31,
   "metadata": {},
   "outputs": [
    {
     "name": "stdout",
     "output_type": "stream",
     "text": [
      "['saturday', 'sunday', 'monday', 'tuesday', 'wendesday', 'tursday', 'friday']\n"
     ]
    }
   ],
   "source": [
    "Day=(\"saturday\",\"sunday\",\"monday\",\"tuesday\",\"wendesday\",\"tursday\",\"friday\")\n",
    "Daylist=[]\n",
    "index=0\n",
    "while index<=len(Day)-1:\n",
    "    a=Day[index]\n",
    "    Daylist.append(a)\n",
    "    index=index+1\n",
    "print(Daylist)\n"
   ]
  },
  {
   "cell_type": "code",
   "execution_count": 22,
   "metadata": {},
   "outputs": [
    {
     "name": "stdout",
     "output_type": "stream",
     "text": [
      "5\n",
      "today is :  saturday\n",
      "today is :  sunday\n",
      "today is :  monday\n",
      "today is :  tuesday\n",
      "today is :  wendesday\n"
     ]
    }
   ],
   "source": [
    "Day=[\"saturday\",\"sunday\",\"monday\",\"tuesday\",\"wendesday\"]\n",
    "print(len(Day))#len=5\n",
    "count=0\n",
    "print(\"today is : \", Day[count])  #saturday\n",
    "count=1\n",
    "print(\"today is : \", Day[count])   #sunday\n",
    "count=2\n",
    "print(\"today is : \", Day[count]) \n",
    "count=3\n",
    "print(\"today is : \", Day[count]) \n",
    "count=4\n",
    "print(\"today is : \", Day[count]) \n"
   ]
  },
  {
   "cell_type": "code",
   "execution_count": 32,
   "metadata": {},
   "outputs": [
    {
     "name": "stdout",
     "output_type": "stream",
     "text": [
      "today is:  saturday\n",
      "today is:  sunday\n",
      "today is:  monday\n",
      "today is:  tuesday\n",
      "today is:  wendesday\n"
     ]
    }
   ],
   "source": [
    "Day=[\"saturday\",\"sunday\",\"monday\",\"tuesday\",\"wendesday\"]\n",
    "for char in Day:\n",
    "    print(\"today is: \",char)\n"
   ]
  },
  {
   "cell_type": "code",
   "execution_count": 33,
   "metadata": {},
   "outputs": [
    {
     "name": "stdout",
     "output_type": "stream",
     "text": [
      "the List is empty!\n"
     ]
    }
   ],
   "source": [
    "List=[]\n",
    "for char in List:\n",
    "    print(char)\n",
    "print(\"the List is empty!\")\n"
   ]
  },
  {
   "cell_type": "code",
   "execution_count": 53,
   "metadata": {},
   "outputs": [
    {
     "name": "stdout",
     "output_type": "stream",
     "text": [
      "the List is empty\n"
     ]
    }
   ],
   "source": [
    "List =[]\n",
    "for char in List:\n",
    "    print(char)\n",
    "else:\n",
    "    print(\"the List is empty\")"
   ]
  },
  {
   "cell_type": "code",
   "execution_count": 35,
   "metadata": {},
   "outputs": [
    {
     "name": "stdout",
     "output_type": "stream",
     "text": [
      "s\n",
      "a\n",
      "t\n",
      "u\n",
      "r\n",
      "d\n",
      "a\n",
      "y\n",
      "s\n",
      "u\n",
      "n\n",
      "d\n",
      "a\n",
      "y\n"
     ]
    }
   ],
   "source": [
    "Day=[\"saturday\",\"sunday\",\"monday\",\"tuesday\",\"wendesday\"]\n",
    "for char in Day[0]:\n",
    "    print(char)\n",
    "for char in Day[1]:\n",
    "    print(char)\n"
   ]
  },
  {
   "cell_type": "code",
   "execution_count": 38,
   "metadata": {},
   "outputs": [
    {
     "name": "stdout",
     "output_type": "stream",
     "text": [
      "a\n",
      "b\n",
      "c\n",
      "d\n",
      "done\n",
      "a\n",
      "b\n",
      "c\n",
      "d\n"
     ]
    }
   ],
   "source": [
    "alphabet=(\"a\",\"b\",\"c\",\"d\")\n",
    "for char in alphabet:\n",
    "    print(char)\n",
    "print(\"done\")\n",
    "\n",
    "for index in range(len(alphabet)):\n",
    "    print(alphabet[index])"
   ]
  },
  {
   "cell_type": "code",
   "execution_count": 48,
   "metadata": {},
   "outputs": [
    {
     "name": "stdout",
     "output_type": "stream",
     "text": [
      "a\n",
      "l\n",
      "g\n",
      "e\n",
      "b\n",
      "r\n",
      "a\n"
     ]
    }
   ],
   "source": [
    "a=[\"math\",\"physics\",\"english\",\"arabic\",\"algebra\"]\n",
    "for index in range(len(a[4])):\n",
    "    print(a[4][index])\n",
    "\n"
   ]
  },
  {
   "cell_type": "code",
   "execution_count": 56,
   "metadata": {},
   "outputs": [
    {
     "name": "stdout",
     "output_type": "stream",
     "text": [
      "1\n",
      "2\n",
      "3\n",
      "4\n",
      "5\n",
      "6\n",
      "7\n",
      "8\n",
      "9\n",
      "10\n",
      "2\n",
      "4\n",
      "6\n",
      "8\n",
      "10\n",
      "12\n",
      "14\n",
      "16\n",
      "18\n",
      "20\n",
      "3\n",
      "6\n",
      "9\n",
      "12\n",
      "15\n",
      "18\n",
      "21\n",
      "24\n",
      "27\n",
      "30\n",
      "4\n",
      "8\n",
      "12\n",
      "16\n",
      "20\n",
      "24\n",
      "28\n",
      "32\n",
      "36\n",
      "40\n",
      "5\n",
      "10\n",
      "15\n",
      "20\n",
      "25\n",
      "30\n",
      "35\n",
      "40\n",
      "45\n",
      "50\n",
      "6\n",
      "12\n",
      "18\n",
      "24\n",
      "30\n",
      "36\n",
      "42\n",
      "48\n",
      "54\n",
      "60\n",
      "7\n",
      "14\n",
      "21\n",
      "28\n",
      "35\n",
      "42\n",
      "49\n",
      "56\n",
      "63\n",
      "70\n",
      "8\n",
      "16\n",
      "24\n",
      "32\n",
      "40\n",
      "48\n",
      "56\n",
      "64\n",
      "72\n",
      "80\n",
      "9\n",
      "18\n",
      "27\n",
      "36\n",
      "45\n",
      "54\n",
      "63\n",
      "72\n",
      "81\n",
      "90\n",
      "10\n",
      "20\n",
      "30\n",
      "40\n",
      "50\n",
      "60\n",
      "70\n",
      "80\n",
      "90\n",
      "100\n"
     ]
    }
   ],
   "source": [
    "# 1 to 10 .....> 1*1 1*2 1*3.....10*10\n",
    "for a in range(1,11):   # 1 to 10\n",
    "    for b in range(1,11): # 1 to 10\n",
    "        print(a*b)"
   ]
  },
  {
   "cell_type": "code",
   "execution_count": 61,
   "metadata": {},
   "outputs": [
    {
     "name": "stdout",
     "output_type": "stream",
     "text": [
      "['ae', 'af', 'ag', 'ah', 'be', 'bf', 'bg', 'bh', 'ce', 'cf', 'cg', 'ch', 'de', 'df', 'dg', 'dh']\n"
     ]
    }
   ],
   "source": [
    "lis1=[\"a\",\"b\",\"c\",\"d\"]\n",
    "list2=[\"e\",\"f\",\"g\",\"h\"]\n",
    "list3=[]\n",
    "for a in lis1:\n",
    "    for b in list2:\n",
    "        list3.append(a+b)\n",
    "\n",
    "print(list3)"
   ]
  },
  {
   "cell_type": "code",
   "execution_count": 5,
   "metadata": {},
   "outputs": [
    {
     "name": "stdout",
     "output_type": "stream",
     "text": [
      "3\n"
     ]
    }
   ],
   "source": [
    "St=\"pythonlernen\"\n",
    "count=0\n",
    "for char in St:\n",
    "    if char==\"n\":\n",
    "        count=count+1\n",
    "\n",
    "print(count)"
   ]
  },
  {
   "cell_type": "code",
   "execution_count": 17,
   "metadata": {},
   "outputs": [
    {
     "name": "stdout",
     "output_type": "stream",
     "text": [
      "3\n"
     ]
    }
   ],
   "source": [
    "St=\"pythonlernen\"\n",
    "count=0\n",
    "for char in St:\n",
    "    if char==\"n\":\n",
    "        count=count+1\n",
    "\n",
    "print(count)"
   ]
  },
  {
   "cell_type": "code",
   "execution_count": 19,
   "metadata": {},
   "outputs": [
    {
     "name": "stdout",
     "output_type": "stream",
     "text": [
      "[0]\n",
      "[0, 1]\n",
      "[0, 1, 2]\n",
      "[0, 1, 2, 3]\n",
      "[0, 1, 2, 3, 4]\n",
      "[0, 1, 2, 3, 4, 5]\n",
      "[0, 1, 2, 3, 4, 5, 6]\n",
      "[0, 1, 2, 3, 4, 5, 6, 7]\n",
      "[0, 1, 2, 3, 4, 5, 6, 7, 8]\n",
      "[0, 1, 2, 3, 4, 5, 6, 7, 8, 9]\n",
      "0\n",
      "1\n",
      "2\n",
      "3\n",
      "4\n",
      "5\n",
      "6\n",
      "7\n",
      "8\n",
      "9\n"
     ]
    }
   ],
   "source": [
    "x=0\n",
    "number=[]\n",
    "while x<10:\n",
    "    number.append(x)\n",
    "    print(number)\n",
    "    x=x+1\n",
    "for char in number:\n",
    "    print(char)"
   ]
  }
 ],
 "metadata": {
  "kernelspec": {
   "display_name": "python_beginner",
   "language": "python",
   "name": "python3"
  },
  "language_info": {
   "codemirror_mode": {
    "name": "ipython",
    "version": 3
   },
   "file_extension": ".py",
   "mimetype": "text/x-python",
   "name": "python",
   "nbconvert_exporter": "python",
   "pygments_lexer": "ipython3",
   "version": "3.8.2"
  }
 },
 "nbformat": 4,
 "nbformat_minor": 2
}
