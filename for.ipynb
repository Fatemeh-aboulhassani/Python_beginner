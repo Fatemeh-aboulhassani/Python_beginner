{
 "cells": [
  {
   "cell_type": "markdown",
   "metadata": {},
   "source": [
    "# for"
   ]
  },
  {
   "cell_type": "code",
   "execution_count": 1,
   "metadata": {},
   "outputs": [
    {
     "name": "stdout",
     "output_type": "stream",
     "text": [
      "current date and time is 2024-07-08 01:33:58\n"
     ]
    }
   ],
   "source": [
    "import datetime\n",
    "now=datetime.datetime.now()\n",
    "print(\"current date and time is\",now.strftime(\"%Y-%m-%d %H:%M:%S\"))\n"
   ]
  },
  {
   "cell_type": "code",
   "execution_count": 2,
   "metadata": {},
   "outputs": [
    {
     "name": "stdout",
     "output_type": "stream",
     "text": [
      "p\n",
      "y\n",
      "t\n",
      "h\n",
      "o\n",
      "n\n"
     ]
    }
   ],
   "source": [
    "st=\"python\"\n",
    "index=0\n",
    "while index<6:\n",
    "    letter=st[index]\n",
    "    print(letter)\n",
    "    index=index+1"
   ]
  },
  {
   "cell_type": "code",
   "execution_count": 10,
   "metadata": {},
   "outputs": [
    {
     "name": "stdout",
     "output_type": "stream",
     "text": [
      "p\n",
      "y\n",
      "t\n",
      "h\n",
      "o\n",
      "n\n"
     ]
    }
   ],
   "source": [
    "st=\"python\"\n",
    "for char in st:\n",
    "    print(char)\n",
    "\n"
   ]
  },
  {
   "cell_type": "code",
   "execution_count": 12,
   "metadata": {},
   "outputs": [
    {
     "name": "stdout",
     "output_type": "stream",
     "text": [
      "plernen\n",
      "ylernen\n",
      "tlernen\n",
      "hlernen\n",
      "olernen\n",
      "nlernen\n"
     ]
    }
   ],
   "source": [
    "st1=\"python\"\n",
    "st2=\"lernen\"\n",
    "for char in st1:\n",
    "    print(char+st2)"
   ]
  },
  {
   "cell_type": "code",
   "execution_count": 14,
   "metadata": {},
   "outputs": [
    {
     "name": "stdout",
     "output_type": "stream",
     "text": [
      "p\n",
      "y\n",
      "t\n",
      "h\n",
      "o\n",
      "n\n",
      " \n",
      "l\n",
      "e\n",
      "r\n",
      "n\n",
      "e\n",
      "n\n",
      "done!\n"
     ]
    }
   ],
   "source": [
    "st1=\"python \"\n",
    "st2=\"lernen\"\n",
    "ST=st1+st2\n",
    "for char in ST:\n",
    "    print(char)\n",
    "\n",
    "print(\"done!\")\n"
   ]
  },
  {
   "cell_type": "code",
   "execution_count": 19,
   "metadata": {},
   "outputs": [
    {
     "name": "stdout",
     "output_type": "stream",
     "text": [
      "python\n",
      "java\n",
      "C++\n"
     ]
    }
   ],
   "source": [
    "Tuple=\"python\",\"java\",\"C++\" ## with () and without is tuple correct\n",
    "for char in Tuple:\n",
    "    print(char)\n"
   ]
  },
  {
   "cell_type": "code",
   "execution_count": null,
   "metadata": {},
   "outputs": [],
   "source": [
    "Tuple=\"python\",\"java\",\"C++\" ## with () and without is tuple correct\n",
    "for char in Tuple:\n",
    "    print(char)\n"
   ]
  },
  {
   "cell_type": "code",
   "execution_count": 31,
   "metadata": {},
   "outputs": [
    {
     "name": "stdout",
     "output_type": "stream",
     "text": [
      "['saturday', 'sunday', 'monday', 'tuesday', 'wendesday', 'tursday', 'friday']\n"
     ]
    }
   ],
   "source": [
    "Day=(\"saturday\",\"sunday\",\"monday\",\"tuesday\",\"wendesday\",\"tursday\",\"friday\")\n",
    "Daylist=[]\n",
    "index=0\n",
    "while index<=len(Day)-1:\n",
    "    a=Day[index]\n",
    "    Daylist.append(a)\n",
    "    index=index+1\n",
    "print(Daylist)\n"
   ]
  },
  {
   "cell_type": "code",
   "execution_count": 22,
   "metadata": {},
   "outputs": [
    {
     "name": "stdout",
     "output_type": "stream",
     "text": [
      "5\n",
      "today is :  saturday\n",
      "today is :  sunday\n",
      "today is :  monday\n",
      "today is :  tuesday\n",
      "today is :  wendesday\n"
     ]
    }
   ],
   "source": [
    "Day=[\"saturday\",\"sunday\",\"monday\",\"tuesday\",\"wendesday\"]\n",
    "print(len(Day))#len=5\n",
    "count=0\n",
    "print(\"today is : \", Day[count])  #saturday\n",
    "count=1\n",
    "print(\"today is : \", Day[count])   #sunday\n",
    "count=2\n",
    "print(\"today is : \", Day[count]) \n",
    "count=3\n",
    "print(\"today is : \", Day[count]) \n",
    "count=4\n",
    "print(\"today is : \", Day[count]) \n"
   ]
  },
  {
   "cell_type": "code",
   "execution_count": 32,
   "metadata": {},
   "outputs": [
    {
     "name": "stdout",
     "output_type": "stream",
     "text": [
      "today is:  saturday\n",
      "today is:  sunday\n",
      "today is:  monday\n",
      "today is:  tuesday\n",
      "today is:  wendesday\n"
     ]
    }
   ],
   "source": [
    "Day=[\"saturday\",\"sunday\",\"monday\",\"tuesday\",\"wendesday\"]\n",
    "for char in Day:\n",
    "    print(\"today is: \",char)\n"
   ]
  },
  {
   "cell_type": "code",
   "execution_count": 33,
   "metadata": {},
   "outputs": [
    {
     "name": "stdout",
     "output_type": "stream",
     "text": [
      "the List is empty!\n"
     ]
    }
   ],
   "source": [
    "List=[]\n",
    "for char in List:\n",
    "    print(char)\n",
    "print(\"the List is empty!\")\n"
   ]
  },
  {
   "cell_type": "code",
   "execution_count": 35,
   "metadata": {},
   "outputs": [
    {
     "name": "stdout",
     "output_type": "stream",
     "text": [
      "s\n",
      "a\n",
      "t\n",
      "u\n",
      "r\n",
      "d\n",
      "a\n",
      "y\n",
      "s\n",
      "u\n",
      "n\n",
      "d\n",
      "a\n",
      "y\n"
     ]
    }
   ],
   "source": [
    "Day=[\"saturday\",\"sunday\",\"monday\",\"tuesday\",\"wendesday\"]\n",
    "for char in Day[0]:\n",
    "    print(char)\n",
    "for char in Day[1]:\n",
    "    print(char)\n"
   ]
  },
  {
   "cell_type": "code",
   "execution_count": 38,
   "metadata": {},
   "outputs": [
    {
     "name": "stdout",
     "output_type": "stream",
     "text": [
      "a\n",
      "b\n",
      "c\n",
      "d\n",
      "done\n",
      "a\n",
      "b\n",
      "c\n",
      "d\n"
     ]
    }
   ],
   "source": [
    "alphabet=(\"a\",\"b\",\"c\",\"d\")\n",
    "for char in alphabet:\n",
    "    print(char)\n",
    "print(\"done\")\n",
    "\n",
    "for index in range(len(alphabet)):\n",
    "    print(alphabet[index])"
   ]
  },
  {
   "cell_type": "code",
   "execution_count": 48,
   "metadata": {},
   "outputs": [
    {
     "name": "stdout",
     "output_type": "stream",
     "text": [
      "a\n",
      "l\n",
      "g\n",
      "e\n",
      "b\n",
      "r\n",
      "a\n"
     ]
    }
   ],
   "source": [
    "a=[\"math\",\"physics\",\"english\",\"arabic\",\"algebra\"]\n",
    "for index in range(len(a[4])):\n",
    "    print(a[4][index])\n",
    "\n"
   ]
  }
 ],
 "metadata": {
  "kernelspec": {
   "display_name": "python_beginner",
   "language": "python",
   "name": "python3"
  },
  "language_info": {
   "codemirror_mode": {
    "name": "ipython",
    "version": 3
   },
   "file_extension": ".py",
   "mimetype": "text/x-python",
   "name": "python",
   "nbconvert_exporter": "python",
   "pygments_lexer": "ipython3",
   "version": "3.8.2"
  }
 },
 "nbformat": 4,
 "nbformat_minor": 2
}
