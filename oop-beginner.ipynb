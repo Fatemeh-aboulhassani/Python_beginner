{
 "cells": [
  {
   "cell_type": "code",
   "execution_count": 2,
   "metadata": {},
   "outputs": [
    {
     "name": "stdout",
     "output_type": "stream",
     "text": [
      "False\n",
      "True\n",
      "True\n",
      "False\n",
      "True\n"
     ]
    }
   ],
   "source": [
    "# how can i check, ob der gewählte Name akzeptable ist.\n",
    "\n",
    "print(\"2a\".isidentifier())\n",
    "print(\"_e3\".isidentifier())\n",
    "print(\"Class\".isidentifier())\n",
    "print(\"m@\".isidentifier())\n",
    "print(\"if\".isidentifier())"
   ]
  },
  {
   "cell_type": "code",
   "execution_count": 11,
   "metadata": {},
   "outputs": [
    {
     "name": "stdout",
     "output_type": "stream",
     "text": [
      "6\n",
      "True\n",
      "False\n",
      "PYTHON\n",
      "1\n",
      "1\n"
     ]
    }
   ],
   "source": [
    "s=\"python\"\n",
    "print(len(s))\n",
    "print(s.islower())\n",
    "print(s.isupper())\n",
    "print(s.upper())\n",
    "print(s.find(\"y\"))\n",
    "print(s.count(\"y\"))"
   ]
  },
  {
   "cell_type": "code",
   "execution_count": 27,
   "metadata": {},
   "outputs": [
    {
     "name": "stdout",
     "output_type": "stream",
     "text": [
      "7\n",
      "3\n",
      "2\n",
      "True\n",
      "False\n",
      "FATEMEH\n",
      "True\n",
      "False\n",
      "fatemeh---\n",
      "False\n",
      "1234meh\n"
     ]
    }
   ],
   "source": [
    "f=\"fatemeh\"\n",
    "print(len(f))\n",
    "print(f.find(\"e\"))\n",
    "print(f.count(\"e\"))\n",
    "print(f.islower())\n",
    "print(f.isupper())\n",
    "print(f.upper())\n",
    "print(f.isalpha())\n",
    "print(f.isdigit()) \n",
    "print(f.ljust(10,\"-\"))\n",
    "print(f.startswith(\"py\"))\n",
    "print(f.replace(\"fate\",\"1234\"))"
   ]
  },
  {
   "cell_type": "code",
   "execution_count": 69,
   "metadata": {},
   "outputs": [
    {
     "name": "stdout",
     "output_type": "stream",
     "text": [
      "addad A barabar ast ba 2 va adad a + b hast 2.6666666666666665\n"
     ]
    },
    {
     "data": {
      "text/plain": [
       "'2 + 0.6666666666666666'"
      ]
     },
     "execution_count": 69,
     "metadata": {},
     "output_type": "execute_result"
    }
   ],
   "source": [
    "a = 2\n",
    "b = 2/3\n",
    "print(f\"addad A barabar ast ba {a} va adad a + b hast {a+b}\")\n",
    "c = (f\"{a} + {b}\")\n",
    "c"
   ]
  },
  {
   "cell_type": "code",
   "execution_count": 81,
   "metadata": {},
   "outputs": [
    {
     "name": "stdout",
     "output_type": "stream",
     "text": [
      "[6, 3, 12, 98, [9, 14, 17, 97]]\n",
      "[6, 3, 12, 98, [9, 14, 17, 97], 90]\n",
      "6\n"
     ]
    }
   ],
   "source": [
    "# append\n",
    "e=[6,3,12,98]\n",
    "f=[9,14,17,97]\n",
    "e.append(f)\n",
    "print(e)\n",
    "e.append(90)\n",
    "print(e)\n",
    "print(len(e))\n"
   ]
  },
  {
   "cell_type": "code",
   "execution_count": 80,
   "metadata": {},
   "outputs": [
    {
     "name": "stdout",
     "output_type": "stream",
     "text": [
      "[8, 3, 19, 4, 8, 2, 6, 98, 12]\n",
      "9\n"
     ]
    }
   ],
   "source": [
    "#extend as append\n",
    "q=[8,3,19,4]\n",
    "u=[8,2,6,98,12]\n",
    "q.extend(u)\n",
    "print(q)\n",
    "print(len(q))"
   ]
  },
  {
   "cell_type": "code",
   "execution_count": 83,
   "metadata": {},
   "outputs": [
    {
     "name": "stdout",
     "output_type": "stream",
     "text": [
      "[9, 12, 64, 754, 13, 0, 1, 2]\n"
     ]
    }
   ],
   "source": [
    "a=[9,12,64,754,13]\n",
    "for i in range(3):\n",
    "    a.append(i)\n",
    "print(a)"
   ]
  },
  {
   "cell_type": "code",
   "execution_count": 85,
   "metadata": {},
   "outputs": [
    {
     "name": "stdout",
     "output_type": "stream",
     "text": [
      "[0, 1, 2, 3, 4, 5, 6]\n"
     ]
    }
   ],
   "source": [
    "# important\n",
    "a=[i for i in range(7)]\n",
    "print(a)"
   ]
  },
  {
   "cell_type": "code",
   "execution_count": 88,
   "metadata": {},
   "outputs": [
    {
     "name": "stdout",
     "output_type": "stream",
     "text": [
      "[0, 1, 2, 3, 4, 5, 6]\n"
     ]
    }
   ],
   "source": [
    "a=[]\n",
    "for i in range(7):\n",
    "    a.append(i)\n",
    "\n",
    "print(a)"
   ]
  },
  {
   "cell_type": "code",
   "execution_count": 90,
   "metadata": {},
   "outputs": [
    {
     "name": "stdout",
     "output_type": "stream",
     "text": [
      "[12, 19, 20, 14]\n"
     ]
    }
   ],
   "source": [
    "grade=[7,12,19,20,14,10]\n",
    "a=[i for i in grade if i>10]\n",
    "print(a)"
   ]
  },
  {
   "cell_type": "code",
   "execution_count": 91,
   "metadata": {},
   "outputs": [
    {
     "name": "stdout",
     "output_type": "stream",
     "text": [
      "[13, 14, 17, 20]\n"
     ]
    }
   ],
   "source": [
    "grade1=[9,13,8,14,17,20]\n",
    "a=[]\n",
    "for i in grade1:\n",
    "    if i>10:\n",
    "        a.append(i)\n",
    "\n",
    "print(a)"
   ]
  },
  {
   "cell_type": "code",
   "execution_count": 95,
   "metadata": {},
   "outputs": [
    {
     "name": "stdout",
     "output_type": "stream",
     "text": [
      "[14, 19, 20, 18]\n"
     ]
    }
   ],
   "source": [
    "g2=[6,14,19,20,4,7,18]\n",
    "\n",
    "a=[i for i in g2 if i>10]\n",
    "print(a)"
   ]
  },
  {
   "cell_type": "code",
   "execution_count": 35,
   "metadata": {},
   "outputs": [
    {
     "name": "stdout",
     "output_type": "stream",
     "text": [
      "name : mohsen\n",
      "name : mohsen\n",
      "name: mohsen  salam\n"
     ]
    }
   ],
   "source": [
    "a=\"mohsen\"\n",
    "print(f\"name : {a}\" )\n",
    "print(\"name :\",a)\n",
    "print(\"name: \"+a+\"  salam\")\n",
    "\n"
   ]
  },
  {
   "cell_type": "code",
   "execution_count": 37,
   "metadata": {},
   "outputs": [
    {
     "name": "stdout",
     "output_type": "stream",
     "text": [
      "name: Fatemeh , lastname: Abouhassani \n"
     ]
    }
   ],
   "source": [
    "a=\"fatemeh\"\n",
    "b=\"abouhassani\"\n",
    "print(f\"name: {a.title()} , lastname: {b.title()} \")"
   ]
  },
  {
   "cell_type": "code",
   "execution_count": 3,
   "metadata": {},
   "outputs": [
    {
     "name": "stdout",
     "output_type": "stream",
     "text": [
      "True\n",
      "True\n"
     ]
    }
   ],
   "source": [
    "# how can i check, ob ein Name keyword ist.\n",
    "\n",
    "from keyword import iskeyword\n",
    "print(iskeyword(\"if\"))\n",
    "print(iskeyword(\"class\"))"
   ]
  },
  {
   "cell_type": "code",
   "execution_count": 9,
   "metadata": {},
   "outputs": [
    {
     "name": "stdout",
     "output_type": "stream",
     "text": [
      "4.0\n",
      "24\n",
      "25.0\n",
      "3.141592653589793\n",
      "98.0\n"
     ]
    }
   ],
   "source": [
    "import math\n",
    "\n",
    "print(math.sqrt(16))\n",
    "print(math.factorial(4))\n",
    "print(math.pow(5,2)) \n",
    "print(math.pi)\n",
    "print(math.fabs(-98))"
   ]
  },
  {
   "cell_type": "code",
   "execution_count": 18,
   "metadata": {},
   "outputs": [
    {
     "name": "stdout",
     "output_type": "stream",
     "text": [
      "3038\n",
      "10\n"
     ]
    }
   ],
   "source": [
    "import random\n",
    "\n",
    "print(random.randint(1,8495)) \n",
    "print(random.choice([1,10])) # python wählt 1 or 10"
   ]
  },
  {
   "cell_type": "code",
   "execution_count": 20,
   "metadata": {},
   "outputs": [
    {
     "name": "stdout",
     "output_type": "stream",
     "text": [
      "2024-07-14 22:02:29.792230\n"
     ]
    }
   ],
   "source": [
    "import datetime\n",
    "now=datetime.datetime.now()\n",
    "print(now)"
   ]
  },
  {
   "cell_type": "code",
   "execution_count": null,
   "metadata": {},
   "outputs": [],
   "source": [
    "a=3\n",
    "b=8\n",
    "if a<b:\n",
    "    m=a\n",
    "else:\n",
    "    m=b\n",
    "\n"
   ]
  },
  {
   "cell_type": "code",
   "execution_count": null,
   "metadata": {},
   "outputs": [],
   "source": [
    "# conditional expression\n",
    "\n",
    "m=a if a<b else b"
   ]
  },
  {
   "cell_type": "code",
   "execution_count": 24,
   "metadata": {},
   "outputs": [
    {
     "name": "stdout",
     "output_type": "stream",
     "text": [
      "fail\n"
     ]
    }
   ],
   "source": [
    "grade=2\n",
    "s=\"fail\" if grade<10 else \"pass\"\n",
    "print(s)"
   ]
  },
  {
   "cell_type": "code",
   "execution_count": 26,
   "metadata": {},
   "outputs": [
    {
     "name": "stdout",
     "output_type": "stream",
     "text": [
      "shopping\n"
     ]
    }
   ],
   "source": [
    "today=\"holiday\"\n",
    "money=90\n",
    "\n",
    "if today == \"holiday\":\n",
    "    if money>50:\n",
    "        print(\"shopping\")\n",
    "    else:\n",
    "        print(\"watch TV\")\n",
    "\n",
    "else:\n",
    "    print(\"normal working day\")"
   ]
  },
  {
   "cell_type": "code",
   "execution_count": 28,
   "metadata": {},
   "outputs": [
    {
     "name": "stdout",
     "output_type": "stream",
     "text": [
      "fail\n"
     ]
    }
   ],
   "source": [
    "score=7\n",
    "if score >=90:\n",
    "    print(\"A\")\n",
    "\n",
    "elif score >=80:\n",
    "    print(\"B\")\n",
    "\n",
    "elif score >=70:\n",
    "    print(\"C\")\n",
    "\n",
    "elif score >=60:\n",
    "    print(\"D\")\n",
    "\n",
    "else:\n",
    "    print(\"fail\")\n"
   ]
  },
  {
   "cell_type": "code",
   "execution_count": 36,
   "metadata": {},
   "outputs": [
    {
     "name": "stdout",
     "output_type": "stream",
     "text": [
      "0  1  2  "
     ]
    }
   ],
   "source": [
    "for i in range (3):\n",
    "    print(i, end=\"  \")\n"
   ]
  },
  {
   "cell_type": "code",
   "execution_count": 41,
   "metadata": {},
   "outputs": [
    {
     "name": "stdout",
     "output_type": "stream",
     "text": [
      "6\n",
      "9\n"
     ]
    }
   ],
   "source": [
    "for j in range(6,11,3):\n",
    "    print(j) # 6 to 11 and step=3"
   ]
  },
  {
   "cell_type": "code",
   "execution_count": 38,
   "metadata": {},
   "outputs": [
    {
     "name": "stdout",
     "output_type": "stream",
     "text": [
      "hello  hello  hello  "
     ]
    }
   ],
   "source": [
    "for _ in range(3):\n",
    "    print(\"hello\", end=\"  \")"
   ]
  },
  {
   "cell_type": "code",
   "execution_count": 45,
   "metadata": {},
   "outputs": [
    {
     "name": "stdout",
     "output_type": "stream",
     "text": [
      "1 \n",
      "1 2 \n",
      "1 2 3 \n"
     ]
    }
   ],
   "source": [
    "for i in range(2,5):\n",
    "    for j in range(1,i):\n",
    "        print(j, end= \" \")\n",
    "    print()\n"
   ]
  },
  {
   "cell_type": "code",
   "execution_count": 48,
   "metadata": {},
   "outputs": [
    {
     "name": "stdout",
     "output_type": "stream",
     "text": [
      "0 1 2 3 "
     ]
    }
   ],
   "source": [
    "# break\n",
    "for i in range(6):\n",
    "    if i==4:\n",
    "        break\n",
    "    else:\n",
    "        print(i, end=\" \")"
   ]
  },
  {
   "cell_type": "code",
   "execution_count": 53,
   "metadata": {},
   "outputs": [
    {
     "name": "stdout",
     "output_type": "stream",
     "text": [
      "0 1 3 4 5 "
     ]
    }
   ],
   "source": [
    "for i in range (6):\n",
    "    if i==2:\n",
    "        continue\n",
    "    else:\n",
    "        print(i, end=\" \")"
   ]
  },
  {
   "cell_type": "code",
   "execution_count": 55,
   "metadata": {},
   "outputs": [
    {
     "name": "stdout",
     "output_type": "stream",
     "text": [
      "1 2 3 4 "
     ]
    }
   ],
   "source": [
    "#while\n",
    "\n",
    "i=1\n",
    "while i<=4:\n",
    "    print(i,end=\" \")\n",
    "    i += 1"
   ]
  },
  {
   "cell_type": "code",
   "execution_count": 57,
   "metadata": {},
   "outputs": [
    {
     "name": "stdout",
     "output_type": "stream",
     "text": [
      "8 7 6 5 3 2 "
     ]
    }
   ],
   "source": [
    "n=9\n",
    "while n>2:\n",
    "    n-=1\n",
    "    if n==4:\n",
    "        continue\n",
    "    print(n, end=\" \")"
   ]
  },
  {
   "cell_type": "code",
   "execution_count": 68,
   "metadata": {},
   "outputs": [
    {
     "name": "stdout",
     "output_type": "stream",
     "text": [
      "9 8 7 6 5 "
     ]
    }
   ],
   "source": [
    "n=10\n",
    "while n>1:\n",
    "    n-=1\n",
    "    if n==4:\n",
    "        break\n",
    "    print(n, end=\" \")"
   ]
  },
  {
   "cell_type": "code",
   "execution_count": 41,
   "metadata": {},
   "outputs": [
    {
     "name": "stdout",
     "output_type": "stream",
     "text": [
      "<class 'list'>\n",
      "3\n",
      "1\n",
      "2\n"
     ]
    }
   ],
   "source": [
    "# list\n",
    "a=[8,2,12]\n",
    "print(type(a))\n",
    "print(len(a))\n",
    "print(a.index(2))\n",
    "print(a[1])"
   ]
  },
  {
   "cell_type": "code",
   "execution_count": 46,
   "metadata": {},
   "outputs": [
    {
     "name": "stdout",
     "output_type": "stream",
     "text": [
      "sara  mahsa  "
     ]
    }
   ],
   "source": [
    "child=[\"sara\",\"mahsa\"]\n",
    "for i in child:\n",
    "    print(i, end=\"  \" )"
   ]
  },
  {
   "cell_type": "code",
   "execution_count": 57,
   "metadata": {},
   "outputs": [
    {
     "name": "stdout",
     "output_type": "stream",
     "text": [
      "1  2  3  4  5  ------\n",
      "4  6  8  12  "
     ]
    }
   ],
   "source": [
    "numbers=[1,2,3,4,5]\n",
    "for i in numbers:\n",
    "    print(i, end=\"  \")\n",
    "print(\"------\")\n",
    "n=[4,6,8,12]\n",
    "for j in range(len(n)):\n",
    "    print(n[j], end=\"  \")"
   ]
  },
  {
   "cell_type": "code",
   "execution_count": 70,
   "metadata": {},
   "outputs": [
    {
     "name": "stdout",
     "output_type": "stream",
     "text": [
      "34\n",
      "8\n",
      "87\n",
      "[34, 24, 8, 9]\n",
      "m.pop(): [34, 24, 8]\n",
      "[24, 8]\n"
     ]
    }
   ],
   "source": [
    "m=[34,24,8,9,12]\n",
    "print(max(m))\n",
    "print(min(m))\n",
    "print(sum(m))\n",
    "m.remove(12)\n",
    "print(m)\n",
    "m.pop()\n",
    "print(f'm.pop(): {m}') # remove last item\n",
    "m.pop(0)\n",
    "print(m)\n"
   ]
  },
  {
   "cell_type": "code",
   "execution_count": null,
   "metadata": {},
   "outputs": [],
   "source": [
    "y=[8,12,7,]"
   ]
  },
  {
   "cell_type": "code",
   "execution_count": 4,
   "metadata": {},
   "outputs": [],
   "source": [
    "# tuple\n",
    "t=(\"english\",\"art\",\"mathematics\")\n",
    "# t.append(\"algebra\")\n",
    "# print(t)  ....> error"
   ]
  },
  {
   "cell_type": "code",
   "execution_count": 11,
   "metadata": {},
   "outputs": [
    {
     "name": "stdout",
     "output_type": "stream",
     "text": [
      "3\n",
      "english\n",
      "English\n",
      "('english', 'art', 'mathematics')\n"
     ]
    }
   ],
   "source": [
    "t1=(\"english\",\"art\",\"mathematics\")\n",
    "print(len(t1))\n",
    "print(t1[0])\n",
    "print(t1[0].title())\n",
    "print(t1)\n"
   ]
  },
  {
   "cell_type": "code",
   "execution_count": 20,
   "metadata": {},
   "outputs": [
    {
     "name": "stdout",
     "output_type": "stream",
     "text": [
      "7\n",
      "1\n",
      "3\n",
      "True\n",
      "121\n",
      "98\n",
      "1\n",
      "False\n"
     ]
    }
   ],
   "source": [
    "t=(15,7,98,1)\n",
    "print(t[1])\n",
    "print(t[3])\n",
    "print(t.index(1))\n",
    "print(15 in t)\n",
    "print(sum(t))\n",
    "print(max(t))\n",
    "print(min(t))\n",
    "print(3 in t)"
   ]
  },
  {
   "cell_type": "code",
   "execution_count": 28,
   "metadata": {},
   "outputs": [
    {
     "name": "stdout",
     "output_type": "stream",
     "text": [
      "(1, 2)\n",
      "[15, 7, 98, 1]\n",
      "[15, 7, 98, 1, 7]\n",
      "(15, 7, 98, 1, 7)\n"
     ]
    }
   ],
   "source": [
    "# 1. tuple to list 2. append 3. list to tuple\n",
    "t1=(1,2)\n",
    "print(t1)\n",
    "\n",
    "a=list(t)\n",
    "print(a)\n",
    "\n",
    "a.append(7)\n",
    "print(a)\n",
    "\n",
    "b=tuple(a)\n",
    "print(b)"
   ]
  },
  {
   "cell_type": "code",
   "execution_count": 30,
   "metadata": {},
   "outputs": [],
   "source": [
    "t2=(6,8,23)\n",
    "# t2.append\n",
    "# print(t2)\n",
    "\n",
    "# output: error\n",
    "\n"
   ]
  },
  {
   "cell_type": "code",
   "execution_count": 40,
   "metadata": {},
   "outputs": [
    {
     "name": "stdout",
     "output_type": "stream",
     "text": [
      "[6, 8, 23]\n",
      "[6, 8, 23, 9, 13]\n",
      "[8, 23, 9, 13]\n",
      "(8, 23, 9, 13)\n"
     ]
    }
   ],
   "source": [
    "# how can i use append in tuple\n",
    "\n",
    "t2=(6,8,23) # tuple\n",
    "t3=list(t2)\n",
    "print(t3)\n",
    "t4=[9,13]\n",
    "t3.extend(t4)\n",
    "print(t3)\n",
    "t3.remove(6)\n",
    "print(t3)\n",
    "print(tuple(t3))"
   ]
  },
  {
   "cell_type": "code",
   "execution_count": 55,
   "metadata": {},
   "outputs": [
    {
     "name": "stdout",
     "output_type": "stream",
     "text": [
      "[(1, 'x'), (2, 'y')]\n"
     ]
    }
   ],
   "source": [
    "# zip # unzip\n",
    "\n",
    "x1=(1,2)\n",
    "y2=(\"x\",\"y\")\n",
    "z1=zip(x1,y2)\n",
    "print(list(z1))\n",
    "\n",
    "\n"
   ]
  },
  {
   "cell_type": "code",
   "execution_count": 56,
   "metadata": {},
   "outputs": [],
   "source": [
    "d1={\"brand\":\"b\",\n",
    "    \"model\": \"m\",\n",
    "    \"color\":\"red\",\n",
    "    \"year\":2020\n",
    "    }\n"
   ]
  },
  {
   "cell_type": "code",
   "execution_count": 74,
   "metadata": {},
   "outputs": [
    {
     "name": "stdout",
     "output_type": "stream",
     "text": [
      "type(d2): <class 'dict'>\n",
      "len(d2): 5\n",
      "d2[\"x\"]: 14\n",
      "d2[\"z\"]: 9\n",
      "len(d2): 5\n",
      "19\n",
      "14\n",
      "['x', 'y', 'z', 'w', 's']\n",
      "[14, 19, 9, 72, 1]\n",
      "[('x', 14), ('y', 19), ('z', 9), ('w', 72), ('s', 1)]\n"
     ]
    }
   ],
   "source": [
    "d2={\"x\":14,\"y\":19,\"z\":9,\"w\":72,\"s\":1}\n",
    "print(f'type(d2): {type(d2)}')\n",
    "print(f'len(d2): {len(d2)}')\n",
    "print(f'd2[\"x\"]: {d2[\"x\"]}')\n",
    "print(f'd2[\"z\"]: {d2[\"z\"]}')\n",
    "\n",
    "print(\"len(d2):\",len(d2))\n",
    "\n",
    "\n",
    "print(d2.get(\"y\"))\n",
    "print(d2.get(\"x\"))  # = d2[\"x\"]\n",
    "\n",
    "print(list(d2.keys()))\n",
    "print(list(d2.values()))\n",
    "print(list(d2.items()))\n",
    "\n",
    "\n",
    "\n"
   ]
  },
  {
   "cell_type": "code",
   "execution_count": 91,
   "metadata": {},
   "outputs": [
    {
     "name": "stdout",
     "output_type": "stream",
     "text": [
      "[('c', 2), ('d', 6), ('x', 87)]\n"
     ]
    }
   ],
   "source": [
    "f1={\"x\":87,\"c\":2,\"d\":6}\n",
    "import operator\n",
    "k=operator.itemgetter(1)\n",
    "print(sorted(f1.items(),key=k))"
   ]
  },
  {
   "cell_type": "code",
   "execution_count": 93,
   "metadata": {},
   "outputs": [
    {
     "name": "stdout",
     "output_type": "stream",
     "text": [
      "[{'name': 'sara', 'grade': 10}, {'name': 'Ali', 'grade': 12}, {'name': 'fatemeh', 'grade': 19}, {'name': 'maryam', 'grade': 20}]\n",
      "[{'name': 'sara', 'grade': 10}, {'name': 'Ali', 'grade': 12}, {'name': 'fatemeh', 'grade': 19}, {'name': 'maryam', 'grade': 20}]\n"
     ]
    }
   ],
   "source": [
    "# I have a list of dictionaries and every dictionary contains information about my students. I want to sort the list based on grades.\n",
    "\n",
    "\n",
    "\n",
    "students=[{\"name\":\"Ali\",\"grade\":12},{\"name\":\"sara\",\"grade\":10},{\"name\":\"fatemeh\",\"grade\":19},{\"name\":\"maryam\",\"grade\"\n",
    ":20}]\n",
    "\n",
    "from operator import itemgetter\n",
    "\n",
    "k=itemgetter(\"grade\")\n",
    "print(sorted(students,key=k))\n",
    "\n",
    "\n",
    "sort_stu=sorted(students,key=itemgetter(\"grade\"))\n",
    "print(sort_stu)\n"
   ]
  },
  {
   "cell_type": "code",
   "execution_count": 96,
   "metadata": {},
   "outputs": [
    {
     "name": "stdout",
     "output_type": "stream",
     "text": [
      "[{'name': 'fatemeh', 'grade': 12}, {'name': 'Ali', 'grade': 13}, {'name': 'maryam', 'grade': 18}, {'name': 'sara', 'grade': 20}]\n"
     ]
    }
   ],
   "source": [
    "p1={\"name\":\"Ali\",\"grade\":13},{\"name\":\"sara\",\"grade\":20},{\"name\":\"fatemeh\",\"grade\":12},{\"name\":\"maryam\",\"grade\"\n",
    ":18}\n",
    "\n",
    "from operator import itemgetter\n",
    "stu_sort=sorted(p1,key=itemgetter(\"grade\"))\n",
    "print(stu_sort)"
   ]
  },
  {
   "cell_type": "code",
   "execution_count": 116,
   "metadata": {},
   "outputs": [
    {
     "name": "stdout",
     "output_type": "stream",
     "text": [
      "{'x': 3, 'y': 5, 'z': 1, 'w': 18, 't': 99}\n",
      "{'x': 3, 'y': 5, 'z': 1, 'w': 18, 't': 99}\n"
     ]
    }
   ],
   "source": [
    "#combine\n",
    "d11={\"x\":3,\"y\":5,\"z\":1}\n",
    "d12={\"w\":18,\"t\":99}\n",
    "dd={}\n",
    "d11.update(d12)\n",
    "print(d11)\n",
    "dd=d11.copy()\n",
    "print(dd)"
   ]
  },
  {
   "cell_type": "code",
   "execution_count": 127,
   "metadata": {},
   "outputs": [
    {
     "name": "stdout",
     "output_type": "stream",
     "text": [
      "{'w': 18, 't': 99, 'x': 3, 'y': 5, 'z': 1}\n",
      "[('z', 1), ('x', 3), ('y', 5), ('w', 18), ('t', 99)]\n"
     ]
    }
   ],
   "source": [
    "d21={\"x\":3,\"y\":5,\"z\":1}\n",
    "d22={\"w\":18,\"t\":99}\n",
    "\n",
    "#combine\n",
    "\n",
    "d22.update(d21)\n",
    "print(d22)\n",
    "\n",
    "\n",
    "from operator import itemgetter\n",
    "\n",
    "sort_d22=print(sorted(d22.items(),key=itemgetter(1)))\n",
    "\n"
   ]
  },
  {
   "cell_type": "code",
   "execution_count": 145,
   "metadata": {},
   "outputs": [
    {
     "name": "stdout",
     "output_type": "stream",
     "text": [
      "[{'name': 'z', 'grade': 1}, {'name': 'x', 'grade': 3}, {'name': 'y', 'grade': 5}]\n",
      "[{'name': 'n', 'grade': 2}, {'name': 'w', 'grade': 18}, {'name': 't', 'grade': 99}, {'name': 'b', 'grade': 175}]\n"
     ]
    }
   ],
   "source": [
    "d21=[{\"name\":\"x\",\"grade\":3},{\"name\":\"y\",\"grade\":5},{\"name\":\"z\",\"grade\":1}]\n",
    "d22=[{\"name\":\"w\",\"grade\":18},{\"name\":\"t\",\"grade\":99},{\"name\":\"n\",\"grade\":2},{\"name\":\"b\",\"grade\":175}]\n",
    "\n",
    "\n",
    "from operator import itemgetter\n",
    "sort_d21=sorted(d21,key=itemgetter(\"grade\"))\n",
    "print(sort_d21)\n",
    "sort_d22=sorted(d22,key=itemgetter(\"grade\"))\n",
    "print(sort_d22)\n",
    "\n"
   ]
  },
  {
   "cell_type": "code",
   "execution_count": 151,
   "metadata": {},
   "outputs": [
    {
     "name": "stdout",
     "output_type": "stream",
     "text": [
      "[{'name': 'z', 'grade': 1}, {'name': 'n', 'grade': 2}, {'name': 'x', 'grade': 3}, {'name': 'y', 'grade': 5}, {'name': 'w', 'grade': 18}, {'name': 't', 'grade': 99}, {'name': 'b', 'grade': 175}]\n"
     ]
    }
   ],
   "source": [
    "d21=[{\"name\":\"x\",\"grade\":3},{\"name\":\"y\",\"grade\":5},{\"name\":\"z\",\"grade\":1}]\n",
    "d22=[{\"name\":\"w\",\"grade\":18},{\"name\":\"t\",\"grade\":99},{\"name\":\"n\",\"grade\":2},{\"name\":\"b\",\"grade\":175}]\n",
    "\n",
    "d21.extend(d22)\n",
    "d21\n",
    "\n",
    "from operator import itemgetter\n",
    "sort_d21=sorted(d21,key=itemgetter(\"grade\"))\n",
    "print(sort_d21)\n",
    "\n",
    "\n"
   ]
  },
  {
   "cell_type": "code",
   "execution_count": 185,
   "metadata": {},
   "outputs": [
    {
     "name": "stdout",
     "output_type": "stream",
     "text": [
      "{'c': 3, 'b': 12, 'a': 97}\n"
     ]
    }
   ],
   "source": [
    "# 2 lists to dictionary : ##zip\n",
    "\n",
    "\n",
    "kk=[\"a\",\"b\",\"c\"]\n",
    "vv=[97,12,3]\n",
    "kv=zip(kk,vv)\n",
    "kvdict=dict(kv)\n",
    "\n",
    "from operator import itemgetter\n",
    "sort_kv=sorted(kvdict.items(),key=itemgetter(1))\n",
    "print(dict(sort_kv))"
   ]
  },
  {
   "cell_type": "code",
   "execution_count": 192,
   "metadata": {},
   "outputs": [
    {
     "data": {
      "text/plain": [
       "[{'name': 'maryam', 'age': 2},\n",
       " {'name': 'ali', 'age': 12},\n",
       " {'name': 'sara', 'age': 24},\n",
       " {'name': 'mohsen', 'age': 30}]"
      ]
     },
     "execution_count": 192,
     "metadata": {},
     "output_type": "execute_result"
    }
   ],
   "source": [
    "myfamily={\"child1\":{\"name\":\"sara\",\"age\":24},\n",
    "          \"child2\":{\"name\":\"ali\",\"age\":12},\n",
    "          \"child3\":{\"name\":\"maryam\",\"age\":2},\n",
    "          \"child4\":{\"name\":\"mohsen\",\"age\":30}\n",
    "          }\n",
    "\n",
    "\n",
    "from operator import itemgetter\n",
    "\n",
    "sort_myfamily = sorted(myfamily.values(), key=itemgetter(\"age\"))\n",
    "sort_myfamily"
   ]
  }
 ],
 "metadata": {
  "kernelspec": {
   "display_name": "python_beginner",
   "language": "python",
   "name": "python3"
  },
  "language_info": {
   "codemirror_mode": {
    "name": "ipython",
    "version": 3
   },
   "file_extension": ".py",
   "mimetype": "text/x-python",
   "name": "python",
   "nbconvert_exporter": "python",
   "pygments_lexer": "ipython3",
   "version": "3.8.2"
  }
 },
 "nbformat": 4,
 "nbformat_minor": 2
}
