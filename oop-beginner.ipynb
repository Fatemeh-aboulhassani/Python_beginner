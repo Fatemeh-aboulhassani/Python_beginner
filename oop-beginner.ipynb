{
 "cells": [
  {
   "cell_type": "code",
   "execution_count": 2,
   "metadata": {},
   "outputs": [
    {
     "name": "stdout",
     "output_type": "stream",
     "text": [
      "False\n",
      "True\n",
      "True\n",
      "False\n",
      "True\n"
     ]
    }
   ],
   "source": [
    "# how can i check, ob der gewählte Name akzeptable ist.\n",
    "\n",
    "print(\"2a\".isidentifier())\n",
    "print(\"_e3\".isidentifier())\n",
    "print(\"Class\".isidentifier())\n",
    "print(\"m@\".isidentifier())\n",
    "print(\"if\".isidentifier())"
   ]
  },
  {
   "cell_type": "code",
   "execution_count": 11,
   "metadata": {},
   "outputs": [
    {
     "name": "stdout",
     "output_type": "stream",
     "text": [
      "6\n",
      "True\n",
      "False\n",
      "PYTHON\n",
      "1\n",
      "1\n"
     ]
    }
   ],
   "source": [
    "s=\"python\"\n",
    "print(len(s))\n",
    "print(s.islower())\n",
    "print(s.isupper())\n",
    "print(s.upper())\n",
    "print(s.find(\"y\"))\n",
    "print(s.count(\"y\"))"
   ]
  },
  {
   "cell_type": "code",
   "execution_count": 27,
   "metadata": {},
   "outputs": [
    {
     "name": "stdout",
     "output_type": "stream",
     "text": [
      "7\n",
      "3\n",
      "2\n",
      "True\n",
      "False\n",
      "FATEMEH\n",
      "True\n",
      "False\n",
      "fatemeh---\n",
      "False\n",
      "1234meh\n"
     ]
    }
   ],
   "source": [
    "f=\"fatemeh\"\n",
    "print(len(f))\n",
    "print(f.find(\"e\"))\n",
    "print(f.count(\"e\"))\n",
    "print(f.islower())\n",
    "print(f.isupper())\n",
    "print(f.upper())\n",
    "print(f.isalpha())\n",
    "print(f.isdigit()) \n",
    "print(f.ljust(10,\"-\"))\n",
    "print(f.startswith(\"py\"))\n",
    "print(f.replace(\"fate\",\"1234\"))"
   ]
  },
  {
   "cell_type": "code",
   "execution_count": 35,
   "metadata": {},
   "outputs": [
    {
     "name": "stdout",
     "output_type": "stream",
     "text": [
      "name : mohsen\n",
      "name : mohsen\n",
      "name: mohsen  salam\n"
     ]
    }
   ],
   "source": [
    "a=\"mohsen\"\n",
    "print(f\"name : {a}\" )\n",
    "print(\"name :\",a)\n",
    "print(\"name: \"+a+\"  salam\")\n",
    "\n"
   ]
  },
  {
   "cell_type": "code",
   "execution_count": 3,
   "metadata": {},
   "outputs": [
    {
     "name": "stdout",
     "output_type": "stream",
     "text": [
      "True\n",
      "True\n"
     ]
    }
   ],
   "source": [
    "# how can i check, ob ein Name keyword ist.\n",
    "\n",
    "from keyword import iskeyword\n",
    "print(iskeyword(\"if\"))\n",
    "print(iskeyword(\"class\"))"
   ]
  },
  {
   "cell_type": "code",
   "execution_count": 9,
   "metadata": {},
   "outputs": [
    {
     "name": "stdout",
     "output_type": "stream",
     "text": [
      "4.0\n",
      "24\n",
      "25.0\n",
      "3.141592653589793\n",
      "98.0\n"
     ]
    }
   ],
   "source": [
    "import math\n",
    "\n",
    "print(math.sqrt(16))\n",
    "print(math.factorial(4))\n",
    "print(math.pow(5,2)) \n",
    "print(math.pi)\n",
    "print(math.fabs(-98))"
   ]
  },
  {
   "cell_type": "code",
   "execution_count": 18,
   "metadata": {},
   "outputs": [
    {
     "name": "stdout",
     "output_type": "stream",
     "text": [
      "3038\n",
      "10\n"
     ]
    }
   ],
   "source": [
    "import random\n",
    "\n",
    "print(random.randint(1,8495)) \n",
    "print(random.choice([1,10])) # python wählt 1 or 10"
   ]
  },
  {
   "cell_type": "code",
   "execution_count": 20,
   "metadata": {},
   "outputs": [
    {
     "name": "stdout",
     "output_type": "stream",
     "text": [
      "2024-07-14 22:02:29.792230\n"
     ]
    }
   ],
   "source": [
    "import datetime\n",
    "now=datetime.datetime.now()\n",
    "print(now)"
   ]
  },
  {
   "cell_type": "code",
   "execution_count": null,
   "metadata": {},
   "outputs": [],
   "source": [
    "a=3\n",
    "b=8\n",
    "if a<b:\n",
    "    m=a\n",
    "else:\n",
    "    m=b\n",
    "\n"
   ]
  },
  {
   "cell_type": "code",
   "execution_count": null,
   "metadata": {},
   "outputs": [],
   "source": [
    "# conditional expression\n",
    "\n",
    "m=a if a<b else b"
   ]
  },
  {
   "cell_type": "code",
   "execution_count": 24,
   "metadata": {},
   "outputs": [
    {
     "name": "stdout",
     "output_type": "stream",
     "text": [
      "fail\n"
     ]
    }
   ],
   "source": [
    "grade=2\n",
    "s=\"fail\" if grade<10 else \"pass\"\n",
    "print(s)"
   ]
  },
  {
   "cell_type": "code",
   "execution_count": 26,
   "metadata": {},
   "outputs": [
    {
     "name": "stdout",
     "output_type": "stream",
     "text": [
      "shopping\n"
     ]
    }
   ],
   "source": [
    "today=\"holiday\"\n",
    "money=90\n",
    "\n",
    "if today == \"holiday\":\n",
    "    if money>50:\n",
    "        print(\"shopping\")\n",
    "    else:\n",
    "        print(\"watch TV\")\n",
    "\n",
    "else:\n",
    "    print(\"normal working day\")"
   ]
  },
  {
   "cell_type": "code",
   "execution_count": 28,
   "metadata": {},
   "outputs": [
    {
     "name": "stdout",
     "output_type": "stream",
     "text": [
      "fail\n"
     ]
    }
   ],
   "source": [
    "score=7\n",
    "if score >=90:\n",
    "    print(\"A\")\n",
    "\n",
    "elif score >=80:\n",
    "    print(\"B\")\n",
    "\n",
    "elif score >=70:\n",
    "    print(\"C\")\n",
    "\n",
    "elif score >=60:\n",
    "    print(\"D\")\n",
    "\n",
    "else:\n",
    "    print(\"fail\")\n"
   ]
  },
  {
   "cell_type": "code",
   "execution_count": 36,
   "metadata": {},
   "outputs": [
    {
     "name": "stdout",
     "output_type": "stream",
     "text": [
      "0  1  2  "
     ]
    }
   ],
   "source": [
    "for i in range (3):\n",
    "    print(i, end=\"  \")\n"
   ]
  },
  {
   "cell_type": "code",
   "execution_count": 41,
   "metadata": {},
   "outputs": [
    {
     "name": "stdout",
     "output_type": "stream",
     "text": [
      "6\n",
      "9\n"
     ]
    }
   ],
   "source": [
    "for j in range(6,11,3):\n",
    "    print(j) # 6 to 11 and step=3"
   ]
  },
  {
   "cell_type": "code",
   "execution_count": 38,
   "metadata": {},
   "outputs": [
    {
     "name": "stdout",
     "output_type": "stream",
     "text": [
      "hello  hello  hello  "
     ]
    }
   ],
   "source": [
    "for _ in range(3):\n",
    "    print(\"hello\", end=\"  \")"
   ]
  },
  {
   "cell_type": "code",
   "execution_count": 45,
   "metadata": {},
   "outputs": [
    {
     "name": "stdout",
     "output_type": "stream",
     "text": [
      "1 \n",
      "1 2 \n",
      "1 2 3 \n"
     ]
    }
   ],
   "source": [
    "for i in range(2,5):\n",
    "    for j in range(1,i):\n",
    "        print(j, end= \" \")\n",
    "    print()\n"
   ]
  },
  {
   "cell_type": "code",
   "execution_count": 48,
   "metadata": {},
   "outputs": [
    {
     "name": "stdout",
     "output_type": "stream",
     "text": [
      "0 1 2 3 "
     ]
    }
   ],
   "source": [
    "# break\n",
    "for i in range(6):\n",
    "    if i==4:\n",
    "        break\n",
    "    else:\n",
    "        print(i, end=\" \")"
   ]
  },
  {
   "cell_type": "code",
   "execution_count": 53,
   "metadata": {},
   "outputs": [
    {
     "name": "stdout",
     "output_type": "stream",
     "text": [
      "0 1 3 4 5 "
     ]
    }
   ],
   "source": [
    "for i in range (6):\n",
    "    if i==2:\n",
    "        continue\n",
    "    else:\n",
    "        print(i, end=\" \")"
   ]
  },
  {
   "cell_type": "code",
   "execution_count": 55,
   "metadata": {},
   "outputs": [
    {
     "name": "stdout",
     "output_type": "stream",
     "text": [
      "1 2 3 4 "
     ]
    }
   ],
   "source": [
    "#while\n",
    "\n",
    "i=1\n",
    "while i<=4:\n",
    "    print(i,end=\" \")\n",
    "    i += 1"
   ]
  },
  {
   "cell_type": "code",
   "execution_count": 57,
   "metadata": {},
   "outputs": [
    {
     "name": "stdout",
     "output_type": "stream",
     "text": [
      "8 7 6 5 3 2 "
     ]
    }
   ],
   "source": [
    "n=9\n",
    "while n>2:\n",
    "    n-=1\n",
    "    if n==4:\n",
    "        continue\n",
    "    print(n, end=\" \")"
   ]
  },
  {
   "cell_type": "code",
   "execution_count": 68,
   "metadata": {},
   "outputs": [
    {
     "name": "stdout",
     "output_type": "stream",
     "text": [
      "9 8 7 6 5 "
     ]
    }
   ],
   "source": [
    "n=10\n",
    "while n>1:\n",
    "    n-=1\n",
    "    if n==4:\n",
    "        break\n",
    "    print(n, end=\" \")"
   ]
  },
  {
   "cell_type": "code",
   "execution_count": null,
   "metadata": {},
   "outputs": [],
   "source": []
  }
 ],
 "metadata": {
  "kernelspec": {
   "display_name": "python_beginner",
   "language": "python",
   "name": "python3"
  },
  "language_info": {
   "codemirror_mode": {
    "name": "ipython",
    "version": 3
   },
   "file_extension": ".py",
   "mimetype": "text/x-python",
   "name": "python",
   "nbconvert_exporter": "python",
   "pygments_lexer": "ipython3",
   "version": "3.8.2"
  }
 },
 "nbformat": 4,
 "nbformat_minor": 2
}
