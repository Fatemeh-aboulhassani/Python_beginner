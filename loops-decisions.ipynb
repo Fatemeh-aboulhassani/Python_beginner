{
 "cells": [
  {
   "cell_type": "markdown",
   "metadata": {},
   "source": [
    "## if\n",
    "### if condition:\n"
   ]
  },
  {
   "cell_type": "code",
   "execution_count": 10,
   "metadata": {},
   "outputs": [
    {
     "name": "stdout",
     "output_type": "stream",
     "text": [
      "number is negativ\n",
      "Done!\n"
     ]
    }
   ],
   "source": [
    "num=-7\n",
    "if num>0 :\n",
    "    print(\"the number is positiv\")\n",
    "if num<0:\n",
    "    print(\"number is negativ\")\n",
    "if num==0:\n",
    "    print(\"ziro\")\n",
    "\n",
    "print(\"Done!\")  "
   ]
  },
  {
   "cell_type": "code",
   "execution_count": 2,
   "metadata": {},
   "outputs": [],
   "source": [
    "# positiv or negativ or ziro\n",
    "num=int(input(\"enter the number: \"))\n",
    "if num>0 :\n",
    "    print(\"the number is positiv\")\n",
    "if num<0:\n",
    "    print(\"number is negativ\")\n",
    "if num==0:\n",
    "    print(\"ziro\")\n",
    "\n",
    "print(\"Done!\")  "
   ]
  }
 ],
 "metadata": {
  "kernelspec": {
   "display_name": "python_beginner",
   "language": "python",
   "name": "python3"
  },
  "language_info": {
   "codemirror_mode": {
    "name": "ipython",
    "version": 3
   },
   "file_extension": ".py",
   "mimetype": "text/x-python",
   "name": "python",
   "nbconvert_exporter": "python",
   "pygments_lexer": "ipython3",
   "version": "3.8.2"
  }
 },
 "nbformat": 4,
 "nbformat_minor": 2
}
