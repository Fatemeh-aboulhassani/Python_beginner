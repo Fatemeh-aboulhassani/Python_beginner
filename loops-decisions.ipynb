{
 "cells": [
  {
   "cell_type": "markdown",
   "metadata": {},
   "source": [
    "## if\n",
    "### if condition:\n"
   ]
  },
  {
   "cell_type": "code",
   "execution_count": 10,
   "metadata": {},
   "outputs": [
    {
     "name": "stdout",
     "output_type": "stream",
     "text": [
      "number is negativ\n",
      "Done!\n"
     ]
    }
   ],
   "source": [
    "num=-7\n",
    "if num>0 :\n",
    "    print(\"the number is positiv\")\n",
    "if num<0:\n",
    "    print(\"number is negativ\")\n",
    "if num==0:\n",
    "    print(\"ziro\")\n",
    "\n",
    "print(\"Done!\")  "
   ]
  },
  {
   "cell_type": "markdown",
   "metadata": {},
   "source": [
    "# positiv or negativ or ziro"
   ]
  },
  {
   "cell_type": "code",
   "execution_count": 1,
   "metadata": {},
   "outputs": [],
   "source": [
    "num=int(input(\"enter the number: \"))\n",
    "num=16\n",
    "if num%2 ==0:\n",
    "    print(\"number is Even\")\n",
    "if num%2 !=0:\n",
    "    print(\"number is Odd\")\n",
    "\n",
    "print(\"Done!\")\n"
   ]
  },
  {
   "cell_type": "markdown",
   "metadata": {},
   "source": [
    "# even or odd"
   ]
  },
  {
   "cell_type": "code",
   "execution_count": null,
   "metadata": {},
   "outputs": [],
   "source": [
    "num=int(input(\"enter the number: \"))\n",
    "if num%2 ==0:\n",
    "    print(\"number is Even\")\n",
    "if num%2 !=0:\n",
    "    print(\"number is Odd\")\n",
    "\n",
    "print(\"Done!\")"
   ]
  },
  {
   "cell_type": "markdown",
   "metadata": {},
   "source": [
    "divisible by 3 and 2"
   ]
  },
  {
   "cell_type": "code",
   "execution_count": 1,
   "metadata": {},
   "outputs": [],
   "source": [
    "num=int(input(\"enter the number: \"))\n",
    "if num%2 ==0:\n",
    "    if num%3 ==0:\n",
    "        print(\"divisible by 3 and 2 \", num)\n",
    "\n",
    "print(\"Done!\")\n",
    "        "
   ]
  },
  {
   "cell_type": "code",
   "execution_count": null,
   "metadata": {},
   "outputs": [],
   "source": [
    "num=int(input(\"enter the number: \"))\n",
    "if num%2 ==0:\n",
    "    if num%3==0:\n",
    "        print(num)\n",
    "    if num%3 !=0:\n",
    "        print(num*3)\n",
    "print(\"Done\")   "
   ]
  },
  {
   "cell_type": "code",
   "execution_count": null,
   "metadata": {},
   "outputs": [],
   "source": [
    "num=int(input(\"enter the number: \"))\n",
    "if num%2==0:\n",
    "    if num%3==0:\n",
    "        print(\"the number is: \", num)\n",
    "    print(\"num*3 =\",num*3)\n",
    "if num%2 !=0:\n",
    "    print(\"the number is out of range\")"
   ]
  },
  {
   "cell_type": "markdown",
   "metadata": {},
   "source": [
    "# number is even and bigger than 30"
   ]
  },
  {
   "cell_type": "code",
   "execution_count": null,
   "metadata": {},
   "outputs": [],
   "source": [
    "num=int(input(\"enter the number: \"))\n",
    "if num<=30:\n",
    "    if num%2 ==0:\n",
    "        print(num)\n",
    "    else:\n",
    "        print(\"error\")\n",
    "if num>30:\n",
    "    print(\"out of range\")"
   ]
  },
  {
   "cell_type": "code",
   "execution_count": null,
   "metadata": {},
   "outputs": [],
   "source": [
    "num=int(input(\"enter the number: \"))\n",
    "if num<=100:\n",
    "    if num%5==0:\n",
    "        print(\"number%5=0\")\n",
    "    else:\n",
    "        print(\"error\")\n",
    "if 100<num<200:\n",
    "    if num%2==0:\n",
    "        print(\"number%2=0\")\n",
    "    else:\n",
    "        print(num*2)\n",
    "print(\"Done\")\n"
   ]
  },
  {
   "cell_type": "markdown",
   "metadata": {},
   "source": [
    "# elif"
   ]
  },
  {
   "cell_type": "code",
   "execution_count": null,
   "metadata": {},
   "outputs": [],
   "source": [
    "student_scores={\"math\":10,\"physics\":12,\"english\":8}\n",
    "if student_scores[\"math\"]>=17:\n",
    "    print(\"A\")\n",
    "elif 14<student_scores[\"math\"]<17:\n",
    "    print(\"B\")\n",
    "elif 9<student_scores[\"math\"]<17:\n",
    "    print(\"C\")\n",
    "else:\n",
    "    print(\"failed\")\n"
   ]
  },
  {
   "cell_type": "markdown",
   "metadata": {},
   "source": [
    "#dictionary and if/elif/else"
   ]
  },
  {
   "cell_type": "code",
   "execution_count": null,
   "metadata": {},
   "outputs": [],
   "source": [
    "##first condition\n",
    "student_scores={\"math\":20,\"physics\":12,\"english\":8}\n",
    "if student_scores[\"math\"]>=17:\n",
    "    if student_scores[\"math\"]>=18.5:\n",
    "        print(\"A+\")\n",
    "    else:\n",
    "        print(\"A-\")\n",
    "## second condition\n",
    "elif 14<=student_scores[\"math\"]<17:\n",
    "    if student_scores[\"math\"]>15.5:\n",
    "        print(\"B+\")\n",
    "    else:\n",
    "        print(\"B-\")\n",
    "# third condition        \n",
    "elif 10<=student_scores[\"math\"]<14:\n",
    "    if student_scores[\"math\"]>12.5:\n",
    "        print(\"C+\")\n",
    "    else:\n",
    "        print(\"C-\")\n",
    "######        \n",
    "else:\n",
    "    print(\"Failed\")\n",
    "\n"
   ]
  },
  {
   "cell_type": "code",
   "execution_count": null,
   "metadata": {},
   "outputs": [],
   "source": [
    "student_scores={\"math\":10,\"physics\":12,\"english\":8}\n",
    "if student_scores[\"math\"]>=17:\n",
    "    student_scores[\"math\"]=\"A\"\n",
    "elif 14<student_scores[\"math\"]<17:\n",
    "    student_scores[\"math\"]=\"B\"\n",
    "elif 9<student_scores[\"math\"]<17:\n",
    "    student_scores[\"math\"]=\"C\"\n",
    "else:\n",
    "    print(\"failed\")\n"
   ]
  },
  {
   "cell_type": "code",
   "execution_count": null,
   "metadata": {},
   "outputs": [],
   "source": [
    "student_scores={\"math\":20,\"physics\":12,\"english\":8}\n",
    "if student_scores[\"math\"]>=17:\n",
    "    student_scores[\"math\"]=\"A\"\n",
    "elif 14<student_scores[\"math\"]<17:\n",
    "    student_scores[\"math\"]=\"B\"\n",
    "elif 9<student_scores[\"math\"]<17:\n",
    "    student_scores[\"math\"]=\"C\"\n",
    "else:\n",
    "    student_scores[\"math\"]=\"failed\"\n",
    "\n",
    "\n",
    "print(\"math grade is:\",student_scores[\"math\"] )\n",
    "print(student_scores )\n"
   ]
  },
  {
   "cell_type": "code",
   "execution_count": null,
   "metadata": {},
   "outputs": [],
   "source": [
    "student_scores={\"math\":20,\"physics\":12,\"english\":8}\n",
    "if student_scores[\"math\"]>=17:\n",
    "    student_scores[\"math\"]=\"A\"\n",
    "elif 14<student_scores[\"math\"]<17:\n",
    "    student_scores[\"math\"]=\"B\"\n",
    "elif 9<student_scores[\"math\"]<17:\n",
    "    student_scores[\"math\"]=\"C\"\n",
    "else:\n",
    "    student_scores[\"math\"]=\"failed\"\n",
    "\n",
    "if student_scores[\"physics\"]>=17:\n",
    "    student_scores[\"physics\"]=\"A\"\n",
    "elif 14<student_scores[\"physics\"]<17:\n",
    "    student_scores[\"physics\"]=\"B\"\n",
    "elif 9<student_scores[\"physics\"]<17:\n",
    "    student_scores[\"physics\"]=\"C\"\n",
    "else:\n",
    "    student_scores[\"physics\"]=\"failed\"\n",
    "\n",
    "if student_scores[\"english\"]>=17:\n",
    "    student_scores[\"english\"]=\"A\"\n",
    "elif 14<student_scores[\"english\"]<17:\n",
    "    student_scores[\"english\"]=\"B\"\n",
    "elif 9<student_scores[\"english\"]<17:\n",
    "    student_scores[\"english\"]=\"C\"\n",
    "else:\n",
    "    student_scores[\"english\"]=\"failed\"\n",
    "\n",
    "print(student_scores)\n",
    "\n",
    "## output : {'math': 'A', 'physics': 'C', 'english': 'failed'}\n",
    "\n",
    "\n"
   ]
  }
 ],
 "metadata": {
  "kernelspec": {
   "display_name": "python_beginner",
   "language": "python",
   "name": "python3"
  },
  "language_info": {
   "codemirror_mode": {
    "name": "ipython",
    "version": 3
   },
   "file_extension": ".py",
   "mimetype": "text/x-python",
   "name": "python",
   "nbconvert_exporter": "python",
   "pygments_lexer": "ipython3",
   "version": "3.8.2"
  }
 },
 "nbformat": 4,
 "nbformat_minor": 2
}
