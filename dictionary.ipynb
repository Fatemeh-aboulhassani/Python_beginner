{
 "cells": [
  {
   "cell_type": "markdown",
   "metadata": {},
   "source": [
    "# Dic={}"
   ]
  },
  {
   "cell_type": "code",
   "execution_count": 37,
   "metadata": {},
   "outputs": [],
   "source": [
    "Dic={1:\"one\",2:\"two\",3:\"three\"}"
   ]
  },
  {
   "cell_type": "markdown",
   "metadata": {},
   "source": [
    "#review\n"
   ]
  },
  {
   "cell_type": "code",
   "execution_count": 38,
   "metadata": {},
   "outputs": [
    {
     "name": "stdout",
     "output_type": "stream",
     "text": [
      "19\n"
     ]
    }
   ],
   "source": [
    "T1=(19,20,16,14)\n",
    "math,physics,arabis,english=T1\n",
    "print(math)"
   ]
  },
  {
   "cell_type": "code",
   "execution_count": 39,
   "metadata": {},
   "outputs": [
    {
     "data": {
      "text/plain": [
       "19"
      ]
     },
     "execution_count": 39,
     "metadata": {},
     "output_type": "execute_result"
    }
   ],
   "source": [
    "scores={\"math\":19,\"physics\":20,\"arabic\":16}\n",
    "scores[\"math\"]\n",
    "# scores[19].....> error"
   ]
  },
  {
   "cell_type": "code",
   "execution_count": 40,
   "metadata": {},
   "outputs": [
    {
     "data": {
      "text/plain": [
       "{'math': 20, 'physics': 19, 'arabic': 14, 'english': 15}"
      ]
     },
     "execution_count": 40,
     "metadata": {},
     "output_type": "execute_result"
    }
   ],
   "source": [
    "Dic1={}\n",
    "Dic1[\"math\"]=20\n",
    "Dic1[\"physics\"]=19\n",
    "Dic1[\"arabic\"]=14\n",
    "Dic1[\"english\"]=15\n",
    "Dic1"
   ]
  },
  {
   "cell_type": "markdown",
   "metadata": {},
   "source": [
    "# replace"
   ]
  },
  {
   "cell_type": "code",
   "execution_count": 41,
   "metadata": {},
   "outputs": [
    {
     "name": "stdout",
     "output_type": "stream",
     "text": [
      "19\n",
      "17\n",
      "{'math': 12, 'physics': 20, 'arabic': 16, 'english': 12, 'farsi': 17}\n"
     ]
    }
   ],
   "source": [
    "Dic1={\"math\":19,\"physics\":20,\"arabic\":16,\"english\":12,\"farsi\":17}\n",
    "print(Dic1[\"math\"])\n",
    "print(Dic1[\"farsi\"])\n",
    "Dic1[\"math\"]=12\n",
    "print(Dic1)\n",
    "\n"
   ]
  },
  {
   "cell_type": "markdown",
   "metadata": {},
   "source": [
    "# + * in dictionary\n",
    "## len in Dictionary\n"
   ]
  },
  {
   "cell_type": "code",
   "execution_count": 42,
   "metadata": {},
   "outputs": [
    {
     "name": "stdout",
     "output_type": "stream",
     "text": [
      "3\n",
      "{'a': 10, 'b': 14, 'c': 10, 'f': 31}\n",
      "4\n"
     ]
    }
   ],
   "source": [
    "D1={\"a\":10,\"b\":14,\"c\":10}\n",
    "D2={\"d\":19,\"e\":5}\n",
    "print(len(D1))\n",
    "# D1+D2...> error\n",
    "# D1*3 ....> error\n",
    "\n",
    "D1[\"f\"]=31  #\n",
    "print(D1)\n",
    "length=len(D1)\n",
    "print(length)\n"
   ]
  },
  {
   "cell_type": "markdown",
   "metadata": {},
   "source": [
    "# in , not in Dictionary"
   ]
  },
  {
   "cell_type": "code",
   "execution_count": 44,
   "metadata": {},
   "outputs": [
    {
     "name": "stdout",
     "output_type": "stream",
     "text": [
      "True\n",
      "True\n",
      "False\n"
     ]
    }
   ],
   "source": [
    "D1={\"a\":10,\"b\":14,\"c\":10}\n",
    "print(\"a\" in D1)\n",
    "print (\"n\" not in D1)\n",
    "print(\"m\" in D1)\n"
   ]
  },
  {
   "cell_type": "code",
   "execution_count": 48,
   "metadata": {},
   "outputs": [
    {
     "name": "stdout",
     "output_type": "stream",
     "text": [
      "True\n",
      "False\n"
     ]
    }
   ],
   "source": [
    "D1={\"a\":10,\"b\":14,\"c\":10}\n",
    "D2={\"a\":10,\"b\":14,\"c\":10}\n",
    "print(D1==D2)\n",
    "print(D1!=D2)\n"
   ]
  },
  {
   "cell_type": "markdown",
   "metadata": {},
   "source": [
    "# Methods in Dictionary"
   ]
  },
  {
   "cell_type": "code",
   "execution_count": 62,
   "metadata": {},
   "outputs": [
    {
     "name": "stdout",
     "output_type": "stream",
     "text": [
      "{'first': 'spring', 'second': 'summer', 'third': 'fall', 'fourth': 'winter'}\n",
      "None\n",
      "{}\n",
      "dict_keys(['first', 'second', 'third', 'fourth'])\n",
      "dict_values(['spring', 'summer', 'fall', 'winter'])\n",
      "dict_items([('first', 'spring'), ('second', 'summer'), ('third', 'fall'), ('fourth', 'winter')])\n"
     ]
    }
   ],
   "source": [
    "seasons={\"first\":\"spring\",\"second\":\"summer\",\"third\":\"fall\",\"fourth\":\"winter\"}\n",
    "len(seasons)\n",
    "\n",
    "print(seasons.copy())\n",
    "\n",
    "print(seasons.clear())\n",
    "\n",
    "print(seasons)\n",
    "\n",
    "seasons={\"first\":\"spring\",\"second\":\"summer\",\"third\":\"fall\",\"fourth\":\"winter\"}\n",
    "print(seasons.keys())\n",
    "\n",
    "print(seasons.values())\n",
    "\n",
    "print(seasons.items())   # dictionary to tuples\n",
    "\n"
   ]
  }
 ],
 "metadata": {
  "kernelspec": {
   "display_name": "python_beginner",
   "language": "python",
   "name": "python3"
  },
  "language_info": {
   "codemirror_mode": {
    "name": "ipython",
    "version": 3
   },
   "file_extension": ".py",
   "mimetype": "text/x-python",
   "name": "python",
   "nbconvert_exporter": "python",
   "pygments_lexer": "ipython3",
   "version": "3.8.2"
  }
 },
 "nbformat": 4,
 "nbformat_minor": 2
}
