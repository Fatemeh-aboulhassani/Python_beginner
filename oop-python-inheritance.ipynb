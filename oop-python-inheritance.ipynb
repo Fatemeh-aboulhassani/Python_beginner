{
 "cells": [
  {
   "cell_type": "code",
   "execution_count": 7,
   "metadata": {},
   "outputs": [
    {
     "name": "stdout",
     "output_type": "stream",
     "text": [
      "6\n"
     ]
    }
   ],
   "source": [
    "\n",
    "\n",
    "class Rect:\n",
    "    def __init__(self,x,y):\n",
    "        self.x=x\n",
    "        self.y=y\n",
    "\n",
    "    def area(self):\n",
    "            return self.x*self.y\n",
    "\n",
    "\n",
    "r=Rect(2,3)\n",
    "print(r.area())\n",
    "\n",
    "    "
   ]
  },
  {
   "cell_type": "code",
   "execution_count": 8,
   "metadata": {},
   "outputs": [
    {
     "name": "stdout",
     "output_type": "stream",
     "text": [
      "6\n"
     ]
    }
   ],
   "source": [
    "# @property\n",
    "\n",
    "\n",
    "\n",
    "class Rect:\n",
    "    def __init__(self,x,y):\n",
    "        self.x=x\n",
    "        self.y=y\n",
    "\n",
    "    @property    # with @propery i can write r.area without ()\n",
    "    def area(self):\n",
    "            return self.x*self.y\n",
    "\n",
    "\n",
    "r=Rect(2,3)\n",
    "print(r.area)\n",
    "\n",
    "    \n",
    "\n"
   ]
  },
  {
   "cell_type": "code",
   "execution_count": 9,
   "metadata": {},
   "outputs": [
    {
     "name": "stdout",
     "output_type": "stream",
     "text": [
      "6\n",
      "25\n"
     ]
    }
   ],
   "source": [
    "\n",
    "\n",
    "class Rect:\n",
    "    def __init__(self,x,y):\n",
    "        self.x=x\n",
    "        self.y=y\n",
    "\n",
    "    @property\n",
    "    def area(self):\n",
    "            return self.x*self.y\n",
    "    \n",
    "\n",
    "class Square(Rect):\n",
    "     def __init__(self,z):\n",
    "          super().__init__(x=z,y=z)  \n",
    "          \n",
    "r=Rect(2,3)\n",
    "print(r.area)\n",
    "s=Square(5)\n",
    "print(s.area)\n",
    "\n",
    "    "
   ]
  },
  {
   "cell_type": "code",
   "execution_count": 15,
   "metadata": {},
   "outputs": [
    {
     "name": "stdout",
     "output_type": "stream",
     "text": [
      "12\n",
      "20\n",
      "16\n",
      "36\n"
     ]
    }
   ],
   "source": [
    "class Rect:\n",
    "    def __init__(self,x,y):\n",
    "        self.x=x\n",
    "        self.y=y\n",
    "\n",
    "    @property\n",
    "\n",
    "    def area(self):\n",
    "        return self.x*self.y\n",
    "    \n",
    "\n",
    "class Square(Rect):\n",
    "    def __init__(self,z):\n",
    "        super().__init__(x=z,y=z)\n",
    "\n",
    "\n",
    "\n",
    "c=Rect(3,4)\n",
    "print(c.area)\n",
    "\n",
    "c1=Rect(4,5)\n",
    "print(c1.area)\n",
    "\n",
    "c2=Square(4)\n",
    "print(c2.area)\n",
    "    \n",
    "\n",
    "c3=Square(6)\n",
    "print(c3.area)"
   ]
  },
  {
   "cell_type": "code",
   "execution_count": null,
   "metadata": {},
   "outputs": [],
   "source": []
  }
 ],
 "metadata": {
  "kernelspec": {
   "display_name": "python_beginner",
   "language": "python",
   "name": "python3"
  },
  "language_info": {
   "codemirror_mode": {
    "name": "ipython",
    "version": 3
   },
   "file_extension": ".py",
   "mimetype": "text/x-python",
   "name": "python",
   "nbconvert_exporter": "python",
   "pygments_lexer": "ipython3",
   "version": "3.8.2"
  }
 },
 "nbformat": 4,
 "nbformat_minor": 2
}
