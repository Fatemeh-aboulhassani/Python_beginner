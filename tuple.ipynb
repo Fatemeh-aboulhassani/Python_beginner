{
 "cells": [
  {
   "cell_type": "markdown",
   "metadata": {},
   "source": [
    "# Tuple\n",
    "##Tuples are immutable in Python, meaning their elements cannot be modified, added, or removed after they have been created."
   ]
  },
  {
   "cell_type": "code",
   "execution_count": 8,
   "metadata": {},
   "outputs": [
    {
     "name": "stdout",
     "output_type": "stream",
     "text": [
      "<class 'tuple'>\n",
      "a\n",
      "algebra\n",
      "('math', 12, 'algebra', 'physics', 16, '19')\n",
      "('math', 12, 'algebra')\n",
      "(12, 'algebra', 'physics', 16, '19')\n"
     ]
    }
   ],
   "source": [
    "t=(\"math\",12,\"algebra\",\"physics\",16,\"19\")\n",
    "print(type(t))\n",
    "print(t[0][1])\n",
    "print(t[2])\n",
    "print(t[:])\n",
    "print(t[0:3])\n",
    "print(t[1:10])  # we dont have index 10 but we dont become error\n",
    "\n",
    "\n"
   ]
  },
  {
   "cell_type": "markdown",
   "metadata": {},
   "source": [
    "#To create a tuple with only one item, you have add a comma after the item"
   ]
  },
  {
   "cell_type": "code",
   "execution_count": 11,
   "metadata": {},
   "outputs": [
    {
     "name": "stdout",
     "output_type": "stream",
     "text": [
      "<class 'int'>\n",
      "<class 'int'>\n",
      "<class 'tuple'>\n",
      "<class 'tuple'>\n",
      "<class 'str'>\n",
      "<class 'tuple'>\n"
     ]
    }
   ],
   "source": [
    "a=2\n",
    "b=(2)\n",
    "c=2,    # , is important , when i want to creat a tuple with only one item\n",
    "d=(2,)\n",
    "e=\"s\"\n",
    "f=\"s\",  # tuple\n",
    "print(type(a))\n",
    "print(type(b))\n",
    "print(type(c))\n",
    "print(type(d))\n",
    "print(type(e))\n",
    "print(type(f))"
   ]
  }
 ],
 "metadata": {
  "kernelspec": {
   "display_name": "python_beginner",
   "language": "python",
   "name": "python3"
  },
  "language_info": {
   "codemirror_mode": {
    "name": "ipython",
    "version": 3
   },
   "file_extension": ".py",
   "mimetype": "text/x-python",
   "name": "python",
   "nbconvert_exporter": "python",
   "pygments_lexer": "ipython3",
   "version": "3.8.2"
  }
 },
 "nbformat": 4,
 "nbformat_minor": 2
}
