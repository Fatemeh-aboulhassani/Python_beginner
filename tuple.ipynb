{
 "cells": [
  {
   "cell_type": "markdown",
   "metadata": {},
   "source": [
    "# Tuple\n",
    "##Tuples are immutable in Python, meaning their elements cannot be modified, added, or removed after they have been created."
   ]
  },
  {
   "cell_type": "code",
   "execution_count": 8,
   "metadata": {},
   "outputs": [
    {
     "name": "stdout",
     "output_type": "stream",
     "text": [
      "<class 'tuple'>\n",
      "a\n",
      "algebra\n",
      "('math', 12, 'algebra', 'physics', 16, '19')\n",
      "('math', 12, 'algebra')\n",
      "(12, 'algebra', 'physics', 16, '19')\n"
     ]
    }
   ],
   "source": [
    "t=(\"math\",12,\"algebra\",\"physics\",16,\"19\")\n",
    "print(type(t))\n",
    "print(t[0][1])\n",
    "print(t[2])\n",
    "print(t[:])\n",
    "print(t[0:3])\n",
    "print(t[1:10])  # we dont have index 10 but we dont become error\n",
    "\n",
    "\n"
   ]
  },
  {
   "cell_type": "markdown",
   "metadata": {},
   "source": [
    "#To create a tuple with only one item, you have add a comma after the item"
   ]
  },
  {
   "cell_type": "code",
   "execution_count": 11,
   "metadata": {},
   "outputs": [
    {
     "name": "stdout",
     "output_type": "stream",
     "text": [
      "<class 'int'>\n",
      "<class 'int'>\n",
      "<class 'tuple'>\n",
      "<class 'tuple'>\n",
      "<class 'str'>\n",
      "<class 'tuple'>\n"
     ]
    }
   ],
   "source": [
    "a=2\n",
    "b=(2)\n",
    "c=2,    # , is important , when i want to creat a tuple with only one item\n",
    "d=(2,)\n",
    "e=\"s\"\n",
    "f=\"s\",  # tuple\n",
    "print(type(a))\n",
    "print(type(b))\n",
    "print(type(c))\n",
    "print(type(d))\n",
    "print(type(e))\n",
    "print(type(f))"
   ]
  },
  {
   "cell_type": "markdown",
   "metadata": {},
   "source": [
    "Length"
   ]
  },
  {
   "cell_type": "code",
   "execution_count": 5,
   "metadata": {},
   "outputs": [
    {
     "name": "stdout",
     "output_type": "stream",
     "text": [
      "5\n",
      "500\n"
     ]
    }
   ],
   "source": [
    "a= (100,200,300,400,500)\n",
    "print(len(a))\n",
    "print(a[len(a)-1])\n"
   ]
  },
  {
   "cell_type": "markdown",
   "metadata": {},
   "source": [
    "Days are immutable then we can use Tuple "
   ]
  },
  {
   "cell_type": "code",
   "execution_count": 12,
   "metadata": {},
   "outputs": [
    {
     "name": "stdout",
     "output_type": "stream",
     "text": [
      "today is :  monday\n",
      "7\n",
      "friday\n"
     ]
    }
   ],
   "source": [
    "Day=(\"saturday\",\"sunday\",\"monday\",\"tuesday\",\"wendesday\",\"tursday\",\"friday\")\n",
    "count=2\n",
    "print(\"today is : \", Day[count])\n",
    "print(len(Day))\n",
    "print(Day[len(Day)-1])"
   ]
  },
  {
   "cell_type": "markdown",
   "metadata": {},
   "source": [
    "# + , * in tuple"
   ]
  },
  {
   "cell_type": "code",
   "execution_count": 19,
   "metadata": {},
   "outputs": [
    {
     "name": "stdout",
     "output_type": "stream",
     "text": [
      "4\n",
      "Math\n",
      "physic1\n",
      "y\n",
      "('Math', ('physic1', 'physic2'), 'algebra', 'arabic', 'english', 'farsi')\n",
      "('english', 'farsi', 'Math', ('physic1', 'physic2'), 'algebra', 'arabic')\n",
      "('Math', ('physic1', 'physic2'), 'algebra', 'arabic', 'Math', ('physic1', 'physic2'), 'algebra', 'arabic')\n"
     ]
    }
   ],
   "source": [
    "a=(\"Math\",(\"physic1\",\"physic2\"),\"algebra\",\"arabic\")\n",
    "print(len(a))\n",
    "print(a[0])\n",
    "print(a[1][0])\n",
    "print(a[1][0][2])\n",
    "\n",
    "b= (\"english\",\"farsi\")\n",
    "\n",
    "c= a+b\n",
    "print(a+b) \n",
    "\n",
    "d= b+a\n",
    "print(d)\n",
    "\n",
    "\n",
    "# * in Tuples\n",
    "\n",
    "e=a*2\n",
    "print(e)\n",
    "\n",
    "\n"
   ]
  },
  {
   "cell_type": "code",
   "execution_count": 20,
   "metadata": {},
   "outputs": [
    {
     "name": "stdout",
     "output_type": "stream",
     "text": [
      "('Hi', 'Hi', 'Hi', 'Hi', 'Hi')\n"
     ]
    }
   ],
   "source": [
    "#tuple with only one item\n",
    "\n",
    "a=(\"Hi\",)\n",
    "print(a*5)"
   ]
  },
  {
   "cell_type": "markdown",
   "metadata": {},
   "source": [
    "# in   not in    Tuples\n"
   ]
  },
  {
   "cell_type": "code",
   "execution_count": 24,
   "metadata": {},
   "outputs": [
    {
     "name": "stdout",
     "output_type": "stream",
     "text": [
      "True\n",
      "True\n",
      "False\n"
     ]
    }
   ],
   "source": [
    "a=(\"math\",2,\"physic\",77,98,\"english1\")\n",
    "print(\"math\" in a)\n",
    "print(2 in a)   \n",
    "print(\"english1\" not in a)"
   ]
  },
  {
   "cell_type": "markdown",
   "metadata": {},
   "source": [
    "# methods in Tuple \n",
    "### name.index(x)\n",
    "### name.count(x)"
   ]
  },
  {
   "cell_type": "code",
   "execution_count": 9,
   "metadata": {},
   "outputs": [
    {
     "name": "stdout",
     "output_type": "stream",
     "text": [
      "0\n",
      "4\n",
      "1\n",
      "1\n",
      "8\n"
     ]
    }
   ],
   "source": [
    "a=(\"c\",\"b\",\"f\",33,\"m\",\"c\",\"f\",\"33\")\n",
    "print(a.index(\"c\"))\n",
    "print(a.index(\"m\"))\n",
    "print(a.count(33))\n",
    "print(a.count(\"33\"))\n",
    "print(len(a))\n"
   ]
  }
 ],
 "metadata": {
  "kernelspec": {
   "display_name": "python_beginner",
   "language": "python",
   "name": "python3"
  },
  "language_info": {
   "codemirror_mode": {
    "name": "ipython",
    "version": 3
   },
   "file_extension": ".py",
   "mimetype": "text/x-python",
   "name": "python",
   "nbconvert_exporter": "python",
   "pygments_lexer": "ipython3",
   "version": "3.8.2"
  }
 },
 "nbformat": 4,
 "nbformat_minor": 2
}
