{
 "cells": [
  {
   "cell_type": "code",
   "execution_count": 6,
   "metadata": {},
   "outputs": [
    {
     "name": "stdout",
     "output_type": "stream",
     "text": [
      "r :10 , area :314.1592653589793 , perime :62.83185307179586\n"
     ]
    }
   ],
   "source": [
    "# oop book(7)\n",
    "\n",
    "# Find the Area and Perimeter of the Circle\n",
    "\n",
    "\n",
    "import math\n",
    "\n",
    "class Circle:\n",
    "    def __init__(self,r):\n",
    "        self.r=r\n",
    "\n",
    "    def area(self):\n",
    "        return math.pi*(self.r)*(self.r)\n",
    "    \n",
    "\n",
    "    def perime(self):\n",
    "        return (2*math.pi*self.r)\n",
    "\n",
    "    def __str__(self):\n",
    "        return (\"r :\"+ str(self.r)+\" , \"+\"area :\"+str(self.area())+\" , \"+\"perime :\"+str(self.perime()))\n",
    "\n",
    "    \n",
    "\n",
    "\n",
    "ob=Circle(10)\n",
    "print(ob.__str__())"
   ]
  },
  {
   "cell_type": "code",
   "execution_count": null,
   "metadata": {},
   "outputs": [],
   "source": [
    "# become name and id. when id==1234 and name=fatemeh print correct\n",
    "\n",
    "\n",
    "class User:\n",
    "    def __init__(self):\n",
    "        self.name = \"\"\n",
    "        self.id = \"\"\n",
    "    def get_string(self):\n",
    "        self.name = input(\"Enter name: \")\n",
    "    def get_number(self):\n",
    "        self.id = input(\"Enter id: \")\n",
    "    def __str__(self):\n",
    "        return str(self.id)\n",
    "    def __eq__(self, fatemeh):\n",
    "        return self.name == fatemeh\n",
    "\n",
    "ob = User()\n",
    "ob.get_string()\n",
    "ob.get_number()\n",
    "\n",
    "if ob.name == \"fatemeh\" and ob.id==\"1234\":\n",
    "    print(\"correct\")\n",
    "else:\n",
    "    print(\"not correct\")\n",
    "\n",
    "\n",
    "\n",
    "\n"
   ]
  }
 ],
 "metadata": {
  "kernelspec": {
   "display_name": "python_beginner",
   "language": "python",
   "name": "python3"
  },
  "language_info": {
   "codemirror_mode": {
    "name": "ipython",
    "version": 3
   },
   "file_extension": ".py",
   "mimetype": "text/x-python",
   "name": "python",
   "nbconvert_exporter": "python",
   "pygments_lexer": "ipython3",
   "version": "3.8.2"
  }
 },
 "nbformat": 4,
 "nbformat_minor": 2
}
