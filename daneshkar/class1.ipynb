{
 "cells": [
  {
   "cell_type": "code",
   "execution_count": 2,
   "metadata": {},
   "outputs": [
    {
     "name": "stdout",
     "output_type": "stream",
     "text": [
      "HI python 12 1.2\n",
      "hi-python-12\n"
     ]
    }
   ],
   "source": [
    "print(\"HI\",\"python\",12,1.2)\n",
    "print(\"hi\",\"python\",12,sep=\"-\")"
   ]
  },
  {
   "cell_type": "code",
   "execution_count": 3,
   "metadata": {},
   "outputs": [
    {
     "name": "stdout",
     "output_type": "stream",
     "text": [
      "Hallo my name is fatemeh\n",
      "Hallo my name is fatemeh\n"
     ]
    }
   ],
   "source": [
    "message=\"Hallo my name is fatemeh\"\n",
    "print(message)\n",
    "print(message)"
   ]
  },
  {
   "cell_type": "code",
   "execution_count": 8,
   "metadata": {},
   "outputs": [
    {
     "name": "stdout",
     "output_type": "stream",
     "text": [
      "my name is fatemeh - i am 29 years old\n"
     ]
    }
   ],
   "source": [
    "a=\"fatemeh\"\n",
    "b=29\n",
    "print(\"my name is\", a,\"-\",\"i am\",b,\"years old\")"
   ]
  }
 ],
 "metadata": {
  "kernelspec": {
   "display_name": "python_beginner",
   "language": "python",
   "name": "python3"
  },
  "language_info": {
   "codemirror_mode": {
    "name": "ipython",
    "version": 3
   },
   "file_extension": ".py",
   "mimetype": "text/x-python",
   "name": "python",
   "nbconvert_exporter": "python",
   "pygments_lexer": "ipython3",
   "version": "3.8.2"
  }
 },
 "nbformat": 4,
 "nbformat_minor": 2
}
