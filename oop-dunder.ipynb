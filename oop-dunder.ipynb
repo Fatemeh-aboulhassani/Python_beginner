{
 "cells": [
  {
   "cell_type": "markdown",
   "metadata": {},
   "source": [
    "# dunder ....> double underscore"
   ]
  },
  {
   "cell_type": "code",
   "execution_count": 4,
   "metadata": {},
   "outputs": [],
   "source": [
    "##__init__\n",
    "## __str__\n",
    "\n",
    "class A:\n",
    "    def __init__(self):\n",
    "        self.lst=[45,89,12]\n",
    "\n",
    "    def __str__(self):\n",
    "        return\n",
    "\n",
    "ob=A()\n",
    "#print(ob)"
   ]
  },
  {
   "cell_type": "code",
   "execution_count": 10,
   "metadata": {},
   "outputs": [
    {
     "name": "stdout",
     "output_type": "stream",
     "text": [
      "[45, 89, 12]\n",
      "[45, 89, 12]\n"
     ]
    }
   ],
   "source": [
    "class A:\n",
    "    def __init__(self):\n",
    "        self.lst = [45, 89, 12]\n",
    "\n",
    "    def __str__(self):\n",
    "        return str(self.lst)\n",
    "\n",
    "ob = A()\n",
    "print(ob)  # This will print 'A object with lst: [45, 89, 12]'\n",
    "print(ob.lst)"
   ]
  },
  {
   "cell_type": "code",
   "execution_count": 18,
   "metadata": {},
   "outputs": [],
   "source": [
    "class A:\n",
    "    def __init__(self):\n",
    "        self.lst = [45, 89, 12]\n",
    "    def __str__(self):\n",
    "        return str(self.lst)\n",
    "\n",
    "\n",
    "ob=A()\n",
    "# print(len(ob)) ##output : error\n",
    "\n",
    "\n",
    "\n"
   ]
  },
  {
   "cell_type": "code",
   "execution_count": 19,
   "metadata": {},
   "outputs": [
    {
     "name": "stdout",
     "output_type": "stream",
     "text": [
      "3\n"
     ]
    }
   ],
   "source": [
    "# __len__\n",
    "\n",
    "class A:\n",
    "    def __init__(self):\n",
    "        self.lst = [45, 89, 12]\n",
    "    def __str__(self):\n",
    "        return str(self.lst)\n",
    "    \n",
    "    def __len__(self):\n",
    "        return len(self.lst)\n",
    "\n",
    "\n",
    "ob=A()\n",
    "print(len(ob))"
   ]
  },
  {
   "cell_type": "code",
   "execution_count": 3,
   "metadata": {},
   "outputs": [
    {
     "name": "stdout",
     "output_type": "stream",
     "text": [
      "89\n",
      "45\n",
      "12\n"
     ]
    }
   ],
   "source": [
    "# dunder method ##getitem\n",
    "class A:\n",
    "    def __init__(self):\n",
    "        self.lst = [45, 89, 12]\n",
    "    def __str__(self):\n",
    "        return str(self.lst)\n",
    "    def __getitem__(self,i):\n",
    "        return self.lst[i] # i is index\n",
    "    \n",
    "ob=A()\n",
    "## print(ob[1]) output: error\n",
    "print(ob[1])\n",
    "print(ob[0])\n",
    "print(ob[2])\n"
   ]
  },
  {
   "cell_type": "code",
   "execution_count": 4,
   "metadata": {},
   "outputs": [
    {
     "name": "stdout",
     "output_type": "stream",
     "text": [
      "13\n",
      "{'lst': [45, 13, 12]}\n"
     ]
    }
   ],
   "source": [
    "# dunder method ##getitem\n",
    "class A:\n",
    "    def __init__(self):\n",
    "        self.lst = [45, 89, 12]\n",
    "    def __str__(self):\n",
    "        return str(self.lst)\n",
    "    def __getitem__(self,i):\n",
    "        return self.lst[i] # i is index\n",
    "    def __setitem__(self,i,v):\n",
    "        self.lst[i]=v\n",
    "    \n",
    "ob=A()\n",
    "## ob[1]=13 print(ob[1]) output: error\n",
    "ob[1]=13\n",
    "print(ob[1])\n",
    "print(ob.__dict__) # 89 wird durch 13 ersetzt\n"
   ]
  },
  {
   "cell_type": "code",
   "execution_count": 12,
   "metadata": {},
   "outputs": [
    {
     "name": "stdout",
     "output_type": "stream",
     "text": [
      "12:23:05\n"
     ]
    }
   ],
   "source": [
    "class Clock:\n",
    "    def __init__(self,h,m,s):\n",
    "        self.h=h\n",
    "        self.m=m\n",
    "        self.s=s\n",
    "    def __str__(self):\n",
    "        return \"{0:02d}:{1:02d}:{2:02d}\".format(self.h,self.m,self.s)\n",
    "\n",
    "ob=Clock(12,23,5)\n",
    "print(ob)\n"
   ]
  },
  {
   "cell_type": "code",
   "execution_count": 10,
   "metadata": {},
   "outputs": [
    {
     "name": "stdout",
     "output_type": "stream",
     "text": [
      "12:23:5\n"
     ]
    }
   ],
   "source": [
    "class Time:\n",
    "    pass\n",
    "\n",
    "T=Time()\n",
    "T.hours=12\n",
    "T.minutes=23\n",
    "T.second=5\n",
    "print(str(T.hours)+\":\"+str(T.minutes)+\":\"+str(T.second))"
   ]
  },
  {
   "cell_type": "code",
   "execution_count": 3,
   "metadata": {},
   "outputs": [
    {
     "name": "stdout",
     "output_type": "stream",
     "text": [
      "<__main__.Address object at 0x01249970>\n"
     ]
    }
   ],
   "source": [
    "class Address:\n",
    "    def __init__(self,c,s,z): #city sreet ZIP\n",
    "        self.city=c\n",
    "        self.street=s\n",
    "        self.zip=z\n",
    "\n",
    "\n",
    "\n",
    "a=Address(\"Hamedan\",\"booali\",\"123\")\n",
    "##print(a) output :<__main__.Address object at 0x01249970>"
   ]
  },
  {
   "cell_type": "code",
   "execution_count": 9,
   "metadata": {},
   "outputs": [
    {
     "name": "stdout",
     "output_type": "stream",
     "text": [
      "(city:Hamedan-street:booali-zip:123)\n",
      "(city:Tehran-street:pasdaran-zip:975)\n"
     ]
    }
   ],
   "source": [
    "class Address:\n",
    "    def __init__(self,c,s,z): #city sreet ZIP\n",
    "        self.city=c\n",
    "        self.street=s\n",
    "        self.zip=z\n",
    "    def __str__(self):\n",
    "        return \"(\"+\"city:\" +str(self.city)+\"-\"+\"street:\"+str(self.street)+\"-\"+\"zip:\"+str(self.zip)+\")\"\n",
    "    \n",
    "        \n",
    "        \n",
    "\n",
    "\n",
    "\n",
    "a = Address(\"Hamedan\",\"booali\",\"123\")\n",
    "b=Address(\"Tehran\",\"pasdaran\",\"975\")\n",
    "print(a)\n",
    "print(b)\n",
    "\n"
   ]
  },
  {
   "cell_type": "code",
   "execution_count": 15,
   "metadata": {},
   "outputs": [
    {
     "name": "stdout",
     "output_type": "stream",
     "text": [
      "Hamedan-booali-123\n",
      "Tehran-pasdaran-975\n"
     ]
    }
   ],
   "source": [
    "class Address:\n",
    "    def __init__(self,c,s,z): #city sreet ZIP\n",
    "        self.city=c\n",
    "        self.street=s\n",
    "        self.zip=z\n",
    "    def __str__(self):\n",
    "        return (f'{self.city}-{self.street}-{self.zip}')\n",
    "        \n",
    "        \n",
    "# return (f\"    \")   \n",
    "\n",
    "\n",
    "a = Address(\"Hamedan\",\"booali\",\"123\")\n",
    "b=Address(\"Tehran\",\"pasdaran\",\"975\")\n",
    "print(a)\n",
    "print(b)\n",
    "\n"
   ]
  },
  {
   "cell_type": "code",
   "execution_count": 17,
   "metadata": {},
   "outputs": [
    {
     "name": "stdout",
     "output_type": "stream",
     "text": [
      "12 : 6 : 12\n"
     ]
    }
   ],
   "source": [
    "class time:\n",
    "    def __init__(self,h,m,s):\n",
    "        self.hours=h\n",
    "        self.minutes=m\n",
    "        self.seconds=s\n",
    "    def __str__(self):\n",
    "        return (f\"{self.hours} : {self.minutes} : {self.seconds}\")\n",
    "        # return \"{0:02d}:{1:02d}:{2:02d}\".format(self.h,self.m,self.s)  output:12:06:12\n",
    "                \n",
    "\n",
    "ob=time(12,6,12)\n",
    "print(ob)"
   ]
  },
  {
   "cell_type": "code",
   "execution_count": 20,
   "metadata": {},
   "outputs": [],
   "source": [
    "class Robot:\n",
    "    def __init__(self,n,y):\n",
    "        self.name=n\n",
    "        self.year=y\n",
    "\n",
    "r=Robot(\"rr\",1980)\n",
    "# print(r) output <__main__.Robot object at 0x012B7778>\n",
    "\n",
    "    "
   ]
  },
  {
   "cell_type": "code",
   "execution_count": 22,
   "metadata": {},
   "outputs": [
    {
     "name": "stdout",
     "output_type": "stream",
     "text": [
      "name:rr-year:1985\n"
     ]
    }
   ],
   "source": [
    "class Robot:\n",
    "    def __init__(self,n,y):\n",
    "        self.name=n\n",
    "        self.year=y\n",
    "    def __str__(self):\n",
    "        return \"name:\"+self.name+\"-\"+\"year:\"+str(self.year)\n",
    "    \n",
    "ob=Robot(\"rr\",1985)\n",
    "print(ob)\n"
   ]
  },
  {
   "cell_type": "code",
   "execution_count": 25,
   "metadata": {},
   "outputs": [
    {
     "name": "stdout",
     "output_type": "stream",
     "text": [
      "name: rr - year: 1985\n"
     ]
    }
   ],
   "source": [
    "class Robot:\n",
    "    def __init__(self,n,y):\n",
    "        self.name=n\n",
    "        self.year=y\n",
    "    def __str__(self):\n",
    "        return (f\"name: {self.name} - year: {self.year}\")\n",
    "    \n",
    "ob=Robot(\"rr\",1985)\n",
    "print(ob)\n"
   ]
  },
  {
   "cell_type": "code",
   "execution_count": 32,
   "metadata": {},
   "outputs": [
    {
     "name": "stdout",
     "output_type": "stream",
     "text": [
      "Robot(name='RoboCop', model='XJ-9')\n"
     ]
    }
   ],
   "source": [
    "# __repr__\n",
    "class Robot:\n",
    "    def __init__(self, name, model):\n",
    "        self.name = name\n",
    "        self.model = model\n",
    "\n",
    "    def __repr__(self):\n",
    "        return f\"Robot(name={self.name!r}, model={self.model!r})\"\n",
    "\n",
    "r = Robot(\"RoboCop\", \"XJ-9\")\n",
    "print(repr(r))"
   ]
  },
  {
   "cell_type": "code",
   "execution_count": 43,
   "metadata": {},
   "outputs": [
    {
     "name": "stdout",
     "output_type": "stream",
     "text": [
      "10\n",
      "20\n",
      "50\n",
      "60\n"
     ]
    }
   ],
   "source": [
    "# __call__\n",
    "\n",
    "class C:\n",
    "    def __init__(self,size,x,y):\n",
    "        self.size=size\n",
    "        self.x=x\n",
    "        self.y=y\n",
    "    def __call__(self,x,y):\n",
    "        self.x=x\n",
    "        self.y=y\n",
    "    \n",
    "\n",
    "ob=C(300,10,20)\n",
    "print(ob.x) #output 10\n",
    "print(ob.y) # output 20\n",
    "\n",
    "ob(50,60)\n",
    "print(ob.x)  #output 50\n",
    "print(ob.y) #output 60"
   ]
  },
  {
   "cell_type": "code",
   "execution_count": null,
   "metadata": {},
   "outputs": [],
   "source": []
  }
 ],
 "metadata": {
  "kernelspec": {
   "display_name": "python_beginner",
   "language": "python",
   "name": "python3"
  },
  "language_info": {
   "codemirror_mode": {
    "name": "ipython",
    "version": 3
   },
   "file_extension": ".py",
   "mimetype": "text/x-python",
   "name": "python",
   "nbconvert_exporter": "python",
   "pygments_lexer": "ipython3",
   "version": "3.8.2"
  }
 },
 "nbformat": 4,
 "nbformat_minor": 2
}
