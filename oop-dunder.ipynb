{
 "cells": [
  {
   "cell_type": "markdown",
   "metadata": {},
   "source": [
    "# dunder ....> double underscore"
   ]
  },
  {
   "cell_type": "code",
   "execution_count": 7,
   "metadata": {},
   "outputs": [
    {
     "ename": "TypeError",
     "evalue": "__str__ returned non-string (type NoneType)",
     "output_type": "error",
     "traceback": [
      "\u001b[1;31m---------------------------------------------------------------------------\u001b[0m",
      "\u001b[1;31mTypeError\u001b[0m                                 Traceback (most recent call last)",
      "Cell \u001b[1;32mIn[7], line 9\u001b[0m\n\u001b[0;32m      6\u001b[0m         \u001b[38;5;28;01mreturn\u001b[39;00m\n\u001b[0;32m      8\u001b[0m ob\u001b[38;5;241m=\u001b[39mA()\n\u001b[1;32m----> 9\u001b[0m \u001b[38;5;28;43mprint\u001b[39;49m\u001b[43m(\u001b[49m\u001b[43mob\u001b[49m\u001b[43m)\u001b[49m\n",
      "\u001b[1;31mTypeError\u001b[0m: __str__ returned non-string (type NoneType)"
     ]
    }
   ],
   "source": [
    "##__init__\n",
    "## __str__\n",
    "\n",
    "class A:\n",
    "    def __init__(self):\n",
    "        self.lst=[45,89,12]\n",
    "\n",
    "    def __str__(self):\n",
    "        return\n",
    "\n",
    "ob=A()\n",
    "print(ob)"
   ]
  },
  {
   "cell_type": "code",
   "execution_count": 10,
   "metadata": {},
   "outputs": [
    {
     "name": "stdout",
     "output_type": "stream",
     "text": [
      "[45, 89, 12]\n",
      "[45, 89, 12]\n"
     ]
    }
   ],
   "source": [
    "class A:\n",
    "    def __init__(self):\n",
    "        self.lst = [45, 89, 12]\n",
    "\n",
    "    def __str__(self):\n",
    "        return str(self.lst)\n",
    "\n",
    "ob = A()\n",
    "print(ob)  # This will print 'A object with lst: [45, 89, 12]'\n",
    "print(ob.lst)"
   ]
  },
  {
   "cell_type": "code",
   "execution_count": 18,
   "metadata": {},
   "outputs": [],
   "source": [
    "class A:\n",
    "    def __init__(self):\n",
    "        self.lst = [45, 89, 12]\n",
    "    def __str__(self):\n",
    "        return str(self.lst)\n",
    "\n",
    "\n",
    "ob=A()\n",
    "# print(len(ob)) ##output : error\n",
    "\n",
    "\n",
    "\n"
   ]
  },
  {
   "cell_type": "code",
   "execution_count": 19,
   "metadata": {},
   "outputs": [
    {
     "name": "stdout",
     "output_type": "stream",
     "text": [
      "3\n"
     ]
    }
   ],
   "source": [
    "# __len__\n",
    "\n",
    "class A:\n",
    "    def __init__(self):\n",
    "        self.lst = [45, 89, 12]\n",
    "    def __str__(self):\n",
    "        return str(self.lst)\n",
    "    \n",
    "    def __len__(self):\n",
    "        return len(self.lst)\n",
    "\n",
    "\n",
    "ob=A()\n",
    "print(len(ob))"
   ]
  },
  {
   "cell_type": "code",
   "execution_count": 3,
   "metadata": {},
   "outputs": [
    {
     "name": "stdout",
     "output_type": "stream",
     "text": [
      "89\n",
      "45\n",
      "12\n"
     ]
    }
   ],
   "source": [
    "# dunder method ##getitem\n",
    "class A:\n",
    "    def __init__(self):\n",
    "        self.lst = [45, 89, 12]\n",
    "    def __str__(self):\n",
    "        return str(self.lst)\n",
    "    def __getitem__(self,i):\n",
    "        return self.lst[i] # i is index\n",
    "    \n",
    "ob=A()\n",
    "## print(ob[1]) output: error\n",
    "print(ob[1])\n",
    "print(ob[0])\n",
    "print(ob[2])\n"
   ]
  },
  {
   "cell_type": "code",
   "execution_count": 4,
   "metadata": {},
   "outputs": [
    {
     "name": "stdout",
     "output_type": "stream",
     "text": [
      "13\n",
      "{'lst': [45, 13, 12]}\n"
     ]
    }
   ],
   "source": [
    "# dunder method ##getitem\n",
    "class A:\n",
    "    def __init__(self):\n",
    "        self.lst = [45, 89, 12]\n",
    "    def __str__(self):\n",
    "        return str(self.lst)\n",
    "    def __getitem__(self,i):\n",
    "        return self.lst[i] # i is index\n",
    "    def __setitem__(self,i,v):\n",
    "        self.lst[i]=v\n",
    "    \n",
    "ob=A()\n",
    "## ob[1]=13 print(ob[1]) output: error\n",
    "ob[1]=13\n",
    "print(ob[1])\n",
    "print(ob.__dict__) # 89 wird durch 13 ersetzt\n"
   ]
  },
  {
   "cell_type": "code",
   "execution_count": 12,
   "metadata": {},
   "outputs": [
    {
     "name": "stdout",
     "output_type": "stream",
     "text": [
      "12:23:05\n"
     ]
    }
   ],
   "source": [
    "class Clock:\n",
    "    def __init__(self,h,m,s):\n",
    "        self.h=h\n",
    "        self.m=m\n",
    "        self.s=s\n",
    "    def __str__(self):\n",
    "        return \"{0:02d}:{1:02d}:{2:02d}\".format(self.h,self.m,self.s)\n",
    "\n",
    "ob=Clock(12,23,5)\n",
    "print(ob)\n"
   ]
  },
  {
   "cell_type": "code",
   "execution_count": 10,
   "metadata": {},
   "outputs": [
    {
     "name": "stdout",
     "output_type": "stream",
     "text": [
      "12:23:5\n"
     ]
    }
   ],
   "source": [
    "class Time:\n",
    "    pass\n",
    "\n",
    "T=Time()\n",
    "T.hours=12\n",
    "T.minutes=23\n",
    "T.second=5\n",
    "print(str(T.hours)+\":\"+str(T.minutes)+\":\"+str(T.second))"
   ]
  }
 ],
 "metadata": {
  "kernelspec": {
   "display_name": "python_beginner",
   "language": "python",
   "name": "python3"
  },
  "language_info": {
   "codemirror_mode": {
    "name": "ipython",
    "version": 3
   },
   "file_extension": ".py",
   "mimetype": "text/x-python",
   "name": "python",
   "nbconvert_exporter": "python",
   "pygments_lexer": "ipython3",
   "version": "3.8.2"
  }
 },
 "nbformat": 4,
 "nbformat_minor": 2
}
