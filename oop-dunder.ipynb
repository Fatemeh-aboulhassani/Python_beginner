{
 "cells": [
  {
   "cell_type": "markdown",
   "metadata": {},
   "source": [
    "# dunder ....> double underscore"
   ]
  },
  {
   "cell_type": "code",
   "execution_count": 4,
   "metadata": {},
   "outputs": [],
   "source": [
    "##__init__\n",
    "## __str__\n",
    "\n",
    "class A:\n",
    "    def __init__(self):\n",
    "        self.lst=[45,89,12]\n",
    "\n",
    "    def __str__(self):\n",
    "        return\n",
    "\n",
    "ob=A()\n",
    "#print(ob)"
   ]
  },
  {
   "cell_type": "code",
   "execution_count": 10,
   "metadata": {},
   "outputs": [
    {
     "name": "stdout",
     "output_type": "stream",
     "text": [
      "[45, 89, 12]\n",
      "[45, 89, 12]\n"
     ]
    }
   ],
   "source": [
    "class A:\n",
    "    def __init__(self):\n",
    "        self.lst = [45, 89, 12]\n",
    "\n",
    "    def __str__(self):\n",
    "        return str(self.lst)\n",
    "\n",
    "ob = A()\n",
    "print(ob)  # This will print 'A object with lst: [45, 89, 12]'\n",
    "print(ob.lst)"
   ]
  },
  {
   "cell_type": "code",
   "execution_count": 18,
   "metadata": {},
   "outputs": [],
   "source": [
    "class A:\n",
    "    def __init__(self):\n",
    "        self.lst = [45, 89, 12]\n",
    "    def __str__(self):\n",
    "        return str(self.lst)\n",
    "\n",
    "\n",
    "ob=A()\n",
    "# print(len(ob)) ##output : error\n",
    "\n",
    "\n",
    "\n"
   ]
  },
  {
   "cell_type": "code",
   "execution_count": 19,
   "metadata": {},
   "outputs": [
    {
     "name": "stdout",
     "output_type": "stream",
     "text": [
      "3\n"
     ]
    }
   ],
   "source": [
    "# __len__\n",
    "\n",
    "class A:\n",
    "    def __init__(self):\n",
    "        self.lst = [45, 89, 12]\n",
    "    def __str__(self):\n",
    "        return str(self.lst)\n",
    "    \n",
    "    def __len__(self):\n",
    "        return len(self.lst)\n",
    "\n",
    "\n",
    "ob=A()\n",
    "print(len(ob))"
   ]
  },
  {
   "cell_type": "code",
   "execution_count": 3,
   "metadata": {},
   "outputs": [
    {
     "name": "stdout",
     "output_type": "stream",
     "text": [
      "89\n",
      "45\n",
      "12\n"
     ]
    }
   ],
   "source": [
    "# dunder method ##getitem\n",
    "class A:\n",
    "    def __init__(self):\n",
    "        self.lst = [45, 89, 12]\n",
    "    def __str__(self):\n",
    "        return str(self.lst)\n",
    "    def __getitem__(self,i):\n",
    "        return self.lst[i] # i is index\n",
    "    \n",
    "ob=A()\n",
    "## print(ob[1]) output: error\n",
    "print(ob[1])\n",
    "print(ob[0])\n",
    "print(ob[2])\n"
   ]
  },
  {
   "cell_type": "code",
   "execution_count": 4,
   "metadata": {},
   "outputs": [
    {
     "name": "stdout",
     "output_type": "stream",
     "text": [
      "13\n",
      "{'lst': [45, 13, 12]}\n"
     ]
    }
   ],
   "source": [
    "# dunder method ##getitem\n",
    "class A:\n",
    "    def __init__(self):\n",
    "        self.lst = [45, 89, 12]\n",
    "    def __str__(self):\n",
    "        return str(self.lst)\n",
    "    def __getitem__(self,i):\n",
    "        return self.lst[i] # i is index\n",
    "    def __setitem__(self,i,v):\n",
    "        self.lst[i]=v\n",
    "    \n",
    "ob=A()\n",
    "## ob[1]=13 print(ob[1]) output: error\n",
    "ob[1]=13\n",
    "print(ob[1])\n",
    "print(ob.__dict__) # 89 wird durch 13 ersetzt\n"
   ]
  },
  {
   "cell_type": "code",
   "execution_count": 12,
   "metadata": {},
   "outputs": [
    {
     "name": "stdout",
     "output_type": "stream",
     "text": [
      "12:23:05\n"
     ]
    }
   ],
   "source": [
    "class Clock:\n",
    "    def __init__(self,h,m,s):\n",
    "        self.h=h\n",
    "        self.m=m\n",
    "        self.s=s\n",
    "    def __str__(self):\n",
    "        return \"{0:02d}:{1:02d}:{2:02d}\".format(self.h,self.m,self.s)\n",
    "\n",
    "ob=Clock(12,23,5)\n",
    "print(ob)\n"
   ]
  },
  {
   "cell_type": "code",
   "execution_count": 10,
   "metadata": {},
   "outputs": [
    {
     "name": "stdout",
     "output_type": "stream",
     "text": [
      "12:23:5\n"
     ]
    }
   ],
   "source": [
    "class Time:\n",
    "    pass\n",
    "\n",
    "T=Time()\n",
    "T.hours=12\n",
    "T.minutes=23\n",
    "T.second=5\n",
    "print(str(T.hours)+\":\"+str(T.minutes)+\":\"+str(T.second))"
   ]
  },
  {
   "cell_type": "code",
   "execution_count": 3,
   "metadata": {},
   "outputs": [
    {
     "name": "stdout",
     "output_type": "stream",
     "text": [
      "<__main__.Address object at 0x01249970>\n"
     ]
    }
   ],
   "source": [
    "class Address:\n",
    "    def __init__(self,c,s,z): #city sreet ZIP\n",
    "        self.city=c\n",
    "        self.street=s\n",
    "        self.zip=z\n",
    "\n",
    "\n",
    "\n",
    "a=Address(\"Hamedan\",\"booali\",\"123\")\n",
    "##print(a) output :<__main__.Address object at 0x01249970>"
   ]
  },
  {
   "cell_type": "code",
   "execution_count": 9,
   "metadata": {},
   "outputs": [
    {
     "name": "stdout",
     "output_type": "stream",
     "text": [
      "(city:Hamedan-street:booali-zip:123)\n",
      "(city:Tehran-street:pasdaran-zip:975)\n"
     ]
    }
   ],
   "source": [
    "class Address:\n",
    "    def __init__(self,c,s,z): #city sreet ZIP\n",
    "        self.city=c\n",
    "        self.street=s\n",
    "        self.zip=z\n",
    "    def __str__(self):\n",
    "        return \"(\"+\"city:\" +str(self.city)+\"-\"+\"street:\"+str(self.street)+\"-\"+\"zip:\"+str(self.zip)+\")\"\n",
    "    \n",
    "        \n",
    "        \n",
    "\n",
    "\n",
    "\n",
    "a = Address(\"Hamedan\",\"booali\",\"123\")\n",
    "b=Address(\"Tehran\",\"pasdaran\",\"975\")\n",
    "print(a)\n",
    "print(b)\n",
    "\n"
   ]
  },
  {
   "cell_type": "code",
   "execution_count": 15,
   "metadata": {},
   "outputs": [
    {
     "name": "stdout",
     "output_type": "stream",
     "text": [
      "Hamedan-booali-123\n",
      "Tehran-pasdaran-975\n"
     ]
    }
   ],
   "source": [
    "class Address:\n",
    "    def __init__(self,c,s,z): #city sreet ZIP\n",
    "        self.city=c\n",
    "        self.street=s\n",
    "        self.zip=z\n",
    "    def __str__(self):\n",
    "        return (f'{self.city}-{self.street}-{self.zip}')\n",
    "        \n",
    "        \n",
    "# return (f\"    \")   \n",
    "\n",
    "\n",
    "a = Address(\"Hamedan\",\"booali\",\"123\")\n",
    "b=Address(\"Tehran\",\"pasdaran\",\"975\")\n",
    "print(a)\n",
    "print(b)\n",
    "\n"
   ]
  },
  {
   "cell_type": "code",
   "execution_count": 17,
   "metadata": {},
   "outputs": [
    {
     "name": "stdout",
     "output_type": "stream",
     "text": [
      "12 : 6 : 12\n"
     ]
    }
   ],
   "source": [
    "class time:\n",
    "    def __init__(self,h,m,s):\n",
    "        self.hours=h\n",
    "        self.minutes=m\n",
    "        self.seconds=s\n",
    "    def __str__(self):\n",
    "        return (f\"{self.hours} : {self.minutes} : {self.seconds}\")\n",
    "        # return \"{0:02d}:{1:02d}:{2:02d}\".format(self.h,self.m,self.s)  output:12:06:12\n",
    "                \n",
    "\n",
    "ob=time(12,6,12)\n",
    "print(ob)"
   ]
  },
  {
   "cell_type": "code",
   "execution_count": 20,
   "metadata": {},
   "outputs": [],
   "source": [
    "class Robot:\n",
    "    def __init__(self,n,y):\n",
    "        self.name=n\n",
    "        self.year=y\n",
    "\n",
    "r=Robot(\"rr\",1980)\n",
    "# print(r) output <__main__.Robot object at 0x012B7778>\n",
    "\n",
    "    "
   ]
  },
  {
   "cell_type": "code",
   "execution_count": 22,
   "metadata": {},
   "outputs": [
    {
     "name": "stdout",
     "output_type": "stream",
     "text": [
      "name:rr-year:1985\n"
     ]
    }
   ],
   "source": [
    "class Robot:\n",
    "    def __init__(self,n,y):\n",
    "        self.name=n\n",
    "        self.year=y\n",
    "    def __str__(self):\n",
    "        return \"name:\"+self.name+\"-\"+\"year:\"+str(self.year)\n",
    "    \n",
    "ob=Robot(\"rr\",1985)\n",
    "print(ob)\n"
   ]
  },
  {
   "cell_type": "code",
   "execution_count": 25,
   "metadata": {},
   "outputs": [
    {
     "name": "stdout",
     "output_type": "stream",
     "text": [
      "name: rr - year: 1985\n"
     ]
    }
   ],
   "source": [
    "class Robot:\n",
    "    def __init__(self,n,y):\n",
    "        self.name=n\n",
    "        self.year=y\n",
    "    def __str__(self):\n",
    "        return (f\"name: {self.name} - year: {self.year}\")\n",
    "    \n",
    "ob=Robot(\"rr\",1985)\n",
    "print(ob)\n"
   ]
  },
  {
   "cell_type": "code",
   "execution_count": 32,
   "metadata": {},
   "outputs": [
    {
     "name": "stdout",
     "output_type": "stream",
     "text": [
      "Robot(name='RoboCop', model='XJ-9')\n"
     ]
    }
   ],
   "source": [
    "# __repr__\n",
    "class Robot:\n",
    "    def __init__(self, name, model):\n",
    "        self.name = name\n",
    "        self.model = model\n",
    "\n",
    "    def __repr__(self):\n",
    "        return f\"Robot(name={self.name!r}, model={self.model!r})\"\n",
    "\n",
    "r = Robot(\"RoboCop\", \"XJ-9\")\n",
    "print(repr(r))"
   ]
  },
  {
   "cell_type": "code",
   "execution_count": 43,
   "metadata": {},
   "outputs": [
    {
     "name": "stdout",
     "output_type": "stream",
     "text": [
      "10\n",
      "20\n",
      "50\n",
      "60\n"
     ]
    }
   ],
   "source": [
    "# __call__\n",
    "\n",
    "class C:\n",
    "    def __init__(self,size,x,y):\n",
    "        self.size=size\n",
    "        self.x=x\n",
    "        self.y=y\n",
    "    def __call__(self,x,y):\n",
    "        self.x=x\n",
    "        self.y=y\n",
    "    \n",
    "\n",
    "ob=C(300,10,20)\n",
    "print(ob.x) #output 10\n",
    "print(ob.y) # output 20\n",
    "\n",
    "ob(50,60)\n",
    "print(ob.x)  #output 50\n",
    "print(ob.y) #output 60"
   ]
  },
  {
   "cell_type": "code",
   "execution_count": 49,
   "metadata": {},
   "outputs": [
    {
     "name": "stdout",
     "output_type": "stream",
     "text": [
      "500\n",
      "Robot(size=500, x=10,y=20)\n"
     ]
    }
   ],
   "source": [
    "# __call__\n",
    "\n",
    "class C:\n",
    "    def __init__(self,size,x,y):\n",
    "        self.size=size\n",
    "        self.x=x\n",
    "        self.y=y\n",
    "    def __call__(self,size):\n",
    "        self.size=size\n",
    "    def __repr__(self):\n",
    "        return f\"Robot(size={self.size!r}, x={self.x!r},y={self.y!r})\"\n",
    "\n",
    "    \n",
    "\n",
    "ob=C(300,10,20)\n",
    "ob(500)\n",
    "print(ob.size) \n",
    "print(repr(ob))\n"
   ]
  },
  {
   "cell_type": "code",
   "execution_count": 51,
   "metadata": {},
   "outputs": [
    {
     "name": "stdout",
     "output_type": "stream",
     "text": [
      "(3, 7)\n"
     ]
    }
   ],
   "source": [
    "#overload binary + operator\n",
    "# __add__\n",
    "\n",
    "\n",
    "class complex: #2+3i\n",
    "    def __init__(self,a,b):\n",
    "        self.a=a\n",
    "        self.b=b\n",
    "    def __add__(self,o): # other\n",
    "        x=self.a+o.a\n",
    "        y=self.b+o.b\n",
    "        return x , y\n",
    "    \n",
    "\n",
    "        \n",
    "ob1=complex(1,3)  # 1+3i\n",
    "ob2=complex(2,4)  # 2+4i\n",
    "\n",
    "ob3=ob1+ob2 # 3+7i\n",
    "print(ob3)   # (3,7)"
   ]
  },
  {
   "cell_type": "code",
   "execution_count": 64,
   "metadata": {},
   "outputs": [
    {
     "name": "stdout",
     "output_type": "stream",
     "text": [
      "9+15i\n"
     ]
    }
   ],
   "source": [
    "class complex: #2+3i\n",
    "    def __init__(self,a,b):\n",
    "        self.a=a\n",
    "        self.b=b\n",
    "    def __add__(self,o): # other\n",
    "        x=self.a+o.a\n",
    "        y=self.b+o.b\n",
    "        return complex(x , y)\n",
    "    \n",
    "    def __str__(self):\n",
    "        return (f'{self.a}+{self.b}i')\n",
    "    \n",
    "ob=complex(3,4)\n",
    "ob1=complex(1,2)\n",
    "ob3=complex(5,9)\n",
    "ob4=ob+ob1+ob3\n",
    "print(ob4)"
   ]
  },
  {
   "cell_type": "code",
   "execution_count": 67,
   "metadata": {},
   "outputs": [
    {
     "name": "stdout",
     "output_type": "stream",
     "text": [
      "5\n"
     ]
    }
   ],
   "source": [
    "class Test:\n",
    "    def __init__(self,a):\n",
    "        self.a=a\n",
    "\n",
    "    def __add__(self,o):\n",
    "        return self.a+o.a\n",
    "    \n",
    "\n",
    "ob1=Test(1)\n",
    "ob=Test(4)\n",
    "print(ob1+ob)"
   ]
  },
  {
   "cell_type": "code",
   "execution_count": 81,
   "metadata": {},
   "outputs": [
    {
     "name": "stdout",
     "output_type": "stream",
     "text": [
      "7\n"
     ]
    }
   ],
   "source": [
    "# a=3\n",
    "# b=2\n",
    "# print(a+b)\n",
    "\n",
    "\n",
    "class add:\n",
    "    def __init__(self,a):\n",
    "        self.a=a\n",
    "\n",
    "    def __add__(self,o):\n",
    "        return add(self.a+o.a)\n",
    "\n",
    "    def __str__(self):\n",
    "        return str(self.a)\n",
    "\n",
    "\n",
    "ob=add(3)\n",
    "ob1=add(4)\n",
    "ob3=ob+ob1\n",
    "print(ob3)"
   ]
  },
  {
   "cell_type": "code",
   "execution_count": 82,
   "metadata": {},
   "outputs": [
    {
     "name": "stdout",
     "output_type": "stream",
     "text": [
      "alireza\n"
     ]
    }
   ],
   "source": [
    "# a=3\n",
    "# b=2\n",
    "# print(a+b)\n",
    "\n",
    "\n",
    "class add:\n",
    "    def __init__(self,a):\n",
    "        self.a=a\n",
    "\n",
    "    def __add__(self,o):\n",
    "        return add(self.a+o.a)\n",
    "\n",
    "    def __str__(self):\n",
    "        return str(self.a)\n",
    "\n",
    "\n",
    "ob=add(\"ali\")\n",
    "ob1=add(\"reza\")\n",
    "ob3=ob+ob1\n",
    "print(ob3)"
   ]
  },
  {
   "cell_type": "code",
   "execution_count": 84,
   "metadata": {},
   "outputs": [
    {
     "name": "stdout",
     "output_type": "stream",
     "text": [
      "yes\n"
     ]
    }
   ],
   "source": [
    "# __gt__\n",
    "# __it__ \n",
    "#__eq__\n",
    "\n",
    "\n",
    "class AB:\n",
    "    def __init__(self,a):\n",
    "        self.a=a\n",
    "\n",
    "    def __gt__(self,o):\n",
    "        if (self.a> o.a):\n",
    "            return True\n",
    "        else:\n",
    "            return False\n",
    "        \n",
    "ob1=AB(10)\n",
    "ob2=AB(5)\n",
    "\n",
    "if (ob1> ob2):\n",
    "    print(\"yes\")\n",
    "\n",
    "else:\n",
    "    print(\"no\")"
   ]
  },
  {
   "cell_type": "code",
   "execution_count": 90,
   "metadata": {},
   "outputs": [
    {
     "name": "stdout",
     "output_type": "stream",
     "text": [
      "false\n"
     ]
    }
   ],
   "source": [
    "# __eq__ ==  equal\n",
    "# __ne__ !=  not equal\n",
    "# __lt__ <  less than\n",
    "# __le__ =>  less than or equal to \n",
    "# __gt__ >  greater than\n",
    "\n",
    "class F:\n",
    "    def __init__(self,a):\n",
    "        self.a=a\n",
    "    \n",
    "    def __eq__(self,o):\n",
    "        return self.a==o.a\n",
    "    \n",
    "    def __ne__(self,o):\n",
    "        return self.a != o.a\n",
    "ob1=F(4)\n",
    "ob2=F(4)\n",
    "if (ob1!=ob2):\n",
    "    print(\"True\")\n",
    "else:\n",
    "    print(\"false\")"
   ]
  },
  {
   "cell_type": "code",
   "execution_count": 96,
   "metadata": {},
   "outputs": [
    {
     "name": "stdout",
     "output_type": "stream",
     "text": [
      "23\n"
     ]
    },
    {
     "ename": "TypeError",
     "evalue": "'>' not supported between instances of 'ABC' and 'ABC'",
     "output_type": "error",
     "traceback": [
      "\u001b[1;31m---------------------------------------------------------------------------\u001b[0m",
      "\u001b[1;31mTypeError\u001b[0m                                 Traceback (most recent call last)",
      "Cell \u001b[1;32mIn[96], line 17\u001b[0m\n\u001b[0;32m     14\u001b[0m ob3\u001b[38;5;241m=\u001b[39mob1\u001b[38;5;241m+\u001b[39mob2\n\u001b[0;32m     15\u001b[0m \u001b[38;5;28mprint\u001b[39m(ob3)\n\u001b[1;32m---> 17\u001b[0m \u001b[38;5;28;01mif\u001b[39;00m \u001b[43mob1\u001b[49m\u001b[38;5;241;43m>\u001b[39;49m\u001b[43mob2\u001b[49m:\n\u001b[0;32m     18\u001b[0m     \u001b[38;5;28mprint\u001b[39m(\u001b[38;5;124m\"\u001b[39m\u001b[38;5;124mTrue\u001b[39m\u001b[38;5;124m\"\u001b[39m)\n\u001b[0;32m     19\u001b[0m \u001b[38;5;28;01melse\u001b[39;00m:\n",
      "\u001b[1;31mTypeError\u001b[0m: '>' not supported between instances of 'ABC' and 'ABC'"
     ]
    }
   ],
   "source": [
    "class ABC:\n",
    "    def __init__(self,a):\n",
    "        self.a=a\n",
    "    def __add__(self,o):\n",
    "        return add(self.a+o.a)\n",
    "    def __str__(self):\n",
    "        return str(self.a)\n",
    "    \n",
    "    def __gt__(self,o):\n",
    "        if self.a > o.a:\n",
    "            return (\"T\")\n",
    "        else:\n",
    "            return (\"F\")   \n",
    "\n",
    "\n",
    "ob1=ABC(5)\n",
    "ob2=ABC(18)\n",
    "ob3=ob1+ob2\n",
    "print(ob3)\n",
    "\n",
    "if ob1>ob2:\n",
    "    print(\"True\")\n",
    "else:\n",
    "    print(\"False\")"
   ]
  }
 ],
 "metadata": {
  "kernelspec": {
   "display_name": "python_beginner",
   "language": "python",
   "name": "python3"
  },
  "language_info": {
   "codemirror_mode": {
    "name": "ipython",
    "version": 3
   },
   "file_extension": ".py",
   "mimetype": "text/x-python",
   "name": "python",
   "nbconvert_exporter": "python",
   "pygments_lexer": "ipython3",
   "version": "3.8.2"
  }
 },
 "nbformat": 4,
 "nbformat_minor": 2
}
