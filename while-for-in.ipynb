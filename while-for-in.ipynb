{
 "cells": [
  {
   "cell_type": "code",
   "execution_count": 9,
   "metadata": {},
   "outputs": [
    {
     "name": "stdout",
     "output_type": "stream",
     "text": [
      "current date and time is:  2024-07-07 23:31:17\n"
     ]
    }
   ],
   "source": [
    "import datetime\n",
    "now = datetime.datetime.now()\n",
    "print(\"current date and time is: \",now.strftime(\"%Y-%m-%d %H:%M:%S\"))"
   ]
  },
  {
   "cell_type": "code",
   "execution_count": 5,
   "metadata": {},
   "outputs": [
    {
     "name": "stdout",
     "output_type": "stream",
     "text": [
      "10\n",
      "9\n",
      "8\n",
      "7\n",
      "6\n",
      "5\n",
      "4\n",
      "3\n",
      "2\n",
      "1\n"
     ]
    }
   ],
   "source": [
    "num=10\n",
    "\n",
    "while num>0:\n",
    "    print(num)\n",
    "    num=num-1\n",
    "\n",
    "## print to infinity"
   ]
  },
  {
   "cell_type": "code",
   "execution_count": 3,
   "metadata": {},
   "outputs": [
    {
     "name": "stdout",
     "output_type": "stream",
     "text": [
      "today is :  saturday\n",
      "today is :  sunday\n",
      "today is :  monday\n",
      "today is :  tuesday\n",
      "today is :  wendesday\n",
      "today is :  tursday\n",
      "today is :  friday\n",
      "End!\n"
     ]
    }
   ],
   "source": [
    "Day=[\"saturday\",\"sunday\",\"monday\",\"tuesday\",\"wendesday\",\"tursday\",\"friday\"]\n",
    "count=0\n",
    "while count<=6:\n",
    "    print(\"today is : \",Day[count])\n",
    "    count=count+1\n",
    "print(\"End!\")\n"
   ]
  }
 ],
 "metadata": {
  "kernelspec": {
   "display_name": "python_beginner",
   "language": "python",
   "name": "python3"
  },
  "language_info": {
   "codemirror_mode": {
    "name": "ipython",
    "version": 3
   },
   "file_extension": ".py",
   "mimetype": "text/x-python",
   "name": "python",
   "nbconvert_exporter": "python",
   "pygments_lexer": "ipython3",
   "version": "3.8.2"
  }
 },
 "nbformat": 4,
 "nbformat_minor": 2
}
