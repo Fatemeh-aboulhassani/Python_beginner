{
 "cells": [
  {
   "cell_type": "markdown",
   "metadata": {},
   "source": [
    "# Set {}"
   ]
  },
  {
   "cell_type": "code",
   "execution_count": 6,
   "metadata": {},
   "outputs": [
    {
     "name": "stdout",
     "output_type": "stream",
     "text": [
      "<class 'set'>\n",
      "<class 'dict'>\n",
      "19\n"
     ]
    }
   ],
   "source": [
    "set1={2,3,5,7}\n",
    "dic1={\"math\":19,\"english\":10}\n",
    "print(type(set1))\n",
    "print(type(dic1))\n",
    "\n",
    "# print(set1[0])...> error\n",
    "\n",
    "print(dic1[\"math\"])"
   ]
  },
  {
   "cell_type": "code",
   "execution_count": 13,
   "metadata": {},
   "outputs": [
    {
     "name": "stdout",
     "output_type": "stream",
     "text": [
      "<class 'list'>\n",
      "alphabet =  {'b', 'd', 'a', 'c'}\n",
      "<class 'set'>\n"
     ]
    },
    {
     "ename": "TypeError",
     "evalue": "'set' object is not subscriptable",
     "output_type": "error",
     "traceback": [
      "\u001b[1;31m---------------------------------------------------------------------------\u001b[0m",
      "\u001b[1;31mTypeError\u001b[0m                                 Traceback (most recent call last)",
      "Cell \u001b[1;32mIn[13], line 9\u001b[0m\n\u001b[0;32m      6\u001b[0m \u001b[38;5;28mprint\u001b[39m(\u001b[38;5;124m\"\u001b[39m\u001b[38;5;124malphabet = \u001b[39m\u001b[38;5;124m\"\u001b[39m, alphabet)\n\u001b[0;32m      7\u001b[0m \u001b[38;5;28mprint\u001b[39m(\u001b[38;5;28mtype\u001b[39m(alphabet))\n\u001b[1;32m----> 9\u001b[0m \u001b[38;5;28mprint\u001b[39m(\u001b[43malphabet\u001b[49m\u001b[43m[\u001b[49m\u001b[38;5;241;43m0\u001b[39;49m\u001b[43m]\u001b[49m)\n",
      "\u001b[1;31mTypeError\u001b[0m: 'set' object is not subscriptable"
     ]
    }
   ],
   "source": [
    "alphabet=[\"a\",\"b\",\"c\",\"d\"] \n",
    "print(type(alphabet)) # list\n",
    "\n",
    "# list to set\n",
    "alphabet=set(alphabet)\n",
    "print(\"alphabet = \", alphabet)\n",
    "print(type(alphabet))\n",
    "\n",
    "print(alphabet[0])  # error because set dont have index\n",
    "\n"
   ]
  },
  {
   "cell_type": "markdown",
   "metadata": {},
   "source": [
    "# methods in set"
   ]
  },
  {
   "cell_type": "code",
   "execution_count": 31,
   "metadata": {},
   "outputs": [
    {
     "name": "stdout",
     "output_type": "stream",
     "text": [
      "{'python', 'java', 'c++'}\n",
      "{'python', 'java', 'c++', 'c'}\n",
      "{'python', 'c++', 'c'}\n",
      "{'python', 'java', 'c++', 'c'}\n",
      "{'java', 'c++', 'c'}\n",
      "{'java', 'c++', 'c'}\n",
      "set()\n"
     ]
    }
   ],
   "source": [
    "program={\"java\",\"python\",\"c++\"}\n",
    "program1=program.copy()\n",
    "print(program1)\n",
    "\n",
    "program.add(\"c\")\n",
    "print(program)\n",
    "\n",
    "program.remove(\"java\")\n",
    "print(program)\n",
    "\n",
    "program.add(\"java\")\n",
    "print(program)\n",
    "\n",
    "program.discard(\"python\")\n",
    "print(program)\n",
    "\n",
    "#  the remove() method will raise an error if the specified item does not exist, and the discard() method will not\n",
    "\n",
    "program.discard(\"C\")   # there is not \"C\" in program but i dont get error\n",
    "print(program)\n",
    "\n",
    "\n",
    "program.clear()\n",
    "print(program)   # result= {}\n",
    "\n",
    "\n",
    "\n"
   ]
  },
  {
   "cell_type": "markdown",
   "metadata": {},
   "source": [
    "# The pop() method removes a random item from the set"
   ]
  },
  {
   "cell_type": "code",
   "execution_count": null,
   "metadata": {},
   "outputs": [],
   "source": []
  }
 ],
 "metadata": {
  "kernelspec": {
   "display_name": "python_beginner",
   "language": "python",
   "name": "python3"
  },
  "language_info": {
   "codemirror_mode": {
    "name": "ipython",
    "version": 3
   },
   "file_extension": ".py",
   "mimetype": "text/x-python",
   "name": "python",
   "nbconvert_exporter": "python",
   "pygments_lexer": "ipython3",
   "version": "3.8.2"
  }
 },
 "nbformat": 4,
 "nbformat_minor": 2
}
