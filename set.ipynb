{
 "cells": [
  {
   "cell_type": "markdown",
   "metadata": {},
   "source": [
    "# Set {}"
   ]
  },
  {
   "cell_type": "code",
   "execution_count": 6,
   "metadata": {},
   "outputs": [
    {
     "name": "stdout",
     "output_type": "stream",
     "text": [
      "<class 'set'>\n",
      "<class 'dict'>\n",
      "19\n"
     ]
    }
   ],
   "source": [
    "set1={2,3,5,7}\n",
    "dic1={\"math\":19,\"english\":10}\n",
    "print(type(set1))\n",
    "print(type(dic1))\n",
    "\n",
    "# print(set1[0])...> error\n",
    "\n",
    "print(dic1[\"math\"])"
   ]
  },
  {
   "cell_type": "code",
   "execution_count": 13,
   "metadata": {},
   "outputs": [
    {
     "name": "stdout",
     "output_type": "stream",
     "text": [
      "<class 'list'>\n",
      "alphabet =  {'b', 'd', 'a', 'c'}\n",
      "<class 'set'>\n"
     ]
    },
    {
     "ename": "TypeError",
     "evalue": "'set' object is not subscriptable",
     "output_type": "error",
     "traceback": [
      "\u001b[1;31m---------------------------------------------------------------------------\u001b[0m",
      "\u001b[1;31mTypeError\u001b[0m                                 Traceback (most recent call last)",
      "Cell \u001b[1;32mIn[13], line 9\u001b[0m\n\u001b[0;32m      6\u001b[0m \u001b[38;5;28mprint\u001b[39m(\u001b[38;5;124m\"\u001b[39m\u001b[38;5;124malphabet = \u001b[39m\u001b[38;5;124m\"\u001b[39m, alphabet)\n\u001b[0;32m      7\u001b[0m \u001b[38;5;28mprint\u001b[39m(\u001b[38;5;28mtype\u001b[39m(alphabet))\n\u001b[1;32m----> 9\u001b[0m \u001b[38;5;28mprint\u001b[39m(\u001b[43malphabet\u001b[49m\u001b[43m[\u001b[49m\u001b[38;5;241;43m0\u001b[39;49m\u001b[43m]\u001b[49m)\n",
      "\u001b[1;31mTypeError\u001b[0m: 'set' object is not subscriptable"
     ]
    }
   ],
   "source": [
    "alphabet=[\"a\",\"b\",\"c\",\"d\"] \n",
    "print(type(alphabet)) # list\n",
    "\n",
    "# list to set\n",
    "alphabet=set(alphabet)\n",
    "print(\"alphabet = \", alphabet)\n",
    "print(type(alphabet))\n",
    "\n",
    "print(alphabet[0])  # error because set dont have index\n",
    "\n"
   ]
  },
  {
   "cell_type": "markdown",
   "metadata": {},
   "source": [
    "# methods in set"
   ]
  },
  {
   "cell_type": "code",
   "execution_count": 31,
   "metadata": {},
   "outputs": [
    {
     "name": "stdout",
     "output_type": "stream",
     "text": [
      "{'python', 'java', 'c++'}\n",
      "{'python', 'java', 'c++', 'c'}\n",
      "{'python', 'c++', 'c'}\n",
      "{'python', 'java', 'c++', 'c'}\n",
      "{'java', 'c++', 'c'}\n",
      "{'java', 'c++', 'c'}\n",
      "set()\n"
     ]
    }
   ],
   "source": [
    "program={\"java\",\"python\",\"c++\"}\n",
    "program1=program.copy()\n",
    "print(program1)\n",
    "\n",
    "program.add(\"c\")\n",
    "print(program)\n",
    "\n",
    "program.remove(\"java\")\n",
    "print(program)\n",
    "\n",
    "program.add(\"java\")\n",
    "print(program)\n",
    "\n",
    "program.discard(\"python\")\n",
    "print(program)\n",
    "\n",
    "#  the remove() method will raise an error if the specified item does not exist, and the discard() method will not\n",
    "\n",
    "program.discard(\"C\")   # there is not \"C\" in program but i dont get error\n",
    "print(program)\n",
    "\n",
    "\n",
    "program.clear()\n",
    "print(program)   # result= {}\n",
    "\n",
    "\n",
    "\n"
   ]
  },
  {
   "cell_type": "markdown",
   "metadata": {},
   "source": [
    "# The pop() method removes a random item from the set"
   ]
  },
  {
   "cell_type": "code",
   "execution_count": 37,
   "metadata": {},
   "outputs": [
    {
     "data": {
      "text/plain": [
       "set()"
      ]
     },
     "execution_count": 37,
     "metadata": {},
     "output_type": "execute_result"
    }
   ],
   "source": [
    "program = {'python', 'java', 'c++', 'c'}\n",
    "program.pop()\n",
    "program\n",
    "program.pop()\n",
    "program\n",
    "program.pop()\n",
    "program.pop()\n",
    "program"
   ]
  },
  {
   "cell_type": "markdown",
   "metadata": {},
   "source": [
    "#update mathod"
   ]
  },
  {
   "cell_type": "code",
   "execution_count": 38,
   "metadata": {},
   "outputs": [
    {
     "data": {
      "text/plain": [
       "{'c', 'c++', 'd', 'e', 'java', 'o', 'python', 's', 'v'}"
      ]
     },
     "execution_count": 38,
     "metadata": {},
     "output_type": "execute_result"
    }
   ],
   "source": [
    "program ={'python', 'java', 'c++', 'c'}\n",
    "program.update(\"vscode\")\n",
    "program"
   ]
  },
  {
   "cell_type": "code",
   "execution_count": 40,
   "metadata": {},
   "outputs": [
    {
     "name": "stdout",
     "output_type": "stream",
     "text": [
      "{'n', 'g', 'a', 'cherry', 'apple', 'o', 'banana', 'r', 'e'}\n"
     ]
    }
   ],
   "source": [
    "x = {\"apple\", \"banana\", \"cherry\"}\n",
    "y = {\"google\", \"microsoft\", \"apple\"}\n",
    "\n",
    "x.update(\"orange\")\n",
    "\n",
    "print(x)"
   ]
  },
  {
   "cell_type": "code",
   "execution_count": 42,
   "metadata": {},
   "outputs": [
    {
     "name": "stdout",
     "output_type": "stream",
     "text": [
      "{'apple', 'microsoft', 'google', 'banana', 'micra', 'bluebird', 'cherry'}\n",
      "<class 'set'>\n"
     ]
    }
   ],
   "source": [
    "x = {\"apple\", \"banana\", \"cherry\"}\n",
    "y = {\"google\", \"microsoft\", \"apple\"}\n",
    "z = {\"cherry\", \"micra\", \"bluebird\"}\n",
    "\n",
    "x.update(y, z)\n",
    "\n",
    "print(x)\n",
    "print(type(x))\n",
    "\n",
    "#the update() method updates the current set, by adding items from another set "
   ]
  },
  {
   "cell_type": "markdown",
   "metadata": {},
   "source": [
    "# name.difference(x)"
   ]
  },
  {
   "cell_type": "code",
   "execution_count": 55,
   "metadata": {},
   "outputs": [
    {
     "name": "stdout",
     "output_type": "stream",
     "text": [
      "{'cherry', 'banana'}\n",
      "{'microsoft', 'google'}\n",
      "{'micra', 'bluebird'}\n",
      "{'apple', 'banana'}\n",
      "{'cherry', 'microsoft', 'google', 'banana'}\n",
      "{'micra', 'bluebird', 'apple', 'banana'}\n",
      "{'micra', 'bluebird', 'cherry', 'microsoft', 'google', 'apple'}\n"
     ]
    }
   ],
   "source": [
    "x = {\"apple\", \"banana\", \"cherry\"}\n",
    "y = {\"google\", \"microsoft\", \"apple\"}\n",
    "z = {\"cherry\", \"micra\", \"bluebird\"}\n",
    "\n",
    "print(x.difference(y))\n",
    "print(y.difference(x))\n",
    "print(z.difference(x))\n",
    "print(x.difference(z))\n",
    "\n",
    "\n",
    "print(x.symmetric_difference(y))\n",
    "print(x.symmetric_difference(z))\n",
    "print(y.symmetric_difference(z))"
   ]
  },
  {
   "cell_type": "markdown",
   "metadata": {},
   "source": [
    "# name.intersection(x)"
   ]
  },
  {
   "cell_type": "code",
   "execution_count": 49,
   "metadata": {},
   "outputs": [
    {
     "name": "stdout",
     "output_type": "stream",
     "text": [
      "{'apple'}\n",
      "set()\n",
      "{'cherry'}\n"
     ]
    }
   ],
   "source": [
    "x = {\"apple\", \"banana\", \"cherry\"}\n",
    "y = {\"google\", \"microsoft\", \"apple\"}\n",
    "z = {\"cherry\", \"micra\", \"bluebird\"}\n",
    "\n",
    "print(x.intersection(y))\n",
    "print(y.intersection(z))\n",
    "print(z.intersection(x))"
   ]
  },
  {
   "cell_type": "markdown",
   "metadata": {},
   "source": [
    "# name.union(x)\n"
   ]
  },
  {
   "cell_type": "code",
   "execution_count": 51,
   "metadata": {},
   "outputs": [
    {
     "name": "stdout",
     "output_type": "stream",
     "text": [
      "{'apple', 'microsoft', 'google', 'banana', 'cherry'}\n",
      "{'microsoft', 'google', 'apple', 'micra', 'bluebird', 'cherry'}\n"
     ]
    }
   ],
   "source": [
    "x = {\"apple\", \"banana\", \"cherry\"}\n",
    "y = {\"google\", \"microsoft\", \"apple\"}\n",
    "z = {\"cherry\", \"micra\", \"bluebird\"}\n",
    "\n",
    "\n",
    "print(x.union(y))\n",
    "print(y.union(z))"
   ]
  },
  {
   "cell_type": "code",
   "execution_count": 52,
   "metadata": {},
   "outputs": [
    {
     "data": {
      "text/plain": [
       "False"
      ]
     },
     "execution_count": 52,
     "metadata": {},
     "output_type": "execute_result"
    }
   ],
   "source": [
    "x = {\"apple\", \"banana\", \"cherry\"}\n",
    "y = {\"google\", \"microsoft\", \"apple\"}\n",
    "z = {\"cherry\", \"micra\", \"bluebird\"}\n",
    "\n",
    "print(x.isdisjoint(y)) #...> there is \"apple\" in x and y\n"
   ]
  },
  {
   "cell_type": "code",
   "execution_count": 70,
   "metadata": {},
   "outputs": [
    {
     "name": "stdout",
     "output_type": "stream",
     "text": [
      "{'cherry', 'microsoft', 'google', 'banana'}\n",
      "{'apple', 'microsoft', 'google', 'banana', 'cherry'}\n",
      "{'apple'}\n"
     ]
    },
    {
     "ename": "AttributeError",
     "evalue": "'NoneType' object has no attribute 'difference'",
     "output_type": "error",
     "traceback": [
      "\u001b[1;31m---------------------------------------------------------------------------\u001b[0m",
      "\u001b[1;31mAttributeError\u001b[0m                            Traceback (most recent call last)",
      "Cell \u001b[1;32mIn[70], line 11\u001b[0m\n\u001b[0;32m      9\u001b[0m a\u001b[38;5;241m=\u001b[39m \u001b[38;5;28mprint\u001b[39m(x\u001b[38;5;241m.\u001b[39munion(y))\n\u001b[0;32m     10\u001b[0m b\u001b[38;5;241m=\u001b[39m\u001b[38;5;28mprint\u001b[39m(x\u001b[38;5;241m.\u001b[39mintersection(y))\n\u001b[1;32m---> 11\u001b[0m symmetric_differencexy\u001b[38;5;241m=\u001b[39m\u001b[43ma\u001b[49m\u001b[38;5;241;43m.\u001b[39;49m\u001b[43mdifference\u001b[49m(b)\n",
      "\u001b[1;31mAttributeError\u001b[0m: 'NoneType' object has no attribute 'difference'"
     ]
    }
   ],
   "source": [
    "x = {\"apple\", \"banana\", \"cherry\"}\n",
    "y = {\"google\", \"microsoft\", \"apple\"}\n",
    "\n",
    "\n",
    "\n",
    "\n",
    "\n",
    "\n",
    "\n",
    "\n",
    "\n",
    "\n",
    "\n",
    "\n"
   ]
  }
 ],
 "metadata": {
  "kernelspec": {
   "display_name": "python_beginner",
   "language": "python",
   "name": "python3"
  },
  "language_info": {
   "codemirror_mode": {
    "name": "ipython",
    "version": 3
   },
   "file_extension": ".py",
   "mimetype": "text/x-python",
   "name": "python",
   "nbconvert_exporter": "python",
   "pygments_lexer": "ipython3",
   "version": "3.8.2"
  }
 },
 "nbformat": 4,
 "nbformat_minor": 2
}
