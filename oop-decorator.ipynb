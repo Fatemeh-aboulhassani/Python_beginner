{
 "cells": [
  {
   "cell_type": "code",
   "execution_count": 1,
   "metadata": {},
   "outputs": [
    {
     "name": "stdout",
     "output_type": "stream",
     "text": [
      "before\n",
      "hello\n",
      "after\n"
     ]
    }
   ],
   "source": [
    "# class method \n",
    "# decorator\n",
    "\n",
    "def d(func): # decorator   # function\n",
    "    def wrapper():\n",
    "        print(\"before\")  \n",
    "        func()\n",
    "        print(\"after\")\n",
    "    return wrapper\n",
    "\n",
    "def f():\n",
    "    print(\"hello\")\n",
    "\n",
    "\n",
    "x=d(f)\n",
    "x()    # before hello after\n"
   ]
  },
  {
   "cell_type": "code",
   "execution_count": 3,
   "metadata": {},
   "outputs": [
    {
     "name": "stdout",
     "output_type": "stream",
     "text": [
      "before\n",
      "hello\n",
      "after\n"
     ]
    }
   ],
   "source": [
    "\n",
    "\n",
    "def d(func): \n",
    "    def wrapper():\n",
    "        print(\"before\")  \n",
    "        func()\n",
    "        print(\"after\")\n",
    "    return wrapper\n",
    "@d\n",
    "def f():\n",
    "    print(\"hello\")\n",
    "\n",
    "\n",
    "f()"
   ]
  }
 ],
 "metadata": {
  "kernelspec": {
   "display_name": "python_beginner",
   "language": "python",
   "name": "python3"
  },
  "language_info": {
   "codemirror_mode": {
    "name": "ipython",
    "version": 3
   },
   "file_extension": ".py",
   "mimetype": "text/x-python",
   "name": "python",
   "nbconvert_exporter": "python",
   "pygments_lexer": "ipython3",
   "version": "3.8.2"
  }
 },
 "nbformat": 4,
 "nbformat_minor": 2
}
