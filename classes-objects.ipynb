{
 "cells": [
  {
   "cell_type": "markdown",
   "metadata": {},
   "source": [
    "# classes and objects"
   ]
  },
  {
   "cell_type": "code",
   "execution_count": 3,
   "metadata": {},
   "outputs": [
    {
     "name": "stdout",
     "output_type": "stream",
     "text": [
      "python\n",
      "1372\n",
      "java\n"
     ]
    }
   ],
   "source": [
    "## class name:\n",
    "\n",
    "\n",
    "class program:\n",
    "    Name = \"\"\n",
    "    ID = 0\n",
    "\n",
    "\n",
    "Lang = program()\n",
    "Lang.Name=\"python\"\n",
    "Lang.ID=1372\n",
    "print(Lang.Name)\n",
    "print(Lang.ID)\n",
    "\n",
    "Lang2=program()\n",
    "Lang2.Name=\"java\"\n",
    "Lang2.ID=3387\n",
    "print(Lang2.Name)\n",
    "print(Lang2.ID)\n",
    "\n"
   ]
  },
  {
   "cell_type": "code",
   "execution_count": 1,
   "metadata": {},
   "outputs": [
    {
     "name": "stdout",
     "output_type": "stream",
     "text": [
      "current date and time is :  2024-07-09 11:42:46\n"
     ]
    }
   ],
   "source": [
    "import datetime\n",
    "now=datetime.datetime.now()\n",
    "print(\"current date and time is : \",now.strftime(\"%Y-%m-%d %H:%M:%S\"))"
   ]
  },
  {
   "cell_type": "code",
   "execution_count": 2,
   "metadata": {},
   "outputs": [
    {
     "name": "stdout",
     "output_type": "stream",
     "text": [
      "13:43:10\n"
     ]
    }
   ],
   "source": [
    "class Time:\n",
    "    pass\n",
    "\n",
    "T=Time()\n",
    "T.hours=13\n",
    "T.minutes=43\n",
    "T.second=10\n",
    "print(str(T.hours)+\":\"+str(T.minutes)+\":\"+str(T.second))"
   ]
  },
  {
   "cell_type": "code",
   "execution_count": 6,
   "metadata": {},
   "outputs": [
    {
     "name": "stdout",
     "output_type": "stream",
     "text": [
      "15:45:05\n"
     ]
    }
   ],
   "source": [
    "class Time:\n",
    "    pass\n",
    "\n",
    "T=Time()\n",
    "T.hours=15\n",
    "T.minutes=45\n",
    "T.second=5\n",
    "print(str(T.hours)+\":\"+str(T.minutes)+\":0\"+str(T.second))"
   ]
  },
  {
   "cell_type": "code",
   "execution_count": 14,
   "metadata": {},
   "outputs": [
    {
     "name": "stdout",
     "output_type": "stream",
     "text": [
      "13:15:5\n",
      "None\n"
     ]
    }
   ],
   "source": [
    "class Time:\n",
    "    pass\n",
    "\n",
    "def timeprint(t):\n",
    "    print(str(t.hours)+\":\"+str(t.minutes)+\":\"+str(t.second))\n",
    "\n",
    "t=Time()\n",
    "t.hours=13\n",
    "t.minutes=15\n",
    "t.second=5\n",
    "print(timeprint(t))"
   ]
  },
  {
   "cell_type": "code",
   "execution_count": 7,
   "metadata": {},
   "outputs": [
    {
     "name": "stdout",
     "output_type": "stream",
     "text": [
      "13:43:10\n",
      "None\n"
     ]
    }
   ],
   "source": [
    "class Time:\n",
    "    pass\n",
    "\n",
    "def timeprint(tt):\n",
    "    print(str(tt.hours)+\":\"+str(tt.minutes)+\":\"+str(tt.second))\n",
    "\n",
    "time1=Time()\n",
    "time1.hours=13\n",
    "time1.minutes=43\n",
    "time1.second=10\n",
    "print(timeprint(time1))"
   ]
  },
  {
   "cell_type": "code",
   "execution_count": 16,
   "metadata": {},
   "outputs": [
    {
     "name": "stdout",
     "output_type": "stream",
     "text": [
      "(2,5)\n"
     ]
    }
   ],
   "source": [
    "class coordinates:\n",
    "    pass\n",
    "\n",
    "p1=coordinates()\n",
    "p1.x=2\n",
    "p1.y=5  \n",
    "# output (2,5)\n",
    "print(\"(\"+str(p1.x)+\",\"+str(p1.y)+\")\")"
   ]
  },
  {
   "cell_type": "code",
   "execution_count": 2,
   "metadata": {},
   "outputs": [
    {
     "data": {
      "text/plain": [
       "False"
      ]
     },
     "execution_count": 2,
     "metadata": {},
     "output_type": "execute_result"
    }
   ],
   "source": [
    "class coordinates:\n",
    "    pass\n",
    "\n",
    "p1=coordinates()\n",
    "p1.x=4\n",
    "p1.y=8\n",
    "p2=coordinates()\n",
    "p2.x=4\n",
    "p2.y=8\n",
    "\n",
    "p1==p2  \n",
    "# because they are two differet objects"
   ]
  },
  {
   "cell_type": "code",
   "execution_count": 4,
   "metadata": {},
   "outputs": [
    {
     "data": {
      "text/plain": [
       "False"
      ]
     },
     "execution_count": 4,
     "metadata": {},
     "output_type": "execute_result"
    }
   ],
   "source": [
    "class coordinates:\n",
    "    pass\n",
    "\n",
    "def samecoordinates(p1,p2):\n",
    "    return(p1.x==p2.x) and (p1.y==p2.y)\n",
    "\n",
    "\n",
    "\n",
    "p1=coordinates()\n",
    "p1.x=3\n",
    "p1.y=5\n",
    "p2=coordinates()\n",
    "p2.x=3\n",
    "p2.y=6\n",
    "samecoordinates(p1,p2)\n",
    "\n"
   ]
  }
 ],
 "metadata": {
  "kernelspec": {
   "display_name": "python_beginner",
   "language": "python",
   "name": "python3"
  },
  "language_info": {
   "codemirror_mode": {
    "name": "ipython",
    "version": 3
   },
   "file_extension": ".py",
   "mimetype": "text/x-python",
   "name": "python",
   "nbconvert_exporter": "python",
   "pygments_lexer": "ipython3",
   "version": "3.8.2"
  }
 },
 "nbformat": 4,
 "nbformat_minor": 2
}
