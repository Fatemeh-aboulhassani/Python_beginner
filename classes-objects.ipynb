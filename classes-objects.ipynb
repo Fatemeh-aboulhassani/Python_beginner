{
 "cells": [
  {
   "cell_type": "markdown",
   "metadata": {},
   "source": [
    "# classes and objects"
   ]
  },
  {
   "cell_type": "code",
   "execution_count": 3,
   "metadata": {},
   "outputs": [
    {
     "name": "stdout",
     "output_type": "stream",
     "text": [
      "python\n",
      "1372\n",
      "java\n"
     ]
    }
   ],
   "source": [
    "## class name:\n",
    "\n",
    "\n",
    "class program:\n",
    "    Name = \"\"\n",
    "    ID = 0\n",
    "\n",
    "\n",
    "Lang = program()\n",
    "Lang.Name=\"python\"\n",
    "Lang.ID=1372\n",
    "print(Lang.Name)\n",
    "print(Lang.ID)\n",
    "\n",
    "Lang2=program()\n",
    "Lang2.Name=\"java\"\n",
    "Lang2.ID=3387\n",
    "print(Lang2.Name)\n",
    "print(Lang2.ID)\n",
    "\n"
   ]
  },
  {
   "cell_type": "code",
   "execution_count": null,
   "metadata": {},
   "outputs": [],
   "source": []
  }
 ],
 "metadata": {
  "kernelspec": {
   "display_name": "python_beginner",
   "language": "python",
   "name": "python3"
  },
  "language_info": {
   "codemirror_mode": {
    "name": "ipython",
    "version": 3
   },
   "file_extension": ".py",
   "mimetype": "text/x-python",
   "name": "python",
   "nbconvert_exporter": "python",
   "pygments_lexer": "ipython3",
   "version": "3.8.2"
  }
 },
 "nbformat": 4,
 "nbformat_minor": 2
}
